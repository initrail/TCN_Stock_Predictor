{
 "cells": [
  {
   "cell_type": "markdown",
   "metadata": {},
   "source": [
    "# Using a Temporal Convolutional Network for Daytrading\n",
    "## Daniel Kalam, Sharvita Paithankar"
   ]
  },
  {
   "cell_type": "code",
   "execution_count": 389,
   "metadata": {},
   "outputs": [],
   "source": [
    "import tensorflow as tf\n",
    "from sklearn.preprocessing import StandardScaler\n",
    "from tensorflow.keras import Model\n",
    "from tensorflow.keras.layers import Layer, Conv1D, Dropout, Dense, Activation, BatchNormalization\n",
    "from tensorflow.keras.losses import CategoricalCrossentropy\n",
    "import pandas as pd\n",
    "from pandas_datareader import DataReader\n",
    "import numpy as np\n",
    "import matplotlib.pyplot as plt\n",
    "import datetime"
   ]
  },
  {
   "cell_type": "markdown",
   "metadata": {},
   "source": [
    "## Gathering Data\n",
    "Getting data for 100 stocks in the date range of April 2nd, 2018 to October 9th, 2020 from yahoo finance."
   ]
  },
  {
   "cell_type": "code",
   "execution_count": 390,
   "metadata": {
    "scrolled": true
   },
   "outputs": [],
   "source": [
    "symbols = ['AAPL', 'TSLA', 'FB', 'ROKU']# , 'BRK', 'GOOGL', 'INTC', 'AMD', 'HPE', 'ZM',\n",
    "          #'CAKE', 'AET', 'F', 'KO', 'DDS', 'NVDA', 'NFLX', 'JPM', 'AMZN', 'MSFT']\n",
    "#TODO: Add 80 more symbols.\n",
    "source = 'yahoo'\n",
    "start_date = pd.to_datetime('2019-10-09')\n",
    "end_date = pd.to_datetime('2020-10-09')\n",
    "stock_data_training = {}\n",
    "for symbol in symbols:\n",
    "    stock_data_training[symbol] = DataReader(symbol, source, start_date, end_date)\n",
    "symbols2 = ['NFLX', 'ZM', 'AMZN', 'MSFT']\n",
    "stock_data_validation = {}\n",
    "for symbol in symbols2:\n",
    "    stock_data_validation[symbol] = DataReader(symbol, source, start_date, end_date)"
   ]
  },
  {
   "cell_type": "markdown",
   "metadata": {},
   "source": [
    "Create a data frame for each column in a stock's data frame."
   ]
  },
  {
   "cell_type": "code",
   "execution_count": 391,
   "metadata": {},
   "outputs": [],
   "source": [
    "stock_training_input = np.empty((20, 254, 1))\n",
    "stock_training_output = np.zeros((20, 254, 2))\n",
    "stock_validation_input = np.empty((20, 254, 1))\n",
    "stock_validation_output = np.zeros((20, 254, 2))\n",
    "i = 0\n",
    "scaler = StandardScaler()\n",
    "for symbol in stock_data_training:\n",
    "    close_data = stock_data_training[symbol].Close\n",
    "    open_data = stock_data_training[symbol].Open\n",
    "    #stock_data[symbol].drop(axis= 1, columns = ['Close', 'High', 'Low', 'Volume', 'Adj Close'], inplace = True)\n",
    "    stock_np = stock_data_training[symbol].Open.to_numpy().reshape(254, 1)\n",
    "    stock_np = scaler.fit_transform(stock_np)\n",
    "    #if stock_np.shape == stock_training_data_input[i].shape:\n",
    "    stock_training_input[i, :, :] = stock_np[:, :]\n",
    "    for j in range(0, len(close_data)):\n",
    "        if close_data[j] > open_data[j]:\n",
    "            stock_training_output[i, j, 0] = 1\n",
    "            stock_training_output[i, j, 1] = 0\n",
    "        else:\n",
    "            stock_training_output[i, j, 0] = 0\n",
    "            stock_training_output[i, j, 1] = 1\n",
    "    i+=1\n",
    "for symbol in stock_data_validation:\n",
    "    close_data = stock_data_validation[symbol].Close\n",
    "    open_data = stock_data_validation[symbol].Open\n",
    "    #stock_data[symbol].drop(axis= 1, columns = ['Close', 'High', 'Low', 'Volume', 'Adj Close'], inplace = True)\n",
    "    stock_np = stock_data_validation[symbol].Open.to_numpy().reshape(254, 1)\n",
    "    stock_np = scaler.fit_transform(stock_np)\n",
    "    #if stock_np.shape == stock_training_data_input[i].shape:\n",
    "    stock_validation_input[i, :, :] = stock_np[:, :]\n",
    "    for j in range(0, len(close_data)):\n",
    "        if close_data[j] > open_data[j]:\n",
    "            stock_validation_output[i, j, 0] = 1\n",
    "            stock_validation_output[i, j, 1] = 0\n",
    "        else:\n",
    "            stock_validation_output[i, j, 0] = 0\n",
    "            stock_validation_output[i, j, 1] = 1\n",
    "    i+=1"
   ]
  },
  {
   "cell_type": "markdown",
   "metadata": {},
   "source": [
    "## TensorFlow\n",
    "### Converting the Data Into Tensors\n",
    "Turn the data frames into tensorflow datatypes so that they can be processed by tensorflow."
   ]
  },
  {
   "cell_type": "code",
   "execution_count": 392,
   "metadata": {},
   "outputs": [
    {
     "name": "stderr",
     "output_type": "stream",
     "text": [
      "<ipython-input-392-dbceed9d368c>:7: DeprecationWarning: in the future out of bounds indices will raise an error instead of being ignored by `numpy.delete`.\n",
      "  stock_validation_input = np.delete(stock_training_input, delete, axis=0)\n",
      "<ipython-input-392-dbceed9d368c>:8: DeprecationWarning: in the future out of bounds indices will raise an error instead of being ignored by `numpy.delete`.\n",
      "  stock_validation_output = np.delete(stock_training_output, delete, axis=0)\n"
     ]
    }
   ],
   "source": [
    "delete = []\n",
    "for j in range(i, 20):\n",
    "    delete.append(j)\n",
    "stock_training_input = np.delete(stock_training_input, delete, axis=0)\n",
    "stock_training_output = np.delete(stock_training_output, delete, axis=0)\n",
    "\n",
    "stock_validation_input = np.delete(stock_training_input, delete, axis=0)\n",
    "stock_validation_output = np.delete(stock_training_output, delete, axis=0)"
   ]
  },
  {
   "cell_type": "markdown",
   "metadata": {},
   "source": [
    "### Temporal Convolutional Network Class"
   ]
  },
  {
   "cell_type": "code",
   "execution_count": 393,
   "metadata": {},
   "outputs": [],
   "source": [
    "filter_count = 2 # Amount of filters\n",
    "final_filter_count = 2\n",
    "filters = [] # Filter size for each residual block\n",
    "kernel_size = 10 #Resolution of each filter\n",
    "level = kernel_size\n",
    "n = 0\n",
    "while level <= 254:\n",
    "    filters.append(filter_count)\n",
    "    level+=kernel_size + (kernel_size-1)*2**n\n",
    "    n+=1\n",
    "filters[-1] = final_filter_count"
   ]
  },
  {
   "cell_type": "code",
   "execution_count": 394,
   "metadata": {},
   "outputs": [
    {
     "data": {
      "text/plain": [
       "(254, 2)"
      ]
     },
     "execution_count": 394,
     "metadata": {},
     "output_type": "execute_result"
    }
   ],
   "source": [
    "class ResidualBlock(Layer):\n",
    "    def __init__(self, filters, kernel_size, strides, dilation_rate, activation,\n",
    "                trainable, dropout, dtype=None, activity_regularizer=None, **kwargs):\n",
    "        super(ResidualBlock, self).__init__(trainable, dtype=dtype)\n",
    "        self.activation = activation\n",
    "        self.dropout = dropout\n",
    "        self.filters = filters\n",
    "        self.adjust_sample = None\n",
    "        self.layer_norm = BatchNormalization(axis=-1)\n",
    "        self.dilatedcausal1 = Conv1D(filters,\n",
    "                                     kernel_size,\n",
    "                                     strides,\n",
    "                                     'causal',\n",
    "                                     dilation_rate=dilation_rate)\n",
    "        self.dilatedcausal2 = Conv1D(filters,\n",
    "                                     kernel_size,\n",
    "                                     strides,\n",
    "                                     'causal',\n",
    "                                     dilation_rate=dilation_rate)\n",
    "\n",
    "    #Make the dropout based on the shape of the input\n",
    "    def build(self, input_shape):\n",
    "        self.drop1 = Dropout(self.dropout, input_shape)\n",
    "        self.drop2 = Dropout(self.dropout, input_shape)\n",
    "        if input_shape[2]!=filters:\n",
    "            self.adjust_sample = Dense(self.filters)\n",
    "\n",
    "    #The residual block processes the input\n",
    "    def call(self, inputs, training):\n",
    "        x = self.dilatedcausal1(inputs)\n",
    "        x = self.layer_norm(x, training)\n",
    "        x = self.activation(x)\n",
    "        x = self.drop1(x, training) #If training is False, drop1 simply returns x\n",
    "        x = self.dilatedcausal2(x)\n",
    "        x = self.layer_norm(x, training)\n",
    "        x = self.activation(x)\n",
    "        x = self.drop2(x, training) #If training is False, drop2 simply returns x\n",
    "        if self.adjust_sample is not None:\n",
    "            inputs = self.adjust_sample(inputs)\n",
    "        return self.activation(x+inputs)\n",
    "        \n",
    "class TCN(Model):\n",
    "    def __init__(self, filters, kernel_size=2, dropout = 0.2, activation='relu',\n",
    "                trainable=False, dtype=None, name=None,\n",
    "                activity_regularizer=None, **kwargs):\n",
    "        super(TCN, self).__init__()\n",
    "        self.levels = []\n",
    "        for i in range(0, len(filters)):\n",
    "            self.levels.append(ResidualBlock(filters[i], kernel_size,\n",
    "                                             1, 2**i, Activation(activation),\n",
    "                                             trainable, dropout,\n",
    "                                             dtype, activity_regularizer))\n",
    "    \n",
    "    #Running the input through each residual block\n",
    "    def call(self, inputs, training=True):\n",
    "        for r_block in self.levels:\n",
    "            inputs = r_block(inputs, training)\n",
    "        return inputs\n",
    "stock_training_output[0].shape"
   ]
  },
  {
   "cell_type": "markdown",
   "metadata": {},
   "source": [
    "### Training the TCN"
   ]
  },
  {
   "cell_type": "code",
   "execution_count": 397,
   "metadata": {},
   "outputs": [
    {
     "name": "stdout",
     "output_type": "stream",
     "text": [
      "Epoch 1/120\n",
      "1/1 [==============================] - 4s 4s/step - loss: 1.2602 - accuracy: 0.6368 - val_loss: 0.2208 - val_accuracy: 0.7554\n",
      "Epoch 2/120\n",
      "1/1 [==============================] - 0s 15ms/step - loss: 1.2345 - accuracy: 0.6181 - val_loss: 0.2208 - val_accuracy: 0.7352\n",
      "Epoch 3/120\n",
      "1/1 [==============================] - 0s 16ms/step - loss: 1.2237 - accuracy: 0.6270 - val_loss: 0.2204 - val_accuracy: 0.7092\n",
      "Epoch 4/120\n",
      "1/1 [==============================] - 0s 15ms/step - loss: 1.1738 - accuracy: 0.6176 - val_loss: 0.2196 - val_accuracy: 0.6875\n",
      "Epoch 5/120\n",
      "1/1 [==============================] - 0s 15ms/step - loss: 1.1685 - accuracy: 0.6137 - val_loss: 0.2188 - val_accuracy: 0.6860\n",
      "Epoch 6/120\n",
      "1/1 [==============================] - 0s 15ms/step - loss: 1.1242 - accuracy: 0.6137 - val_loss: 0.2181 - val_accuracy: 0.6919\n",
      "Epoch 7/120\n",
      "1/1 [==============================] - 0s 14ms/step - loss: 1.1342 - accuracy: 0.6206 - val_loss: 0.2173 - val_accuracy: 0.6969\n",
      "Epoch 8/120\n",
      "1/1 [==============================] - 0s 15ms/step - loss: 1.0786 - accuracy: 0.6171 - val_loss: 0.2167 - val_accuracy: 0.6973\n",
      "Epoch 9/120\n",
      "1/1 [==============================] - 0s 14ms/step - loss: 1.1036 - accuracy: 0.6132 - val_loss: 0.2160 - val_accuracy: 0.6949\n",
      "Epoch 10/120\n",
      "1/1 [==============================] - 0s 14ms/step - loss: 1.0596 - accuracy: 0.6265 - val_loss: 0.2156 - val_accuracy: 0.7008\n",
      "Epoch 11/120\n",
      "1/1 [==============================] - 0s 15ms/step - loss: 1.0517 - accuracy: 0.6073 - val_loss: 0.2153 - val_accuracy: 0.7032\n",
      "Epoch 12/120\n",
      "1/1 [==============================] - 0s 14ms/step - loss: 1.0041 - accuracy: 0.6107 - val_loss: 0.2149 - val_accuracy: 0.7013\n",
      "Epoch 13/120\n",
      "1/1 [==============================] - 0s 14ms/step - loss: 0.9971 - accuracy: 0.6220 - val_loss: 0.2146 - val_accuracy: 0.7042\n",
      "Epoch 14/120\n",
      "1/1 [==============================] - 0s 14ms/step - loss: 0.9422 - accuracy: 0.6122 - val_loss: 0.2144 - val_accuracy: 0.7018\n",
      "Epoch 15/120\n",
      "1/1 [==============================] - 0s 15ms/step - loss: 0.9967 - accuracy: 0.6068 - val_loss: 0.2142 - val_accuracy: 0.6983\n",
      "Epoch 16/120\n",
      "1/1 [==============================] - 0s 13ms/step - loss: 0.9307 - accuracy: 0.6102 - val_loss: 0.2140 - val_accuracy: 0.6983\n",
      "Epoch 17/120\n",
      "1/1 [==============================] - 0s 15ms/step - loss: 0.9258 - accuracy: 0.6142 - val_loss: 0.2138 - val_accuracy: 0.6944\n",
      "Epoch 18/120\n",
      "1/1 [==============================] - 0s 14ms/step - loss: 0.9114 - accuracy: 0.6132 - val_loss: 0.2137 - val_accuracy: 0.6890\n",
      "Epoch 19/120\n",
      "1/1 [==============================] - 0s 14ms/step - loss: 0.9287 - accuracy: 0.6329 - val_loss: 0.2135 - val_accuracy: 0.6806\n",
      "Epoch 20/120\n",
      "1/1 [==============================] - 0s 14ms/step - loss: 0.8648 - accuracy: 0.6265 - val_loss: 0.2134 - val_accuracy: 0.6732\n",
      "Epoch 21/120\n",
      "1/1 [==============================] - 0s 15ms/step - loss: 0.8554 - accuracy: 0.6353 - val_loss: 0.2132 - val_accuracy: 0.6703\n",
      "Epoch 22/120\n",
      "1/1 [==============================] - 0s 15ms/step - loss: 0.8517 - accuracy: 0.6088 - val_loss: 0.2130 - val_accuracy: 0.6658\n",
      "Epoch 23/120\n",
      "1/1 [==============================] - 0s 15ms/step - loss: 0.7970 - accuracy: 0.6053 - val_loss: 0.2129 - val_accuracy: 0.6629\n",
      "Epoch 24/120\n",
      "1/1 [==============================] - 0s 14ms/step - loss: 0.8082 - accuracy: 0.6102 - val_loss: 0.2128 - val_accuracy: 0.6599\n",
      "Epoch 25/120\n",
      "1/1 [==============================] - 0s 14ms/step - loss: 0.8004 - accuracy: 0.6083 - val_loss: 0.2127 - val_accuracy: 0.6609\n",
      "Epoch 26/120\n",
      "1/1 [==============================] - 0s 14ms/step - loss: 0.7945 - accuracy: 0.6063 - val_loss: 0.2126 - val_accuracy: 0.6565\n",
      "Epoch 27/120\n",
      "1/1 [==============================] - 0s 16ms/step - loss: 0.7643 - accuracy: 0.6122 - val_loss: 0.2125 - val_accuracy: 0.6550\n",
      "Epoch 28/120\n",
      "1/1 [==============================] - 0s 14ms/step - loss: 0.7357 - accuracy: 0.6117 - val_loss: 0.2124 - val_accuracy: 0.6545\n",
      "Epoch 29/120\n",
      "1/1 [==============================] - 0s 15ms/step - loss: 0.7193 - accuracy: 0.6339 - val_loss: 0.2122 - val_accuracy: 0.6521\n",
      "Epoch 30/120\n",
      "1/1 [==============================] - 0s 15ms/step - loss: 0.7551 - accuracy: 0.6166 - val_loss: 0.2122 - val_accuracy: 0.6506\n",
      "Epoch 31/120\n",
      "1/1 [==============================] - 0s 14ms/step - loss: 0.7065 - accuracy: 0.6176 - val_loss: 0.2121 - val_accuracy: 0.6471\n",
      "Epoch 32/120\n",
      "1/1 [==============================] - 0s 14ms/step - loss: 0.7939 - accuracy: 0.6191 - val_loss: 0.2121 - val_accuracy: 0.6462\n",
      "Epoch 33/120\n",
      "1/1 [==============================] - 0s 15ms/step - loss: 0.7065 - accuracy: 0.6009 - val_loss: 0.2121 - val_accuracy: 0.6442\n",
      "Epoch 34/120\n",
      "1/1 [==============================] - 0s 13ms/step - loss: 0.6942 - accuracy: 0.6171 - val_loss: 0.2121 - val_accuracy: 0.6437\n",
      "Epoch 35/120\n",
      "1/1 [==============================] - 0s 15ms/step - loss: 0.7000 - accuracy: 0.6171 - val_loss: 0.2121 - val_accuracy: 0.6422\n",
      "Epoch 36/120\n",
      "1/1 [==============================] - 0s 14ms/step - loss: 0.6403 - accuracy: 0.6211 - val_loss: 0.2120 - val_accuracy: 0.6407\n",
      "Epoch 37/120\n",
      "1/1 [==============================] - 0s 15ms/step - loss: 0.6372 - accuracy: 0.6216 - val_loss: 0.2120 - val_accuracy: 0.6378\n",
      "Epoch 38/120\n",
      "1/1 [==============================] - 0s 13ms/step - loss: 0.6731 - accuracy: 0.6142 - val_loss: 0.2120 - val_accuracy: 0.6329\n",
      "Epoch 39/120\n",
      "1/1 [==============================] - 0s 15ms/step - loss: 0.6650 - accuracy: 0.6009 - val_loss: 0.2119 - val_accuracy: 0.6319\n",
      "Epoch 40/120\n",
      "1/1 [==============================] - 0s 15ms/step - loss: 0.6542 - accuracy: 0.6019 - val_loss: 0.2119 - val_accuracy: 0.6319\n",
      "Epoch 41/120\n",
      "1/1 [==============================] - 0s 14ms/step - loss: 0.6541 - accuracy: 0.6097 - val_loss: 0.2118 - val_accuracy: 0.6294\n",
      "Epoch 42/120\n",
      "1/1 [==============================] - 0s 15ms/step - loss: 0.6073 - accuracy: 0.5994 - val_loss: 0.2118 - val_accuracy: 0.6280\n",
      "Epoch 43/120\n",
      "1/1 [==============================] - 0s 15ms/step - loss: 0.6292 - accuracy: 0.6260 - val_loss: 0.2119 - val_accuracy: 0.6275\n",
      "Epoch 44/120\n",
      "1/1 [==============================] - 0s 15ms/step - loss: 0.6199 - accuracy: 0.6073 - val_loss: 0.2120 - val_accuracy: 0.6265\n",
      "Epoch 45/120\n",
      "1/1 [==============================] - 0s 15ms/step - loss: 0.5999 - accuracy: 0.6191 - val_loss: 0.2121 - val_accuracy: 0.6235\n",
      "Epoch 46/120\n",
      "1/1 [==============================] - 0s 14ms/step - loss: 0.5922 - accuracy: 0.6191 - val_loss: 0.2121 - val_accuracy: 0.6235\n",
      "Epoch 47/120\n",
      "1/1 [==============================] - 0s 16ms/step - loss: 0.5835 - accuracy: 0.6201 - val_loss: 0.2121 - val_accuracy: 0.6250\n",
      "Epoch 48/120\n",
      "1/1 [==============================] - 0s 14ms/step - loss: 0.5875 - accuracy: 0.6132 - val_loss: 0.2122 - val_accuracy: 0.6230\n",
      "Epoch 49/120\n",
      "1/1 [==============================] - 0s 16ms/step - loss: 0.5633 - accuracy: 0.6088 - val_loss: 0.2122 - val_accuracy: 0.6211\n",
      "Epoch 50/120\n",
      "1/1 [==============================] - 0s 15ms/step - loss: 0.5530 - accuracy: 0.6166 - val_loss: 0.2123 - val_accuracy: 0.6196\n",
      "Epoch 51/120\n",
      "1/1 [==============================] - 0s 15ms/step - loss: 0.5420 - accuracy: 0.5856 - val_loss: 0.2124 - val_accuracy: 0.6196\n",
      "Epoch 52/120\n",
      "1/1 [==============================] - 0s 15ms/step - loss: 0.5557 - accuracy: 0.6127 - val_loss: 0.2125 - val_accuracy: 0.6206\n",
      "Epoch 53/120\n",
      "1/1 [==============================] - 0s 15ms/step - loss: 0.5589 - accuracy: 0.6196 - val_loss: 0.2125 - val_accuracy: 0.6171\n",
      "Epoch 54/120\n",
      "1/1 [==============================] - 0s 15ms/step - loss: 0.5372 - accuracy: 0.6122 - val_loss: 0.2125 - val_accuracy: 0.6152\n",
      "Epoch 55/120\n",
      "1/1 [==============================] - 0s 17ms/step - loss: 0.5331 - accuracy: 0.6309 - val_loss: 0.2126 - val_accuracy: 0.6161\n",
      "Epoch 56/120\n",
      "1/1 [==============================] - 0s 15ms/step - loss: 0.5214 - accuracy: 0.6280 - val_loss: 0.2128 - val_accuracy: 0.6147\n",
      "Epoch 57/120\n",
      "1/1 [==============================] - 0s 15ms/step - loss: 0.5129 - accuracy: 0.6260 - val_loss: 0.2130 - val_accuracy: 0.6161\n",
      "Epoch 58/120\n",
      "1/1 [==============================] - 0s 18ms/step - loss: 0.5049 - accuracy: 0.6176 - val_loss: 0.2132 - val_accuracy: 0.6152\n",
      "Epoch 59/120\n"
     ]
    },
    {
     "name": "stdout",
     "output_type": "stream",
     "text": [
      "1/1 [==============================] - 0s 16ms/step - loss: 0.5143 - accuracy: 0.6156 - val_loss: 0.2134 - val_accuracy: 0.6152\n",
      "Epoch 60/120\n",
      "1/1 [==============================] - 0s 15ms/step - loss: 0.4866 - accuracy: 0.6102 - val_loss: 0.2137 - val_accuracy: 0.6156\n",
      "Epoch 61/120\n",
      "1/1 [==============================] - 0s 14ms/step - loss: 0.4927 - accuracy: 0.6230 - val_loss: 0.2141 - val_accuracy: 0.6142\n",
      "Epoch 62/120\n",
      "1/1 [==============================] - 0s 14ms/step - loss: 0.4928 - accuracy: 0.6265 - val_loss: 0.2145 - val_accuracy: 0.6132\n",
      "Epoch 63/120\n",
      "1/1 [==============================] - 0s 14ms/step - loss: 0.4758 - accuracy: 0.6230 - val_loss: 0.2149 - val_accuracy: 0.6117\n",
      "Epoch 64/120\n",
      "1/1 [==============================] - 0s 14ms/step - loss: 0.4591 - accuracy: 0.6289 - val_loss: 0.2155 - val_accuracy: 0.6112\n",
      "Epoch 65/120\n",
      "1/1 [==============================] - 0s 14ms/step - loss: 0.4925 - accuracy: 0.6132 - val_loss: 0.2160 - val_accuracy: 0.6127\n",
      "Epoch 66/120\n",
      "1/1 [==============================] - 0s 14ms/step - loss: 0.4755 - accuracy: 0.6171 - val_loss: 0.2167 - val_accuracy: 0.6147\n",
      "Epoch 67/120\n",
      "1/1 [==============================] - 0s 14ms/step - loss: 0.4580 - accuracy: 0.6102 - val_loss: 0.2174 - val_accuracy: 0.6181\n",
      "Epoch 68/120\n",
      "1/1 [==============================] - 0s 15ms/step - loss: 0.4584 - accuracy: 0.6166 - val_loss: 0.2182 - val_accuracy: 0.6171\n",
      "Epoch 69/120\n",
      "1/1 [==============================] - 0s 14ms/step - loss: 0.4409 - accuracy: 0.6280 - val_loss: 0.2189 - val_accuracy: 0.6152\n",
      "Epoch 70/120\n",
      "1/1 [==============================] - 0s 14ms/step - loss: 0.4496 - accuracy: 0.6156 - val_loss: 0.2197 - val_accuracy: 0.6171\n",
      "Epoch 71/120\n",
      "1/1 [==============================] - 0s 14ms/step - loss: 0.4595 - accuracy: 0.6097 - val_loss: 0.2206 - val_accuracy: 0.6186\n",
      "Epoch 72/120\n",
      "1/1 [==============================] - 0s 15ms/step - loss: 0.4471 - accuracy: 0.6152 - val_loss: 0.2215 - val_accuracy: 0.6176\n",
      "Epoch 73/120\n",
      "1/1 [==============================] - 0s 14ms/step - loss: 0.4494 - accuracy: 0.6033 - val_loss: 0.2225 - val_accuracy: 0.6186\n",
      "Epoch 74/120\n",
      "1/1 [==============================] - 0s 14ms/step - loss: 0.4158 - accuracy: 0.6235 - val_loss: 0.2234 - val_accuracy: 0.6191\n",
      "Epoch 75/120\n",
      "1/1 [==============================] - 0s 15ms/step - loss: 0.4418 - accuracy: 0.6088 - val_loss: 0.2243 - val_accuracy: 0.6225\n",
      "Epoch 76/120\n",
      "1/1 [==============================] - 0s 14ms/step - loss: 0.4139 - accuracy: 0.6294 - val_loss: 0.2252 - val_accuracy: 0.6206\n",
      "Epoch 77/120\n",
      "1/1 [==============================] - 0s 14ms/step - loss: 0.4218 - accuracy: 0.6284 - val_loss: 0.2262 - val_accuracy: 0.6255\n",
      "Epoch 78/120\n",
      "1/1 [==============================] - 0s 14ms/step - loss: 0.4090 - accuracy: 0.6304 - val_loss: 0.2271 - val_accuracy: 0.6309\n",
      "Epoch 79/120\n",
      "1/1 [==============================] - 0s 14ms/step - loss: 0.4138 - accuracy: 0.6299 - val_loss: 0.2278 - val_accuracy: 0.6314\n",
      "Epoch 80/120\n",
      "1/1 [==============================] - 0s 14ms/step - loss: 0.4058 - accuracy: 0.6240 - val_loss: 0.2286 - val_accuracy: 0.6378\n",
      "Epoch 81/120\n",
      "1/1 [==============================] - 0s 13ms/step - loss: 0.4100 - accuracy: 0.6294 - val_loss: 0.2293 - val_accuracy: 0.6457\n",
      "Epoch 82/120\n",
      "1/1 [==============================] - 0s 14ms/step - loss: 0.4022 - accuracy: 0.6230 - val_loss: 0.2299 - val_accuracy: 0.6516\n",
      "Epoch 83/120\n",
      "1/1 [==============================] - 0s 15ms/step - loss: 0.3999 - accuracy: 0.6156 - val_loss: 0.2306 - val_accuracy: 0.6575\n",
      "Epoch 84/120\n",
      "1/1 [==============================] - 0s 14ms/step - loss: 0.3959 - accuracy: 0.6191 - val_loss: 0.2313 - val_accuracy: 0.6708\n",
      "Epoch 85/120\n",
      "1/1 [==============================] - 0s 15ms/step - loss: 0.3907 - accuracy: 0.6309 - val_loss: 0.2319 - val_accuracy: 0.6781\n",
      "Epoch 86/120\n",
      "1/1 [==============================] - 0s 14ms/step - loss: 0.3887 - accuracy: 0.6137 - val_loss: 0.2325 - val_accuracy: 0.6836\n",
      "Epoch 87/120\n",
      "1/1 [==============================] - 0s 14ms/step - loss: 0.3792 - accuracy: 0.6344 - val_loss: 0.2331 - val_accuracy: 0.6885\n",
      "Epoch 88/120\n",
      "1/1 [==============================] - 0s 15ms/step - loss: 0.4022 - accuracy: 0.6309 - val_loss: 0.2337 - val_accuracy: 0.6934\n",
      "Epoch 89/120\n",
      "1/1 [==============================] - 0s 15ms/step - loss: 0.3749 - accuracy: 0.6275 - val_loss: 0.2343 - val_accuracy: 0.6959\n",
      "Epoch 90/120\n",
      "1/1 [==============================] - 0s 15ms/step - loss: 0.3785 - accuracy: 0.6255 - val_loss: 0.2347 - val_accuracy: 0.6964\n",
      "Epoch 91/120\n",
      "1/1 [==============================] - 0s 14ms/step - loss: 0.3697 - accuracy: 0.6348 - val_loss: 0.2352 - val_accuracy: 0.6973\n",
      "Epoch 92/120\n",
      "1/1 [==============================] - 0s 14ms/step - loss: 0.3769 - accuracy: 0.6240 - val_loss: 0.2356 - val_accuracy: 0.6993\n",
      "Epoch 93/120\n",
      "1/1 [==============================] - 0s 15ms/step - loss: 0.3677 - accuracy: 0.6412 - val_loss: 0.2361 - val_accuracy: 0.7018\n",
      "Epoch 94/120\n",
      "1/1 [==============================] - 0s 15ms/step - loss: 0.3694 - accuracy: 0.6245 - val_loss: 0.2364 - val_accuracy: 0.7023\n",
      "Epoch 95/120\n",
      "1/1 [==============================] - 0s 14ms/step - loss: 0.3646 - accuracy: 0.6181 - val_loss: 0.2368 - val_accuracy: 0.6880\n",
      "Epoch 96/120\n",
      "1/1 [==============================] - 0s 15ms/step - loss: 0.3535 - accuracy: 0.6348 - val_loss: 0.2371 - val_accuracy: 0.6860\n",
      "Epoch 97/120\n",
      "1/1 [==============================] - 0s 14ms/step - loss: 0.3572 - accuracy: 0.6378 - val_loss: 0.2374 - val_accuracy: 0.6870\n",
      "Epoch 98/120\n",
      "1/1 [==============================] - 0s 15ms/step - loss: 0.3595 - accuracy: 0.6329 - val_loss: 0.2377 - val_accuracy: 0.6880\n",
      "Epoch 99/120\n",
      "1/1 [==============================] - 0s 15ms/step - loss: 0.3613 - accuracy: 0.6196 - val_loss: 0.2381 - val_accuracy: 0.6875\n",
      "Epoch 100/120\n",
      "1/1 [==============================] - 0s 14ms/step - loss: 0.3529 - accuracy: 0.6245 - val_loss: 0.2384 - val_accuracy: 0.6860\n",
      "Epoch 101/120\n",
      "1/1 [==============================] - 0s 13ms/step - loss: 0.3395 - accuracy: 0.6211 - val_loss: 0.2387 - val_accuracy: 0.6870\n",
      "Epoch 102/120\n",
      "1/1 [==============================] - 0s 14ms/step - loss: 0.3445 - accuracy: 0.6319 - val_loss: 0.2390 - val_accuracy: 0.6998\n",
      "Epoch 103/120\n",
      "1/1 [==============================] - 0s 15ms/step - loss: 0.3449 - accuracy: 0.6344 - val_loss: 0.2393 - val_accuracy: 0.6781\n",
      "Epoch 104/120\n",
      "1/1 [==============================] - 0s 14ms/step - loss: 0.3412 - accuracy: 0.6368 - val_loss: 0.2396 - val_accuracy: 0.6777\n",
      "Epoch 105/120\n",
      "1/1 [==============================] - 0s 14ms/step - loss: 0.3315 - accuracy: 0.6363 - val_loss: 0.2399 - val_accuracy: 0.6777\n",
      "Epoch 106/120\n",
      "1/1 [==============================] - 0s 14ms/step - loss: 0.3325 - accuracy: 0.6319 - val_loss: 0.2401 - val_accuracy: 0.6786\n",
      "Epoch 107/120\n",
      "1/1 [==============================] - 0s 15ms/step - loss: 0.3343 - accuracy: 0.6211 - val_loss: 0.2404 - val_accuracy: 0.6781\n",
      "Epoch 108/120\n",
      "1/1 [==============================] - 0s 14ms/step - loss: 0.3287 - accuracy: 0.6324 - val_loss: 0.2407 - val_accuracy: 0.6821\n",
      "Epoch 109/120\n",
      "1/1 [==============================] - 0s 15ms/step - loss: 0.3305 - accuracy: 0.6280 - val_loss: 0.2410 - val_accuracy: 0.6944\n",
      "Epoch 110/120\n",
      "1/1 [==============================] - 0s 14ms/step - loss: 0.3175 - accuracy: 0.6368 - val_loss: 0.2412 - val_accuracy: 0.6811\n",
      "Epoch 111/120\n",
      "1/1 [==============================] - 0s 14ms/step - loss: 0.3270 - accuracy: 0.6284 - val_loss: 0.2415 - val_accuracy: 0.6811\n",
      "Epoch 112/120\n",
      "1/1 [==============================] - 0s 14ms/step - loss: 0.3309 - accuracy: 0.6348 - val_loss: 0.2417 - val_accuracy: 0.6811\n",
      "Epoch 113/120\n",
      "1/1 [==============================] - 0s 14ms/step - loss: 0.3271 - accuracy: 0.6427 - val_loss: 0.2420 - val_accuracy: 0.6801\n",
      "Epoch 114/120\n",
      "1/1 [==============================] - 0s 15ms/step - loss: 0.3147 - accuracy: 0.6471 - val_loss: 0.2422 - val_accuracy: 0.6939\n",
      "Epoch 115/120\n",
      "1/1 [==============================] - 0s 15ms/step - loss: 0.3141 - accuracy: 0.6580 - val_loss: 0.2425 - val_accuracy: 0.6949\n",
      "Epoch 116/120\n",
      "1/1 [==============================] - 0s 14ms/step - loss: 0.3268 - accuracy: 0.6294 - val_loss: 0.2427 - val_accuracy: 0.6944\n",
      "Epoch 117/120\n"
     ]
    },
    {
     "name": "stdout",
     "output_type": "stream",
     "text": [
      "1/1 [==============================] - 0s 14ms/step - loss: 0.3112 - accuracy: 0.6422 - val_loss: 0.2428 - val_accuracy: 0.7067\n",
      "Epoch 118/120\n",
      "1/1 [==============================] - 0s 15ms/step - loss: 0.3205 - accuracy: 0.6412 - val_loss: 0.2430 - val_accuracy: 0.7077\n",
      "Epoch 119/120\n",
      "1/1 [==============================] - 0s 14ms/step - loss: 0.3118 - accuracy: 0.6501 - val_loss: 0.2432 - val_accuracy: 0.7077\n",
      "Epoch 120/120\n",
      "1/1 [==============================] - 0s 15ms/step - loss: 0.3110 - accuracy: 0.6511 - val_loss: 0.2434 - val_accuracy: 0.7082\n"
     ]
    },
    {
     "data": {
      "text/plain": [
       "<tensorflow.python.keras.callbacks.History at 0x1746cc4b6a0>"
      ]
     },
     "execution_count": 397,
     "metadata": {},
     "output_type": "execute_result"
    }
   ],
   "source": [
    "tcn_model = TCN(filters, kernel_size, activation='relu', trainable = True, dtype='float')\n",
    "tcn_model.compile(optimizer='adam', loss = 'mse', metrics=['accuracy'])\n",
    "tcn_model.fit(stock_training_input, stock_training_output, epochs = 120)"
   ]
  },
  {
   "cell_type": "code",
   "execution_count": 398,
   "metadata": {},
   "outputs": [
    {
     "data": {
      "text/plain": [
       "<matplotlib.axes._subplots.AxesSubplot at 0x174726519a0>"
      ]
     },
     "execution_count": 398,
     "metadata": {},
     "output_type": "execute_result"
    },
    {
     "data": {
      "image/png": "[encoded data removed]",
      "text/plain": [
       "<Figure size 432x288 with 1 Axes>"
      ]
     },
     "metadata": {
      "needs_background": "light"
     },
     "output_type": "display_data"
    }
   ],
   "source": [
    "losses = pd.DataFrame(tcn_model.history.history)\n",
    "losses.plot()"
   ]
  },
  {
   "cell_type": "code",
   "execution_count": null,
   "metadata": {},
   "outputs": [],
   "source": []
  }
 ],
 "metadata": {
  "kernelspec": {
   "display_name": "Python 3",
   "language": "python",
   "name": "python3"
  },
  "language_info": {
   "codemirror_mode": {
    "name": "ipython",
    "version": 3
   },
   "file_extension": ".py",
   "mimetype": "text/x-python",
   "name": "python",
   "nbconvert_exporter": "python",
   "pygments_lexer": "ipython3",
   "version": "3.8.3"
  }
 },
 "nbformat": 4,
 "nbformat_minor": 2
}
