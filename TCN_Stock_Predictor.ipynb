{
 "cells": [
  {
   "cell_type": "markdown",
   "metadata": {},
   "source": [
    "# Using a Temporal Convolutional Network for Daytrading\n",
    "### Daniel Kalam, Sharvita Paithankar"
   ]
  },
  {
   "cell_type": "code",
   "execution_count": 19,
   "metadata": {},
   "outputs": [],
   "source": [
    "import tensorflow as tf\n",
    "import pandas as pd\n",
    "from pandas_datareader import DataReader\n",
    "import numpy as np\n",
    "import matplotlib.pyplot as plt\n",
    "import datetime"
   ]
  },
  {
   "cell_type": "markdown",
   "metadata": {},
   "source": [
    "### Gathering Data\n",
    "Getting data for 100 stocks in the date range of April 2nd, 2018 to October 9th, 2020 from yahoo finance."
   ]
  },
  {
   "cell_type": "code",
   "execution_count": 20,
   "metadata": {
    "scrolled": true
   },
   "outputs": [],
   "source": [
    "symbols = ['AAPL', 'TSLA', 'FB', 'GE', 'BRK', 'GOOGL', 'INTC', 'AMD', 'HPE', 'ZM',\n",
    "          'CAKE', 'AET', 'F', 'KO', 'DDS', 'NVDA', 'NFLX', 'JPM', 'AMZN', 'MSFT']\n",
    "#TODO: Add 80 more symbols.\n",
    "source = 'yahoo'\n",
    "start_date = pd.to_datetime('2018-02-04')\n",
    "end_date = pd.to_datetime('2020-10-09')\n",
    "stock_data = {}\n",
    "for symbol in symbols:\n",
    "    stock_data[symbol] = DataReader(symbol, source, start_date, end_date)"
   ]
  },
  {
   "cell_type": "markdown",
   "metadata": {},
   "source": [
    "Create a data frame for each column in a stock's data frame."
   ]
  },
  {
   "cell_type": "code",
   "execution_count": 21,
   "metadata": {},
   "outputs": [],
   "source": [
    "open_data = {}\n",
    "close_data = {}\n",
    "high_data = {}\n",
    "low_data = {}\n",
    "volume_data = {}\n",
    "adj_close_data = {}\n",
    "# bollinger bands\n",
    "middle_bands = {}\n",
    "lower_bands = {}\n",
    "upper_bands = {}\n",
    "\n",
    "for symbol in stock_data:\n",
    "    stock_data[symbol]['Middle band'] = stock_data[symbol].Close.rolling(window=20).mean()\n",
    "    stock_data[symbol]['Lower band'] = stock_data[symbol]['Middle band'] - 1.96* stock_data[symbol].Close.rolling(window=20).std()\n",
    "    stock_data[symbol]['Upper band'] = stock_data[symbol]['Middle band'] + 1.96* stock_data[symbol].Close.rolling(window=20).std()\n",
    "    open_data[symbol] = stock_data[symbol].Open\n",
    "    close_data[symbol] = stock_data[symbol].Close\n",
    "    high_data[symbol] = stock_data[symbol].High\n",
    "    low_data[symbol] = stock_data[symbol].Low\n",
    "    volume_data[symbol] = stock_data[symbol].Volume\n",
    "    adj_close_data[symbol] = stock_data[symbol]['Adj Close']\n",
    "    middle_bands[symbol] = stock_data[symbol]['Middle band']\n",
    "    lower_bands[symbol] = stock_data[symbol]['Lower band']\n",
    "    upper_bands[symbol] = stock_data[symbol]['Upper band']"
   ]
  },
  {
   "cell_type": "markdown",
   "metadata": {},
   "source": [
    "### TensorFlow\n",
    "Turn the data frames into tensorflow datatypes so that they can be processed by tensorflow."
   ]
  },
  {
   "cell_type": "code",
   "execution_count": null,
   "metadata": {},
   "outputs": [],
   "source": []
  },
  {
   "cell_type": "code",
   "execution_count": 22,
   "metadata": {},
   "outputs": [
    {
     "ename": "SyntaxError",
     "evalue": "unexpected EOF while parsing (<ipython-input-22-17a8f25c2782>, line 2)",
     "output_type": "error",
     "traceback": [
      "\u001b[1;36m  File \u001b[1;32m\"<ipython-input-22-17a8f25c2782>\"\u001b[1;36m, line \u001b[1;32m2\u001b[0m\n\u001b[1;33m    \u001b[0m\n\u001b[1;37m    ^\u001b[0m\n\u001b[1;31mSyntaxError\u001b[0m\u001b[1;31m:\u001b[0m unexpected EOF while parsing\n"
     ]
    }
   ],
   "source": [
    "class DilatedCausalConvolutionalNetwork(tf.keras.layers.Conv1D):\n",
    "    "
   ]
  }
 ],
 "metadata": {
  "kernelspec": {
   "display_name": "Python 3",
   "language": "python",
   "name": "python3"
  },
  "language_info": {
   "codemirror_mode": {
    "name": "ipython",
    "version": 3
   },
   "file_extension": ".py",
   "mimetype": "text/x-python",
   "name": "python",
   "nbconvert_exporter": "python",
   "pygments_lexer": "ipython3",
   "version": "3.8.3"
  }
 },
 "nbformat": 4,
 "nbformat_minor": 2
}
