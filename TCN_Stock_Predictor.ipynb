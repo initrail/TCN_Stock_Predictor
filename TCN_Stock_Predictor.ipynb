{
 "cells": [
  {
   "cell_type": "markdown",
   "metadata": {},
   "source": [
    "# Using a Temporal Convolutional Network for Daytrading\n",
    "## Daniel Kalam, Sharvita Paithankar"
   ]
  },
  {
   "cell_type": "code",
   "execution_count": 436,
   "metadata": {},
   "outputs": [],
   "source": [
    "import tensorflow as tf\n",
    "from sklearn.preprocessing import StandardScaler\n",
    "from tensorflow.keras import Model\n",
    "from tensorflow.keras.layers import Layer, Conv1D, Dropout, Dense, Activation, BatchNormalization\n",
    "from tensorflow.keras.losses import CategoricalCrossentropy\n",
    "import pandas as pd\n",
    "from pandas_datareader import DataReader\n",
    "import numpy as np\n",
    "import matplotlib.pyplot as plt\n",
    "import datetime"
   ]
  },
  {
   "cell_type": "markdown",
   "metadata": {},
   "source": [
    "## Gathering Data\n",
    "Getting data for 100 stocks in the date range of April 2nd, 2018 to October 9th, 2020 from yahoo finance."
   ]
  },
  {
   "cell_type": "code",
   "execution_count": 437,
   "metadata": {
    "scrolled": true
   },
   "outputs": [],
   "source": [
    "symbols = ['AAPL', 'TSLA', 'FB', 'ROKU']# , 'BRK', 'GOOGL', 'INTC', 'AMD', 'HPE', 'ZM',\n",
    "          #'CAKE', 'AET', 'F', 'KO', 'DDS', 'NVDA', 'NFLX', 'JPM', 'AMZN', 'MSFT']\n",
    "#TODO: Add 80 more symbols.\n",
    "source = 'yahoo'\n",
    "start_date = pd.to_datetime('2019-10-09')\n",
    "end_date = pd.to_datetime('2020-10-09')\n",
    "stock_data_training = {}\n",
    "for symbol in symbols:\n",
    "    stock_data_training[symbol] = DataReader(symbol, source, start_date, end_date)\n",
    "symbols2 = ['NFLX', 'ZM', 'AMZN', 'MSFT']\n",
    "stock_data_validation = {}\n",
    "for symbol in symbols2:\n",
    "    stock_data_validation[symbol] = DataReader(symbol, source, start_date, end_date)"
   ]
  },
  {
   "cell_type": "markdown",
   "metadata": {},
   "source": [
    "Create a data frame for each column in a stock's data frame."
   ]
  },
  {
   "cell_type": "code",
   "execution_count": 438,
   "metadata": {},
   "outputs": [],
   "source": [
    "stock_training_input = np.empty((20, 254, 1))\n",
    "stock_training_output = np.zeros((20, 254, 2))\n",
    "stock_validation_input = np.empty((20, 254, 1))\n",
    "stock_validation_output = np.zeros((20, 254, 2))\n",
    "i = 0\n",
    "scaler = StandardScaler()\n",
    "for symbol in stock_data_training:\n",
    "    close_data = stock_data_training[symbol].Close\n",
    "    open_data = stock_data_training[symbol].Open\n",
    "    #stock_data[symbol].drop(axis= 1, columns = ['Close', 'High', 'Low', 'Volume', 'Adj Close'], inplace = True)\n",
    "    stock_np = stock_data_training[symbol].Open.to_numpy().reshape(254, 1)\n",
    "    stock_np = scaler.fit_transform(stock_np)\n",
    "    #if stock_np.shape == stock_training_data_input[i].shape:\n",
    "    stock_training_input[i, :, :] = stock_np[:, :]\n",
    "    for j in range(0, len(close_data)):\n",
    "        if close_data[j] > open_data[j]:\n",
    "            stock_training_output[i, j, 0] = 1\n",
    "            stock_training_output[i, j, 1] = 0\n",
    "        else:\n",
    "            stock_training_output[i, j, 0] = 0\n",
    "            stock_training_output[i, j, 1] = 1\n",
    "    i+=1\n",
    "for symbol in stock_data_validation:\n",
    "    close_data = stock_data_validation[symbol].Close\n",
    "    open_data = stock_data_validation[symbol].Open\n",
    "    #stock_data[symbol].drop(axis= 1, columns = ['Close', 'High', 'Low', 'Volume', 'Adj Close'], inplace = True)\n",
    "    stock_np = stock_data_validation[symbol].Open.to_numpy().reshape(254, 1)\n",
    "    stock_np = scaler.fit_transform(stock_np)\n",
    "    #if stock_np.shape == stock_training_data_input[i].shape:\n",
    "    stock_validation_input[i, :, :] = stock_np[:, :]\n",
    "    for j in range(0, len(close_data)):\n",
    "        if close_data[j] > open_data[j]:\n",
    "            stock_validation_output[i, j, 0] = 1\n",
    "            stock_validation_output[i, j, 1] = 0\n",
    "        else:\n",
    "            stock_validation_output[i, j, 0] = 0\n",
    "            stock_validation_output[i, j, 1] = 1\n",
    "    i+=1"
   ]
  },
  {
   "cell_type": "markdown",
   "metadata": {},
   "source": [
    "## TensorFlow\n",
    "### Converting the Data Into Tensors\n",
    "Turn the data frames into tensorflow datatypes so that they can be processed by tensorflow."
   ]
  },
  {
   "cell_type": "code",
   "execution_count": 439,
   "metadata": {},
   "outputs": [
    {
     "name": "stderr",
     "output_type": "stream",
     "text": [
      "<ipython-input-439-dbceed9d368c>:7: DeprecationWarning: in the future out of bounds indices will raise an error instead of being ignored by `numpy.delete`.\n",
      "  stock_validation_input = np.delete(stock_training_input, delete, axis=0)\n",
      "<ipython-input-439-dbceed9d368c>:8: DeprecationWarning: in the future out of bounds indices will raise an error instead of being ignored by `numpy.delete`.\n",
      "  stock_validation_output = np.delete(stock_training_output, delete, axis=0)\n"
     ]
    }
   ],
   "source": [
    "delete = []\n",
    "for j in range(i, 20):\n",
    "    delete.append(j)\n",
    "stock_training_input = np.delete(stock_training_input, delete, axis=0)\n",
    "stock_training_output = np.delete(stock_training_output, delete, axis=0)\n",
    "\n",
    "stock_validation_input = np.delete(stock_training_input, delete, axis=0)\n",
    "stock_validation_output = np.delete(stock_training_output, delete, axis=0)"
   ]
  },
  {
   "cell_type": "markdown",
   "metadata": {},
   "source": [
    "### Temporal Convolutional Network Class"
   ]
  },
  {
   "cell_type": "code",
   "execution_count": 440,
   "metadata": {},
   "outputs": [],
   "source": [
    "filter_count = 2 # Amount of filters\n",
    "final_filter_count = 2\n",
    "filters = [] # Filter size for each residual block\n",
    "kernel_size = 10 #Resolution of each filter\n",
    "level = kernel_size\n",
    "n = 0\n",
    "while level <= 254:\n",
    "    filters.append(filter_count)\n",
    "    level+=kernel_size + (kernel_size-1)*2**n\n",
    "    n+=1\n",
    "filters[-1] = final_filter_count"
   ]
  },
  {
   "cell_type": "code",
   "execution_count": 441,
   "metadata": {},
   "outputs": [
    {
     "data": {
      "text/plain": [
       "(254, 2)"
      ]
     },
     "execution_count": 441,
     "metadata": {},
     "output_type": "execute_result"
    }
   ],
   "source": [
    "class ResidualBlock(Layer):\n",
    "    def __init__(self, filters, kernel_size, strides, dilation_rate, activation,\n",
    "                trainable, dropout, dtype=None, activity_regularizer=None, **kwargs):\n",
    "        super(ResidualBlock, self).__init__(trainable, dtype=dtype)\n",
    "        self.activation = activation\n",
    "        self.dropout = dropout\n",
    "        self.filters = filters\n",
    "        self.adjust_sample = None\n",
    "        self.layer_norm = BatchNormalization(axis=-1)\n",
    "        self.dilatedcausal1 = Conv1D(filters,\n",
    "                                     kernel_size,\n",
    "                                     strides,\n",
    "                                     'causal',\n",
    "                                     dilation_rate=dilation_rate)\n",
    "        self.dilatedcausal2 = Conv1D(filters,\n",
    "                                     kernel_size,\n",
    "                                     strides,\n",
    "                                     'causal',\n",
    "                                     dilation_rate=dilation_rate)\n",
    "\n",
    "    #Make the dropout based on the shape of the input\n",
    "    def build(self, input_shape):\n",
    "        self.drop1 = Dropout(self.dropout, input_shape)\n",
    "        self.drop2 = Dropout(self.dropout, input_shape)\n",
    "        print('INPUT SHAPE ')\n",
    "        print(input_shape)\n",
    "        print(filters)\n",
    "        if input_shape[2]!=filters:\n",
    "            print('IF EXECUTED')\n",
    "            self.adjust_sample = Dense(self.filters)\n",
    "\n",
    "    #The residual block processes the input\n",
    "    def call(self, inputs, training):\n",
    "        x = self.dilatedcausal1(inputs)\n",
    "        x = self.layer_norm(x, training)\n",
    "        x = self.activation(x)\n",
    "        x = self.drop1(x, training) #If training is False, drop1 simply returns x\n",
    "        x = self.dilatedcausal2(x)\n",
    "        x = self.layer_norm(x, training)\n",
    "        x = self.activation(x)\n",
    "        x = self.drop2(x, training) #If training is False, drop2 simply returns x\n",
    "        if self.adjust_sample is not None:\n",
    "            inputs = self.adjust_sample(inputs)\n",
    "        return self.activation(x+inputs)\n",
    "        \n",
    "class TCN(Model):\n",
    "    def __init__(self, filters, kernel_size=2, dropout = 0.2, activation='relu',\n",
    "                trainable=False, dtype=None, name=None,\n",
    "                activity_regularizer=None, **kwargs):\n",
    "        super(TCN, self).__init__()\n",
    "        self.levels = []\n",
    "        for i in range(0, len(filters)):\n",
    "            self.levels.append(ResidualBlock(filters[i], kernel_size,\n",
    "                                             1, 2**i, Activation(activation),\n",
    "                                             trainable, dropout,\n",
    "                                             dtype, activity_regularizer))\n",
    "    \n",
    "    #Running the input through each residual block\n",
    "    def call(self, inputs, training=True):\n",
    "        for r_block in self.levels:\n",
    "            inputs = r_block(inputs, training)\n",
    "        return inputs\n",
    "stock_training_output[0].shape"
   ]
  },
  {
   "cell_type": "markdown",
   "metadata": {},
   "source": [
    "### Training the TCN"
   ]
  },
  {
   "cell_type": "code",
   "execution_count": 442,
   "metadata": {},
   "outputs": [
    {
     "name": "stdout",
     "output_type": "stream",
     "text": [
      "Epoch 1/120\n",
      "INPUT SHAPE \n",
      "(None, 254, 1)\n",
      "[2, 2, 2, 2, 2]\n",
      "IF EXECUTED\n",
      "INPUT SHAPE \n",
      "(None, 254, 2)\n",
      "[2, 2, 2, 2, 2]\n",
      "IF EXECUTED\n",
      "INPUT SHAPE \n",
      "(None, 254, 2)\n",
      "[2, 2, 2, 2, 2]\n",
      "IF EXECUTED\n",
      "INPUT SHAPE \n",
      "(None, 254, 2)\n",
      "[2, 2, 2, 2, 2]\n",
      "IF EXECUTED\n",
      "INPUT SHAPE \n",
      "(None, 254, 2)\n",
      "[2, 2, 2, 2, 2]\n",
      "IF EXECUTED\n",
      "1/1 [==============================] - 0s 0s/step - loss: 0.7943 - accuracy: 0.4719\n",
      "Epoch 2/120\n",
      "1/1 [==============================] - 0s 1ms/step - loss: 0.7753 - accuracy: 0.4306\n",
      "Epoch 3/120\n",
      "1/1 [==============================] - 0s 1ms/step - loss: 0.7878 - accuracy: 0.4498\n",
      "Epoch 4/120\n",
      "1/1 [==============================] - 0s 1ms/step - loss: 0.7680 - accuracy: 0.4296\n",
      "Epoch 5/120\n",
      "1/1 [==============================] - 0s 1ms/step - loss: 0.7521 - accuracy: 0.4473\n",
      "Epoch 6/120\n",
      "1/1 [==============================] - 0s 998us/step - loss: 0.8232 - accuracy: 0.4365\n",
      "Epoch 7/120\n",
      "1/1 [==============================] - 0s 1ms/step - loss: 0.6851 - accuracy: 0.4400\n",
      "Epoch 8/120\n",
      "1/1 [==============================] - 0s 1ms/step - loss: 0.7287 - accuracy: 0.4414\n",
      "Epoch 9/120\n",
      "1/1 [==============================] - 0s 996us/step - loss: 0.6796 - accuracy: 0.4400\n",
      "Epoch 10/120\n",
      "1/1 [==============================] - 0s 0s/step - loss: 0.6909 - accuracy: 0.4227\n",
      "Epoch 11/120\n",
      "1/1 [==============================] - 0s 1ms/step - loss: 0.7448 - accuracy: 0.4006\n",
      "Epoch 12/120\n",
      "1/1 [==============================] - 0s 2ms/step - loss: 0.6568 - accuracy: 0.4537\n",
      "Epoch 13/120\n",
      "1/1 [==============================] - 0s 1ms/step - loss: 0.6804 - accuracy: 0.4291\n",
      "Epoch 14/120\n",
      "1/1 [==============================] - 0s 1ms/step - loss: 0.6956 - accuracy: 0.4409\n",
      "Epoch 15/120\n",
      "1/1 [==============================] - 0s 998us/step - loss: 0.5843 - accuracy: 0.4449\n",
      "Epoch 16/120\n",
      "1/1 [==============================] - 0s 1ms/step - loss: 0.5745 - accuracy: 0.4301\n",
      "Epoch 17/120\n",
      "1/1 [==============================] - 0s 1ms/step - loss: 0.5618 - accuracy: 0.4503\n",
      "Epoch 18/120\n",
      "1/1 [==============================] - 0s 1ms/step - loss: 0.5388 - accuracy: 0.4281\n",
      "Epoch 19/120\n",
      "1/1 [==============================] - 0s 2ms/step - loss: 0.5894 - accuracy: 0.4419\n",
      "Epoch 20/120\n",
      "1/1 [==============================] - 0s 997us/step - loss: 0.5341 - accuracy: 0.4675\n",
      "Epoch 21/120\n",
      "1/1 [==============================] - 0s 1ms/step - loss: 0.5668 - accuracy: 0.4321\n",
      "Epoch 22/120\n",
      "1/1 [==============================] - 0s 0s/step - loss: 0.5479 - accuracy: 0.4321\n",
      "Epoch 23/120\n",
      "1/1 [==============================] - 0s 1ms/step - loss: 0.5495 - accuracy: 0.4606\n",
      "Epoch 24/120\n",
      "1/1 [==============================] - 0s 999us/step - loss: 0.5069 - accuracy: 0.4532\n",
      "Epoch 25/120\n",
      "1/1 [==============================] - 0s 998us/step - loss: 0.5233 - accuracy: 0.4439\n",
      "Epoch 26/120\n",
      "1/1 [==============================] - 0s 1ms/step - loss: 0.5109 - accuracy: 0.4572\n",
      "Epoch 27/120\n",
      "1/1 [==============================] - 0s 0s/step - loss: 0.4797 - accuracy: 0.4513\n",
      "Epoch 28/120\n",
      "1/1 [==============================] - 0s 1ms/step - loss: 0.4539 - accuracy: 0.4473\n",
      "Epoch 29/120\n",
      "1/1 [==============================] - 0s 1ms/step - loss: 0.4580 - accuracy: 0.4247\n",
      "Epoch 30/120\n",
      "1/1 [==============================] - 0s 2ms/step - loss: 0.4805 - accuracy: 0.4454\n",
      "Epoch 31/120\n",
      "1/1 [==============================] - 0s 1ms/step - loss: 0.4676 - accuracy: 0.4577\n",
      "Epoch 32/120\n",
      "1/1 [==============================] - 0s 0s/step - loss: 0.4287 - accuracy: 0.4464\n",
      "Epoch 33/120\n",
      "1/1 [==============================] - 0s 1ms/step - loss: 0.4498 - accuracy: 0.4429\n",
      "Epoch 34/120\n",
      "1/1 [==============================] - 0s 997us/step - loss: 0.4302 - accuracy: 0.4419\n",
      "Epoch 35/120\n",
      "1/1 [==============================] - 0s 997us/step - loss: 0.4297 - accuracy: 0.4621\n",
      "Epoch 36/120\n",
      "1/1 [==============================] - 0s 997us/step - loss: 0.4108 - accuracy: 0.4513\n",
      "Epoch 37/120\n",
      "1/1 [==============================] - 0s 996us/step - loss: 0.3882 - accuracy: 0.4296\n",
      "Epoch 38/120\n",
      "1/1 [==============================] - 0s 975us/step - loss: 0.4040 - accuracy: 0.4532\n",
      "Epoch 39/120\n",
      "1/1 [==============================] - 0s 2ms/step - loss: 0.3851 - accuracy: 0.4552\n",
      "Epoch 40/120\n",
      "1/1 [==============================] - 0s 997us/step - loss: 0.4012 - accuracy: 0.4449\n",
      "Epoch 41/120\n",
      "1/1 [==============================] - 0s 1ms/step - loss: 0.3623 - accuracy: 0.4400\n",
      "Epoch 42/120\n",
      "1/1 [==============================] - 0s 2ms/step - loss: 0.3854 - accuracy: 0.4523\n",
      "Epoch 43/120\n",
      "1/1 [==============================] - 0s 0s/step - loss: 0.3776 - accuracy: 0.4375\n",
      "Epoch 44/120\n",
      "1/1 [==============================] - 0s 1ms/step - loss: 0.3691 - accuracy: 0.4611\n",
      "Epoch 45/120\n",
      "1/1 [==============================] - 0s 1ms/step - loss: 0.3868 - accuracy: 0.4232\n",
      "Epoch 46/120\n",
      "1/1 [==============================] - 0s 1ms/step - loss: 0.3899 - accuracy: 0.4611\n",
      "Epoch 47/120\n",
      "1/1 [==============================] - 0s 1ms/step - loss: 0.3409 - accuracy: 0.4660\n",
      "Epoch 48/120\n",
      "1/1 [==============================] - 0s 997us/step - loss: 0.3326 - accuracy: 0.4646\n",
      "Epoch 49/120\n",
      "1/1 [==============================] - 0s 1ms/step - loss: 0.3435 - accuracy: 0.4523\n",
      "Epoch 50/120\n",
      "1/1 [==============================] - 0s 1ms/step - loss: 0.3339 - accuracy: 0.4572\n",
      "Epoch 51/120\n",
      "1/1 [==============================] - 0s 997us/step - loss: 0.3358 - accuracy: 0.4547\n",
      "Epoch 52/120\n",
      "1/1 [==============================] - 0s 992us/step - loss: 0.3611 - accuracy: 0.4488\n",
      "Epoch 53/120\n",
      "1/1 [==============================] - 0s 997us/step - loss: 0.3474 - accuracy: 0.4552\n",
      "Epoch 54/120\n",
      "1/1 [==============================] - 0s 997us/step - loss: 0.3474 - accuracy: 0.4680\n",
      "Epoch 55/120\n",
      "1/1 [==============================] - 0s 997us/step - loss: 0.3200 - accuracy: 0.4729\n",
      "Epoch 56/120\n",
      "1/1 [==============================] - 0s 1ms/step - loss: 0.3069 - accuracy: 0.4660\n",
      "Epoch 57/120\n",
      "1/1 [==============================] - 0s 1ms/step - loss: 0.3416 - accuracy: 0.4764\n",
      "Epoch 58/120\n",
      "1/1 [==============================] - 0s 997us/step - loss: 0.3388 - accuracy: 0.4852\n",
      "Epoch 59/120\n",
      "1/1 [==============================] - 0s 998us/step - loss: 0.3141 - accuracy: 0.4764\n",
      "Epoch 60/120\n",
      "1/1 [==============================] - 0s 996us/step - loss: 0.3115 - accuracy: 0.4946\n",
      "Epoch 61/120\n",
      "1/1 [==============================] - 0s 998us/step - loss: 0.3188 - accuracy: 0.4660\n",
      "Epoch 62/120\n",
      "1/1 [==============================] - 0s 998us/step - loss: 0.3253 - accuracy: 0.4685\n",
      "Epoch 63/120\n",
      "1/1 [==============================] - 0s 998us/step - loss: 0.3041 - accuracy: 0.4754\n",
      "Epoch 64/120\n",
      "1/1 [==============================] - 0s 998us/step - loss: 0.3044 - accuracy: 0.4582\n",
      "Epoch 65/120\n",
      "1/1 [==============================] - 0s 999us/step - loss: 0.3121 - accuracy: 0.4700\n",
      "Epoch 66/120\n",
      "1/1 [==============================] - 0s 1ms/step - loss: 0.3163 - accuracy: 0.4680\n",
      "Epoch 67/120\n",
      "1/1 [==============================] - 0s 997us/step - loss: 0.3071 - accuracy: 0.4749\n",
      "Epoch 68/120\n",
      "1/1 [==============================] - 0s 1ms/step - loss: 0.2881 - accuracy: 0.4705\n",
      "Epoch 69/120\n",
      "1/1 [==============================] - 0s 981us/step - loss: 0.3041 - accuracy: 0.4783\n",
      "Epoch 70/120\n",
      "1/1 [==============================] - 0s 998us/step - loss: 0.3051 - accuracy: 0.4833\n",
      "Epoch 71/120\n",
      "1/1 [==============================] - 0s 998us/step - loss: 0.2872 - accuracy: 0.4833\n",
      "Epoch 72/120\n",
      "1/1 [==============================] - 0s 2ms/step - loss: 0.2942 - accuracy: 0.4833\n",
      "Epoch 73/120\n",
      "1/1 [==============================] - 0s 1ms/step - loss: 0.3058 - accuracy: 0.4808\n",
      "Epoch 74/120\n",
      "1/1 [==============================] - 0s 996us/step - loss: 0.2989 - accuracy: 0.4774\n",
      "Epoch 75/120\n",
      "1/1 [==============================] - 0s 0s/step - loss: 0.2967 - accuracy: 0.4857\n",
      "Epoch 76/120\n",
      "1/1 [==============================] - 0s 1ms/step - loss: 0.2947 - accuracy: 0.4774\n",
      "Epoch 77/120\n",
      "1/1 [==============================] - 0s 1ms/step - loss: 0.2874 - accuracy: 0.4897\n",
      "Epoch 78/120\n",
      "1/1 [==============================] - 0s 1ms/step - loss: 0.2882 - accuracy: 0.5015\n",
      "Epoch 79/120\n",
      "1/1 [==============================] - 0s 998us/step - loss: 0.2887 - accuracy: 0.4843\n",
      "Epoch 80/120\n",
      "1/1 [==============================] - 0s 2ms/step - loss: 0.2773 - accuracy: 0.5054\n",
      "Epoch 81/120\n"
     ]
    },
    {
     "name": "stdout",
     "output_type": "stream",
     "text": [
      "1/1 [==============================] - 0s 998us/step - loss: 0.2802 - accuracy: 0.4744\n",
      "Epoch 82/120\n",
      "1/1 [==============================] - 0s 996us/step - loss: 0.2698 - accuracy: 0.5030\n",
      "Epoch 83/120\n",
      "1/1 [==============================] - 0s 998us/step - loss: 0.2930 - accuracy: 0.4744\n",
      "Epoch 84/120\n",
      "1/1 [==============================] - 0s 998us/step - loss: 0.2849 - accuracy: 0.5054\n",
      "Epoch 85/120\n",
      "1/1 [==============================] - 0s 1ms/step - loss: 0.2712 - accuracy: 0.4970\n",
      "Epoch 86/120\n",
      "1/1 [==============================] - 0s 1ms/step - loss: 0.2874 - accuracy: 0.4926\n",
      "Epoch 87/120\n",
      "1/1 [==============================] - 0s 999us/step - loss: 0.2741 - accuracy: 0.5010\n",
      "Epoch 88/120\n",
      "1/1 [==============================] - 0s 1ms/step - loss: 0.2787 - accuracy: 0.4975\n",
      "Epoch 89/120\n",
      "1/1 [==============================] - 0s 1ms/step - loss: 0.2664 - accuracy: 0.4921\n",
      "Epoch 90/120\n",
      "1/1 [==============================] - 0s 1ms/step - loss: 0.2793 - accuracy: 0.4906\n",
      "Epoch 91/120\n",
      "1/1 [==============================] - 0s 1ms/step - loss: 0.2693 - accuracy: 0.5123\n",
      "Epoch 92/120\n",
      "1/1 [==============================] - 0s 1ms/step - loss: 0.2718 - accuracy: 0.4990\n",
      "Epoch 93/120\n",
      "1/1 [==============================] - 0s 998us/step - loss: 0.2607 - accuracy: 0.5094\n",
      "Epoch 94/120\n",
      "1/1 [==============================] - 0s 1ms/step - loss: 0.2764 - accuracy: 0.4936\n",
      "Epoch 95/120\n",
      "1/1 [==============================] - 0s 998us/step - loss: 0.2761 - accuracy: 0.5123\n",
      "Epoch 96/120\n",
      "1/1 [==============================] - 0s 1ms/step - loss: 0.2614 - accuracy: 0.5172\n",
      "Epoch 97/120\n",
      "1/1 [==============================] - 0s 997us/step - loss: 0.2678 - accuracy: 0.4838\n",
      "Epoch 98/120\n",
      "1/1 [==============================] - 0s 1ms/step - loss: 0.2657 - accuracy: 0.5074\n",
      "Epoch 99/120\n",
      "1/1 [==============================] - 0s 0s/step - loss: 0.2698 - accuracy: 0.5330\n",
      "Epoch 100/120\n",
      "1/1 [==============================] - 0s 996us/step - loss: 0.2673 - accuracy: 0.5217\n",
      "Epoch 101/120\n",
      "1/1 [==============================] - 0s 0s/step - loss: 0.2765 - accuracy: 0.5315\n",
      "Epoch 102/120\n",
      "1/1 [==============================] - 0s 997us/step - loss: 0.2616 - accuracy: 0.5049\n",
      "Epoch 103/120\n",
      "1/1 [==============================] - 0s 998us/step - loss: 0.2715 - accuracy: 0.5394\n",
      "Epoch 104/120\n",
      "1/1 [==============================] - 0s 0s/step - loss: 0.2708 - accuracy: 0.5271\n",
      "Epoch 105/120\n",
      "1/1 [==============================] - 0s 998us/step - loss: 0.2583 - accuracy: 0.5030\n",
      "Epoch 106/120\n",
      "1/1 [==============================] - 0s 1ms/step - loss: 0.2529 - accuracy: 0.5217\n",
      "Epoch 107/120\n",
      "1/1 [==============================] - 0s 1ms/step - loss: 0.2641 - accuracy: 0.5202\n",
      "Epoch 108/120\n",
      "1/1 [==============================] - 0s 999us/step - loss: 0.2656 - accuracy: 0.5679\n",
      "Epoch 109/120\n",
      "1/1 [==============================] - 0s 997us/step - loss: 0.2745 - accuracy: 0.5148\n",
      "Epoch 110/120\n",
      "1/1 [==============================] - 0s 997us/step - loss: 0.2654 - accuracy: 0.5438\n",
      "Epoch 111/120\n",
      "1/1 [==============================] - 0s 1ms/step - loss: 0.2578 - accuracy: 0.5305\n",
      "Epoch 112/120\n",
      "1/1 [==============================] - 0s 997us/step - loss: 0.2634 - accuracy: 0.5246\n",
      "Epoch 113/120\n",
      "1/1 [==============================] - 0s 1ms/step - loss: 0.2656 - accuracy: 0.5404\n",
      "Epoch 114/120\n",
      "1/1 [==============================] - 0s 1ms/step - loss: 0.2668 - accuracy: 0.5551\n",
      "Epoch 115/120\n",
      "1/1 [==============================] - 0s 963us/step - loss: 0.2601 - accuracy: 0.5546\n",
      "Epoch 116/120\n",
      "1/1 [==============================] - 0s 1ms/step - loss: 0.2561 - accuracy: 0.5463\n",
      "Epoch 117/120\n",
      "1/1 [==============================] - 0s 0s/step - loss: 0.2505 - accuracy: 0.5704\n",
      "Epoch 118/120\n",
      "1/1 [==============================] - 0s 998us/step - loss: 0.2578 - accuracy: 0.5379\n",
      "Epoch 119/120\n",
      "1/1 [==============================] - 0s 997us/step - loss: 0.2556 - accuracy: 0.5576\n",
      "Epoch 120/120\n",
      "1/1 [==============================] - 0s 1ms/step - loss: 0.2639 - accuracy: 0.5448\n"
     ]
    },
    {
     "data": {
      "text/plain": [
       "<tensorflow.python.keras.callbacks.History at 0x1748a12fc40>"
      ]
     },
     "execution_count": 442,
     "metadata": {},
     "output_type": "execute_result"
    }
   ],
   "source": [
    "tcn_model = TCN(filters, kernel_size, activation='relu', trainable = True, dtype='float')\n",
    "tcn_model.compile(optimizer='adam', loss = 'mse', metrics=['accuracy'])\n",
    "tcn_model.fit(stock_training_input, stock_training_output, epochs = 120)"
   ]
  },
  {
   "cell_type": "code",
   "execution_count": 443,
   "metadata": {},
   "outputs": [
    {
     "data": {
      "text/plain": [
       "<matplotlib.axes._subplots.AxesSubplot at 0x1748bd5ff70>"
      ]
     },
     "execution_count": 443,
     "metadata": {},
     "output_type": "execute_result"
    },
    {
     "data": {
      "image/png": "[encoded data removed]",
      "text/plain": [
       "<Figure size 432x288 with 1 Axes>"
      ]
     },
     "metadata": {
      "needs_background": "light"
     },
     "output_type": "display_data"
    }
   ],
   "source": [
    "losses = pd.DataFrame(tcn_model.history.history)\n",
    "losses.plot()"
   ]
  },
  {
   "cell_type": "markdown",
   "metadata": {},
   "source": [
    "# Predictions"
   ]
  },
  {
   "cell_type": "code",
   "execution_count": 444,
   "metadata": {},
   "outputs": [
    {
     "data": {
      "text/plain": [
       "<matplotlib.axes._subplots.AxesSubplot at 0x1748ed8d700>"
      ]
     },
     "execution_count": 444,
     "metadata": {},
     "output_type": "execute_result"
    },
    {
     "data": {
      "image/png": "[encoded data removed]",
      "text/plain": [
       "<Figure size 432x288 with 1 Axes>"
      ]
     },
     "metadata": {
      "needs_background": "light"
     },
     "output_type": "display_data"
    }
   ],
   "source": [
    "import seaborn as sns\n",
    "test_predictions = tcn_model.predict(stock_training_input)\n",
    "\n",
    "test_predictions = pd.Series(test_predictions.reshape(4064,))\n",
    "# pred_df = pd.DataFrame(stock_training_output[0], columns=['Test True Y'])\n",
    "sns.scatterplot(data=test_predictions)"
   ]
  },
  {
   "cell_type": "code",
   "execution_count": null,
   "metadata": {},
   "outputs": [],
   "source": []
  }
 ],
 "metadata": {
  "kernelspec": {
   "display_name": "Python 3",
   "language": "python",
   "name": "python3"
  },
  "language_info": {
   "codemirror_mode": {
    "name": "ipython",
    "version": 3
   },
   "file_extension": ".py",
   "mimetype": "text/x-python",
   "name": "python",
   "nbconvert_exporter": "python",
   "pygments_lexer": "ipython3",
   "version": "3.8.3"
  }
 },
 "nbformat": 4,
 "nbformat_minor": 2
}
