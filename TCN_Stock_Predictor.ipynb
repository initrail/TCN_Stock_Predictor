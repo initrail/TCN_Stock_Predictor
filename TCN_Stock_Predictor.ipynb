{
 "cells": [
  {
   "cell_type": "markdown",
   "metadata": {},
   "source": [
    "# Using a Temporal Convolutional Network for Daytrading\n",
    "## Daniel Kalam, Sharvita Paithankar"
   ]
  },
  {
   "cell_type": "code",
   "execution_count": 399,
   "metadata": {},
   "outputs": [],
   "source": [
    "import tensorflow as tf\n",
    "from sklearn.preprocessing import StandardScaler\n",
    "from tensorflow.keras import Model\n",
    "from tensorflow.keras.layers import Layer, Conv1D, Dropout, Dense, Activation, BatchNormalization\n",
    "from tensorflow.keras.losses import CategoricalCrossentropy\n",
    "import pandas as pd\n",
    "from pandas_datareader import DataReader\n",
    "import numpy as np\n",
    "import matplotlib.pyplot as plt\n",
    "import datetime"
   ]
  },
  {
   "cell_type": "markdown",
   "metadata": {},
   "source": [
    "## Gathering Data\n",
    "Getting data for 100 stocks in the date range of April 2nd, 2018 to October 9th, 2020 from yahoo finance."
   ]
  },
  {
   "cell_type": "code",
   "execution_count": 400,
   "metadata": {
    "scrolled": true
   },
   "outputs": [],
   "source": [
    "symbols = ['AAPL', 'TSLA', 'FB', 'ROKU']# , 'BRK', 'GOOGL', 'INTC', 'AMD', 'HPE', 'ZM',\n",
    "          #'CAKE', 'AET', 'F', 'KO', 'DDS', 'NVDA', 'NFLX', 'JPM', 'AMZN', 'MSFT']\n",
    "#TODO: Add 80 more symbols.\n",
    "source = 'yahoo'\n",
    "start_date = pd.to_datetime('2019-10-09')\n",
    "end_date = pd.to_datetime('2020-10-09')\n",
    "stock_data_training = {}\n",
    "for symbol in symbols:\n",
    "    stock_data_training[symbol] = DataReader(symbol, source, start_date, end_date)\n",
    "symbols2 = ['NFLX', 'ZM', 'AMZN', 'MSFT']\n",
    "stock_data_validation = {}\n",
    "for symbol in symbols2:\n",
    "    stock_data_validation[symbol] = DataReader(symbol, source, start_date, end_date)"
   ]
  },
  {
   "cell_type": "markdown",
   "metadata": {},
   "source": [
    "Create a data frame for each column in a stock's data frame."
   ]
  },
  {
   "cell_type": "code",
   "execution_count": 401,
   "metadata": {},
   "outputs": [],
   "source": [
    "stock_training_input = np.empty((20, 254, 1))\n",
    "stock_training_output = np.zeros((20, 254, 2))\n",
    "stock_validation_input = np.empty((20, 254, 1))\n",
    "stock_validation_output = np.zeros((20, 254, 2))\n",
    "i = 0\n",
    "scaler = StandardScaler()\n",
    "for symbol in stock_data_training:\n",
    "    close_data = stock_data_training[symbol].Close\n",
    "    open_data = stock_data_training[symbol].Open\n",
    "    #stock_data[symbol].drop(axis= 1, columns = ['Close', 'High', 'Low', 'Volume', 'Adj Close'], inplace = True)\n",
    "    stock_np = stock_data_training[symbol].Open.to_numpy().reshape(254, 1)\n",
    "    stock_np = scaler.fit_transform(stock_np)\n",
    "    #if stock_np.shape == stock_training_data_input[i].shape:\n",
    "    stock_training_input[i, :, :] = stock_np[:, :]\n",
    "    for j in range(0, len(close_data)):\n",
    "        if close_data[j] > open_data[j]:\n",
    "            stock_training_output[i, j, 0] = 1\n",
    "            stock_training_output[i, j, 1] = 0\n",
    "        else:\n",
    "            stock_training_output[i, j, 0] = 0\n",
    "            stock_training_output[i, j, 1] = 1\n",
    "    i+=1\n",
    "for symbol in stock_data_validation:\n",
    "    close_data = stock_data_validation[symbol].Close\n",
    "    open_data = stock_data_validation[symbol].Open\n",
    "    #stock_data[symbol].drop(axis= 1, columns = ['Close', 'High', 'Low', 'Volume', 'Adj Close'], inplace = True)\n",
    "    stock_np = stock_data_validation[symbol].Open.to_numpy().reshape(254, 1)\n",
    "    stock_np = scaler.fit_transform(stock_np)\n",
    "    #if stock_np.shape == stock_training_data_input[i].shape:\n",
    "    stock_validation_input[i, :, :] = stock_np[:, :]\n",
    "    for j in range(0, len(close_data)):\n",
    "        if close_data[j] > open_data[j]:\n",
    "            stock_validation_output[i, j, 0] = 1\n",
    "            stock_validation_output[i, j, 1] = 0\n",
    "        else:\n",
    "            stock_validation_output[i, j, 0] = 0\n",
    "            stock_validation_output[i, j, 1] = 1\n",
    "    i+=1"
   ]
  },
  {
   "cell_type": "markdown",
   "metadata": {},
   "source": [
    "## TensorFlow\n",
    "### Converting the Data Into Tensors\n",
    "Turn the data frames into tensorflow datatypes so that they can be processed by tensorflow."
   ]
  },
  {
   "cell_type": "code",
   "execution_count": 402,
   "metadata": {},
   "outputs": [
    {
     "name": "stderr",
     "output_type": "stream",
     "text": [
      "<ipython-input-402-dbceed9d368c>:7: DeprecationWarning: in the future out of bounds indices will raise an error instead of being ignored by `numpy.delete`.\n",
      "  stock_validation_input = np.delete(stock_training_input, delete, axis=0)\n",
      "<ipython-input-402-dbceed9d368c>:8: DeprecationWarning: in the future out of bounds indices will raise an error instead of being ignored by `numpy.delete`.\n",
      "  stock_validation_output = np.delete(stock_training_output, delete, axis=0)\n"
     ]
    }
   ],
   "source": [
    "delete = []\n",
    "for j in range(i, 20):\n",
    "    delete.append(j)\n",
    "stock_training_input = np.delete(stock_training_input, delete, axis=0)\n",
    "stock_training_output = np.delete(stock_training_output, delete, axis=0)\n",
    "\n",
    "stock_validation_input = np.delete(stock_training_input, delete, axis=0)\n",
    "stock_validation_output = np.delete(stock_training_output, delete, axis=0)"
   ]
  },
  {
   "cell_type": "markdown",
   "metadata": {},
   "source": [
    "### Temporal Convolutional Network Class"
   ]
  },
  {
   "cell_type": "code",
   "execution_count": 403,
   "metadata": {},
   "outputs": [],
   "source": [
    "filter_count = 2 # Amount of filters\n",
    "final_filter_count = 2\n",
    "filters = [] # Filter size for each residual block\n",
    "kernel_size = 10 #Resolution of each filter\n",
    "level = kernel_size\n",
    "n = 0\n",
    "while level <= 254:\n",
    "    filters.append(filter_count)\n",
    "    level+=kernel_size + (kernel_size-1)*2**n\n",
    "    n+=1\n",
    "filters[-1] = final_filter_count"
   ]
  },
  {
   "cell_type": "code",
   "execution_count": 404,
   "metadata": {},
   "outputs": [
    {
     "data": {
      "text/plain": [
       "(254, 2)"
      ]
     },
     "execution_count": 404,
     "metadata": {},
     "output_type": "execute_result"
    }
   ],
   "source": [
    "class ResidualBlock(Layer):\n",
    "    def __init__(self, filters, kernel_size, strides, dilation_rate, activation,\n",
    "                trainable, dropout, dtype=None, activity_regularizer=None, **kwargs):\n",
    "        super(ResidualBlock, self).__init__(trainable, dtype=dtype)\n",
    "        self.activation = activation\n",
    "        self.dropout = dropout\n",
    "        self.filters = filters\n",
    "        self.adjust_sample = None\n",
    "        self.layer_norm = BatchNormalization(axis=-1)\n",
    "        self.dilatedcausal1 = Conv1D(filters,\n",
    "                                     kernel_size,\n",
    "                                     strides,\n",
    "                                     'causal',\n",
    "                                     dilation_rate=dilation_rate)\n",
    "        self.dilatedcausal2 = Conv1D(filters,\n",
    "                                     kernel_size,\n",
    "                                     strides,\n",
    "                                     'causal',\n",
    "                                     dilation_rate=dilation_rate)\n",
    "\n",
    "    #Make the dropout based on the shape of the input\n",
    "    def build(self, input_shape):\n",
    "        self.drop1 = Dropout(self.dropout, input_shape)\n",
    "        self.drop2 = Dropout(self.dropout, input_shape)\n",
    "        if input_shape[2]!=filters:\n",
    "            self.adjust_sample = Dense(self.filters)\n",
    "\n",
    "    #The residual block processes the input\n",
    "    def call(self, inputs, training):\n",
    "        x = self.dilatedcausal1(inputs)\n",
    "        x = self.layer_norm(x, training)\n",
    "        x = self.activation(x)\n",
    "        x = self.drop1(x, training) #If training is False, drop1 simply returns x\n",
    "        x = self.dilatedcausal2(x)\n",
    "        x = self.layer_norm(x, training)\n",
    "        x = self.activation(x)\n",
    "        x = self.drop2(x, training) #If training is False, drop2 simply returns x\n",
    "        if self.adjust_sample is not None:\n",
    "            inputs = self.adjust_sample(inputs)\n",
    "        return self.activation(x+inputs)\n",
    "        \n",
    "class TCN(Model):\n",
    "    def __init__(self, filters, kernel_size=2, dropout = 0.2, activation='relu',\n",
    "                trainable=False, dtype=None, name=None,\n",
    "                activity_regularizer=None, **kwargs):\n",
    "        super(TCN, self).__init__()\n",
    "        self.levels = []\n",
    "        for i in range(0, len(filters)):\n",
    "            self.levels.append(ResidualBlock(filters[i], kernel_size,\n",
    "                                             1, 2**i, Activation(activation),\n",
    "                                             trainable, dropout,\n",
    "                                             dtype, activity_regularizer))\n",
    "    \n",
    "    #Running the input through each residual block\n",
    "    def call(self, inputs, training=True):\n",
    "        for r_block in self.levels:\n",
    "            inputs = r_block(inputs, training)\n",
    "        return inputs\n",
    "stock_training_output[0].shape"
   ]
  },
  {
   "cell_type": "markdown",
   "metadata": {},
   "source": [
    "### Training the TCN"
   ]
  },
  {
   "cell_type": "code",
   "execution_count": 405,
   "metadata": {},
   "outputs": [
    {
     "name": "stdout",
     "output_type": "stream",
     "text": [
      "Epoch 1/120\n",
      "1/1 [==============================] - 0s 1ms/step - loss: 0.6445 - accuracy: 0.6860\n",
      "Epoch 2/120\n",
      "1/1 [==============================] - 0s 1ms/step - loss: 0.6413 - accuracy: 0.6929\n",
      "Epoch 3/120\n",
      "1/1 [==============================] - 0s 953us/step - loss: 0.6315 - accuracy: 0.6491\n",
      "Epoch 4/120\n",
      "1/1 [==============================] - 0s 1ms/step - loss: 0.5177 - accuracy: 0.6580\n",
      "Epoch 5/120\n",
      "1/1 [==============================] - 0s 995us/step - loss: 0.5147 - accuracy: 0.6304\n",
      "Epoch 6/120\n",
      "1/1 [==============================] - 0s 1ms/step - loss: 0.5819 - accuracy: 0.6521\n",
      "Epoch 7/120\n",
      "1/1 [==============================] - 0s 997us/step - loss: 0.4591 - accuracy: 0.6481\n",
      "Epoch 8/120\n",
      "1/1 [==============================] - 0s 997us/step - loss: 0.4961 - accuracy: 0.6481\n",
      "Epoch 9/120\n",
      "1/1 [==============================] - 0s 997us/step - loss: 0.4169 - accuracy: 0.6496\n",
      "Epoch 10/120\n",
      "1/1 [==============================] - 0s 997us/step - loss: 0.4685 - accuracy: 0.6407\n",
      "Epoch 11/120\n",
      "1/1 [==============================] - 0s 0s/step - loss: 0.3632 - accuracy: 0.6403\n",
      "Epoch 12/120\n",
      "1/1 [==============================] - 0s 1ms/step - loss: 0.4411 - accuracy: 0.6452\n",
      "Epoch 13/120\n",
      "1/1 [==============================] - 0s 1ms/step - loss: 0.4672 - accuracy: 0.6496\n",
      "Epoch 14/120\n",
      "1/1 [==============================] - 0s 998us/step - loss: 0.4208 - accuracy: 0.6427\n",
      "Epoch 15/120\n",
      "1/1 [==============================] - 0s 997us/step - loss: 0.4798 - accuracy: 0.6452\n",
      "Epoch 16/120\n",
      "1/1 [==============================] - 0s 1ms/step - loss: 0.3997 - accuracy: 0.6491\n",
      "Epoch 17/120\n",
      "1/1 [==============================] - 0s 1ms/step - loss: 0.4135 - accuracy: 0.6412\n",
      "Epoch 18/120\n",
      "1/1 [==============================] - 0s 1ms/step - loss: 0.3643 - accuracy: 0.6535\n",
      "Epoch 19/120\n",
      "1/1 [==============================] - 0s 2ms/step - loss: 0.3525 - accuracy: 0.6407\n",
      "Epoch 20/120\n",
      "1/1 [==============================] - 0s 0s/step - loss: 0.3334 - accuracy: 0.6299\n",
      "Epoch 21/120\n",
      "1/1 [==============================] - 0s 1ms/step - loss: 0.3444 - accuracy: 0.6166\n",
      "Epoch 22/120\n",
      "1/1 [==============================] - 0s 964us/step - loss: 0.3698 - accuracy: 0.6442\n",
      "Epoch 23/120\n",
      "1/1 [==============================] - 0s 998us/step - loss: 0.2966 - accuracy: 0.6280\n",
      "Epoch 24/120\n",
      "1/1 [==============================] - 0s 1ms/step - loss: 0.2929 - accuracy: 0.6166\n",
      "Epoch 25/120\n",
      "1/1 [==============================] - 0s 0s/step - loss: 0.2950 - accuracy: 0.6427\n",
      "Epoch 26/120\n",
      "1/1 [==============================] - 0s 1ms/step - loss: 0.2867 - accuracy: 0.6329\n",
      "Epoch 27/120\n",
      "1/1 [==============================] - 0s 998us/step - loss: 0.3396 - accuracy: 0.6294\n",
      "Epoch 28/120\n",
      "1/1 [==============================] - 0s 1000us/step - loss: 0.3071 - accuracy: 0.6270\n",
      "Epoch 29/120\n",
      "1/1 [==============================] - 0s 1ms/step - loss: 0.2825 - accuracy: 0.6329\n",
      "Epoch 30/120\n",
      "1/1 [==============================] - 0s 0s/step - loss: 0.2651 - accuracy: 0.6186\n",
      "Epoch 31/120\n",
      "1/1 [==============================] - 0s 1ms/step - loss: 0.2820 - accuracy: 0.6373\n",
      "Epoch 32/120\n",
      "1/1 [==============================] - 0s 1ms/step - loss: 0.2761 - accuracy: 0.6078\n",
      "Epoch 33/120\n",
      "1/1 [==============================] - 0s 1ms/step - loss: 0.3029 - accuracy: 0.6038\n",
      "Epoch 34/120\n",
      "1/1 [==============================] - 0s 0s/step - loss: 0.3109 - accuracy: 0.5984\n",
      "Epoch 35/120\n",
      "1/1 [==============================] - 0s 1ms/step - loss: 0.3126 - accuracy: 0.6255\n",
      "Epoch 36/120\n",
      "1/1 [==============================] - 0s 998us/step - loss: 0.2958 - accuracy: 0.6260\n",
      "Epoch 37/120\n",
      "1/1 [==============================] - 0s 997us/step - loss: 0.2722 - accuracy: 0.6220\n",
      "Epoch 38/120\n",
      "1/1 [==============================] - 0s 1ms/step - loss: 0.2516 - accuracy: 0.6299\n",
      "Epoch 39/120\n",
      "1/1 [==============================] - 0s 1ms/step - loss: 0.2642 - accuracy: 0.6422\n",
      "Epoch 40/120\n",
      "1/1 [==============================] - 0s 2ms/step - loss: 0.2697 - accuracy: 0.6196\n",
      "Epoch 41/120\n",
      "1/1 [==============================] - 0s 1ms/step - loss: 0.2497 - accuracy: 0.6260\n",
      "Epoch 42/120\n",
      "1/1 [==============================] - 0s 997us/step - loss: 0.2587 - accuracy: 0.6280\n",
      "Epoch 43/120\n",
      "1/1 [==============================] - 0s 1ms/step - loss: 0.2490 - accuracy: 0.6407\n",
      "Epoch 44/120\n",
      "1/1 [==============================] - 0s 0s/step - loss: 0.2622 - accuracy: 0.6053\n",
      "Epoch 45/120\n",
      "1/1 [==============================] - 0s 0s/step - loss: 0.2578 - accuracy: 0.6181\n",
      "Epoch 46/120\n",
      "1/1 [==============================] - 0s 0s/step - loss: 0.2611 - accuracy: 0.6043\n",
      "Epoch 47/120\n",
      "1/1 [==============================] - 0s 996us/step - loss: 0.2663 - accuracy: 0.6073\n",
      "Epoch 48/120\n",
      "1/1 [==============================] - 0s 0s/step - loss: 0.2603 - accuracy: 0.6339\n",
      "Epoch 49/120\n",
      "1/1 [==============================] - 0s 1ms/step - loss: 0.2500 - accuracy: 0.6053\n",
      "Epoch 50/120\n",
      "1/1 [==============================] - 0s 973us/step - loss: 0.2510 - accuracy: 0.5984\n",
      "Epoch 51/120\n",
      "1/1 [==============================] - 0s 998us/step - loss: 0.2602 - accuracy: 0.6348\n",
      "Epoch 52/120\n",
      "1/1 [==============================] - 0s 998us/step - loss: 0.2409 - accuracy: 0.6255\n",
      "Epoch 53/120\n",
      "1/1 [==============================] - 0s 1ms/step - loss: 0.2388 - accuracy: 0.6235\n",
      "Epoch 54/120\n",
      "1/1 [==============================] - 0s 997us/step - loss: 0.2541 - accuracy: 0.6166\n",
      "Epoch 55/120\n",
      "1/1 [==============================] - 0s 998us/step - loss: 0.2470 - accuracy: 0.6260\n",
      "Epoch 56/120\n",
      "1/1 [==============================] - 0s 1ms/step - loss: 0.2331 - accuracy: 0.6368\n",
      "Epoch 57/120\n",
      "1/1 [==============================] - 0s 2ms/step - loss: 0.2365 - accuracy: 0.6132\n",
      "Epoch 58/120\n",
      "1/1 [==============================] - 0s 997us/step - loss: 0.2364 - accuracy: 0.6117\n",
      "Epoch 59/120\n",
      "1/1 [==============================] - 0s 0s/step - loss: 0.2291 - accuracy: 0.6201\n",
      "Epoch 60/120\n",
      "1/1 [==============================] - 0s 997us/step - loss: 0.2360 - accuracy: 0.6093\n",
      "Epoch 61/120\n",
      "1/1 [==============================] - 0s 997us/step - loss: 0.2324 - accuracy: 0.6156\n",
      "Epoch 62/120\n",
      "1/1 [==============================] - 0s 997us/step - loss: 0.2299 - accuracy: 0.6033\n",
      "Epoch 63/120\n",
      "1/1 [==============================] - 0s 997us/step - loss: 0.2286 - accuracy: 0.6220\n",
      "Epoch 64/120\n",
      "1/1 [==============================] - 0s 1ms/step - loss: 0.2360 - accuracy: 0.6235\n",
      "Epoch 65/120\n",
      "1/1 [==============================] - 0s 998us/step - loss: 0.2486 - accuracy: 0.6250\n",
      "Epoch 66/120\n",
      "1/1 [==============================] - 0s 2ms/step - loss: 0.2325 - accuracy: 0.6142\n",
      "Epoch 67/120\n",
      "1/1 [==============================] - 0s 996us/step - loss: 0.2368 - accuracy: 0.6235\n",
      "Epoch 68/120\n",
      "1/1 [==============================] - 0s 1ms/step - loss: 0.2345 - accuracy: 0.6225\n",
      "Epoch 69/120\n",
      "1/1 [==============================] - 0s 998us/step - loss: 0.2271 - accuracy: 0.6280\n",
      "Epoch 70/120\n",
      "1/1 [==============================] - 0s 998us/step - loss: 0.2374 - accuracy: 0.6117\n",
      "Epoch 71/120\n",
      "1/1 [==============================] - 0s 1ms/step - loss: 0.2303 - accuracy: 0.6339\n",
      "Epoch 72/120\n",
      "1/1 [==============================] - 0s 997us/step - loss: 0.2305 - accuracy: 0.6314\n",
      "Epoch 73/120\n",
      "1/1 [==============================] - 0s 997us/step - loss: 0.2291 - accuracy: 0.6378\n",
      "Epoch 74/120\n",
      "1/1 [==============================] - 0s 997us/step - loss: 0.2230 - accuracy: 0.6275\n",
      "Epoch 75/120\n",
      "1/1 [==============================] - 0s 997us/step - loss: 0.2232 - accuracy: 0.6348\n",
      "Epoch 76/120\n",
      "1/1 [==============================] - 0s 0s/step - loss: 0.2305 - accuracy: 0.6230\n",
      "Epoch 77/120\n",
      "1/1 [==============================] - 0s 0s/step - loss: 0.2320 - accuracy: 0.6156\n",
      "Epoch 78/120\n",
      "1/1 [==============================] - 0s 1ms/step - loss: 0.2322 - accuracy: 0.6353\n",
      "Epoch 79/120\n",
      "1/1 [==============================] - 0s 2ms/step - loss: 0.2287 - accuracy: 0.6201\n",
      "Epoch 80/120\n",
      "1/1 [==============================] - 0s 997us/step - loss: 0.2276 - accuracy: 0.6432\n",
      "Epoch 81/120\n",
      "1/1 [==============================] - 0s 1ms/step - loss: 0.2309 - accuracy: 0.6255\n",
      "Epoch 82/120\n",
      "1/1 [==============================] - 0s 1ms/step - loss: 0.2270 - accuracy: 0.5881\n",
      "Epoch 83/120\n",
      "1/1 [==============================] - 0s 0s/step - loss: 0.2276 - accuracy: 0.6324\n",
      "Epoch 84/120\n"
     ]
    },
    {
     "name": "stdout",
     "output_type": "stream",
     "text": [
      "1/1 [==============================] - 0s 1ms/step - loss: 0.2268 - accuracy: 0.5945\n",
      "Epoch 85/120\n",
      "1/1 [==============================] - 0s 997us/step - loss: 0.2271 - accuracy: 0.6137\n",
      "Epoch 86/120\n",
      "1/1 [==============================] - 0s 0s/step - loss: 0.2264 - accuracy: 0.6339\n",
      "Epoch 87/120\n",
      "1/1 [==============================] - 0s 998us/step - loss: 0.2292 - accuracy: 0.6373\n",
      "Epoch 88/120\n",
      "1/1 [==============================] - 0s 1ms/step - loss: 0.2285 - accuracy: 0.6230\n",
      "Epoch 89/120\n",
      "1/1 [==============================] - 0s 998us/step - loss: 0.2374 - accuracy: 0.6206\n",
      "Epoch 90/120\n",
      "1/1 [==============================] - 0s 997us/step - loss: 0.2241 - accuracy: 0.6191\n",
      "Epoch 91/120\n",
      "1/1 [==============================] - 0s 997us/step - loss: 0.2303 - accuracy: 0.6029\n",
      "Epoch 92/120\n",
      "1/1 [==============================] - 0s 1ms/step - loss: 0.2367 - accuracy: 0.6186\n",
      "Epoch 93/120\n",
      "1/1 [==============================] - 0s 1ms/step - loss: 0.2275 - accuracy: 0.5920\n",
      "Epoch 94/120\n",
      "1/1 [==============================] - 0s 997us/step - loss: 0.2231 - accuracy: 0.6412\n",
      "Epoch 95/120\n",
      "1/1 [==============================] - 0s 1ms/step - loss: 0.2253 - accuracy: 0.6388\n",
      "Epoch 96/120\n",
      "1/1 [==============================] - 0s 2ms/step - loss: 0.2212 - accuracy: 0.6348\n",
      "Epoch 97/120\n",
      "1/1 [==============================] - 0s 997us/step - loss: 0.2312 - accuracy: 0.6240\n",
      "Epoch 98/120\n",
      "1/1 [==============================] - 0s 2ms/step - loss: 0.2208 - accuracy: 0.6250\n",
      "Epoch 99/120\n",
      "1/1 [==============================] - 0s 998us/step - loss: 0.2303 - accuracy: 0.6294\n",
      "Epoch 100/120\n",
      "1/1 [==============================] - 0s 997us/step - loss: 0.2255 - accuracy: 0.6368\n",
      "Epoch 101/120\n",
      "1/1 [==============================] - 0s 1ms/step - loss: 0.2279 - accuracy: 0.6329\n",
      "Epoch 102/120\n",
      "1/1 [==============================] - 0s 996us/step - loss: 0.2277 - accuracy: 0.6329\n",
      "Epoch 103/120\n",
      "1/1 [==============================] - 0s 0s/step - loss: 0.2201 - accuracy: 0.6339\n",
      "Epoch 104/120\n",
      "1/1 [==============================] - 0s 996us/step - loss: 0.2248 - accuracy: 0.6422\n",
      "Epoch 105/120\n",
      "1/1 [==============================] - 0s 997us/step - loss: 0.2258 - accuracy: 0.6462\n",
      "Epoch 106/120\n",
      "1/1 [==============================] - 0s 998us/step - loss: 0.2236 - accuracy: 0.6329\n",
      "Epoch 107/120\n",
      "1/1 [==============================] - 0s 2ms/step - loss: 0.2253 - accuracy: 0.6230\n",
      "Epoch 108/120\n",
      "1/1 [==============================] - 0s 997us/step - loss: 0.2266 - accuracy: 0.6545\n",
      "Epoch 109/120\n",
      "1/1 [==============================] - 0s 1ms/step - loss: 0.2202 - accuracy: 0.6407\n",
      "Epoch 110/120\n",
      "1/1 [==============================] - 0s 1ms/step - loss: 0.2195 - accuracy: 0.6452\n",
      "Epoch 111/120\n",
      "1/1 [==============================] - 0s 1ms/step - loss: 0.2220 - accuracy: 0.6526\n",
      "Epoch 112/120\n",
      "1/1 [==============================] - 0s 997us/step - loss: 0.2195 - accuracy: 0.6412\n",
      "Epoch 113/120\n",
      "1/1 [==============================] - 0s 1ms/step - loss: 0.2212 - accuracy: 0.6432\n",
      "Epoch 114/120\n",
      "1/1 [==============================] - 0s 0s/step - loss: 0.2209 - accuracy: 0.6319\n",
      "Epoch 115/120\n",
      "1/1 [==============================] - 0s 995us/step - loss: 0.2212 - accuracy: 0.6348\n",
      "Epoch 116/120\n",
      "1/1 [==============================] - 0s 0s/step - loss: 0.2205 - accuracy: 0.6447\n",
      "Epoch 117/120\n",
      "1/1 [==============================] - 0s 1ms/step - loss: 0.2266 - accuracy: 0.6417\n",
      "Epoch 118/120\n",
      "1/1 [==============================] - 0s 1ms/step - loss: 0.2200 - accuracy: 0.6594\n",
      "Epoch 119/120\n",
      "1/1 [==============================] - 0s 1ms/step - loss: 0.2176 - accuracy: 0.6471\n",
      "Epoch 120/120\n",
      "1/1 [==============================] - 0s 972us/step - loss: 0.2171 - accuracy: 0.6358\n"
     ]
    },
    {
     "data": {
      "text/plain": [
       "<tensorflow.python.keras.callbacks.History at 0x1746c80cb50>"
      ]
     },
     "execution_count": 405,
     "metadata": {},
     "output_type": "execute_result"
    }
   ],
   "source": [
    "tcn_model = TCN(filters, kernel_size, activation='relu', trainable = True, dtype='float')\n",
    "tcn_model.compile(optimizer='adam', loss = 'mse', metrics=['accuracy'])\n",
    "tcn_model.fit(stock_training_input, stock_training_output, epochs = 120)"
   ]
  },
  {
   "cell_type": "code",
   "execution_count": 406,
   "metadata": {},
   "outputs": [
    {
     "data": {
      "text/plain": [
       "<matplotlib.axes._subplots.AxesSubplot at 0x17451173700>"
      ]
     },
     "execution_count": 406,
     "metadata": {},
     "output_type": "execute_result"
    },
    {
     "data": {
      "image/png": "[encoded data removed]",
      "text/plain": [
       "<Figure size 432x288 with 1 Axes>"
      ]
     },
     "metadata": {
      "needs_background": "light"
     },
     "output_type": "display_data"
    }
   ],
   "source": [
    "losses = pd.DataFrame(tcn_model.history.history)\n",
    "losses.plot()"
   ]
  },
  {
   "cell_type": "markdown",
   "metadata": {},
   "source": [
    "# Predictions"
   ]
  },
  {
   "cell_type": "code",
   "execution_count": 415,
   "metadata": {},
   "outputs": [
    {
     "data": {
      "text/plain": [
       "<matplotlib.axes._subplots.AxesSubplot at 0x174787b2220>"
      ]
     },
     "execution_count": 415,
     "metadata": {},
     "output_type": "execute_result"
    },
    {
     "data": {
      "image/png": "[encoded data removed]",
      "text/plain": [
       "<Figure size 432x288 with 1 Axes>"
      ]
     },
     "metadata": {
      "needs_background": "light"
     },
     "output_type": "display_data"
    }
   ],
   "source": [
    "import seaborn as sns\n",
    "test_predictions = tcn_model.predict(stock_training_input)\n",
    "\n",
    "test_predictions = pd.Series(test_predictions.reshape(4064,))\n",
    "# pred_df = pd.DataFrame(stock_training_output[0], columns=['Test True Y'])\n",
    "sns.scatterplot(data=test_predictions)"
   ]
  },
  {
   "cell_type": "code",
   "execution_count": null,
   "metadata": {},
   "outputs": [],
   "source": []
  }
 ],
 "metadata": {
  "kernelspec": {
   "display_name": "Python 3",
   "language": "python",
   "name": "python3"
  },
  "language_info": {
   "codemirror_mode": {
    "name": "ipython",
    "version": 3
   },
   "file_extension": ".py",
   "mimetype": "text/x-python",
   "name": "python",
   "nbconvert_exporter": "python",
   "pygments_lexer": "ipython3",
   "version": "3.8.3"
  }
 },
 "nbformat": 4,
 "nbformat_minor": 2
}
