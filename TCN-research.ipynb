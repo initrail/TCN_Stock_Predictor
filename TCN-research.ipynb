{
 "cells": [
  {
   "cell_type": "code",
   "execution_count": 27,
   "metadata": {},
   "outputs": [],
   "source": [
    "import pandas as pd\n",
    "import numpy as np\n",
    "from pandas_datareader import data, wb\n",
    "import datetime"
   ]
  },
  {
   "cell_type": "code",
   "execution_count": 28,
   "metadata": {},
   "outputs": [],
   "source": [
    "start = pd.to_datetime('2007-02-04')\n",
    "end = pd.to_datetime('2020-11-23')"
   ]
  },
  {
   "cell_type": "code",
   "execution_count": 29,
   "metadata": {},
   "outputs": [
    {
     "data": {
      "text/html": [
       "<div>\n",
       "<style scoped>\n",
       "    .dataframe tbody tr th:only-of-type {\n",
       "        vertical-align: middle;\n",
       "    }\n",
       "\n",
       "    .dataframe tbody tr th {\n",
       "        vertical-align: top;\n",
       "    }\n",
       "\n",
       "    .dataframe thead th {\n",
       "        text-align: right;\n",
       "    }\n",
       "</style>\n",
       "<table border=\"1\" class=\"dataframe\">\n",
       "  <thead>\n",
       "    <tr style=\"text-align: right;\">\n",
       "      <th></th>\n",
       "      <th>High</th>\n",
       "      <th>Low</th>\n",
       "      <th>Open</th>\n",
       "      <th>Close</th>\n",
       "      <th>Volume</th>\n",
       "      <th>Adj Close</th>\n",
       "    </tr>\n",
       "    <tr>\n",
       "      <th>Date</th>\n",
       "      <th></th>\n",
       "      <th></th>\n",
       "      <th></th>\n",
       "      <th></th>\n",
       "      <th></th>\n",
       "      <th></th>\n",
       "    </tr>\n",
       "  </thead>\n",
       "  <tbody>\n",
       "    <tr>\n",
       "      <th>2007-02-05</th>\n",
       "      <td>144.940002</td>\n",
       "      <td>144.339996</td>\n",
       "      <td>144.699997</td>\n",
       "      <td>144.850006</td>\n",
       "      <td>45705300.0</td>\n",
       "      <td>109.564392</td>\n",
       "    </tr>\n",
       "    <tr>\n",
       "      <th>2007-02-06</th>\n",
       "      <td>145.029999</td>\n",
       "      <td>144.330002</td>\n",
       "      <td>144.970001</td>\n",
       "      <td>144.889999</td>\n",
       "      <td>57081300.0</td>\n",
       "      <td>109.594658</td>\n",
       "    </tr>\n",
       "    <tr>\n",
       "      <th>2007-02-07</th>\n",
       "      <td>145.360001</td>\n",
       "      <td>144.570007</td>\n",
       "      <td>145.119995</td>\n",
       "      <td>145.210007</td>\n",
       "      <td>55669700.0</td>\n",
       "      <td>109.836716</td>\n",
       "    </tr>\n",
       "    <tr>\n",
       "      <th>2007-02-08</th>\n",
       "      <td>145.119995</td>\n",
       "      <td>144.270004</td>\n",
       "      <td>144.779999</td>\n",
       "      <td>145.020004</td>\n",
       "      <td>70641000.0</td>\n",
       "      <td>109.692993</td>\n",
       "    </tr>\n",
       "    <tr>\n",
       "      <th>2007-02-09</th>\n",
       "      <td>145.330002</td>\n",
       "      <td>143.389999</td>\n",
       "      <td>145.059998</td>\n",
       "      <td>143.940002</td>\n",
       "      <td>79084400.0</td>\n",
       "      <td>108.876068</td>\n",
       "    </tr>\n",
       "    <tr>\n",
       "      <th>...</th>\n",
       "      <td>...</td>\n",
       "      <td>...</td>\n",
       "      <td>...</td>\n",
       "      <td>...</td>\n",
       "      <td>...</td>\n",
       "      <td>...</td>\n",
       "    </tr>\n",
       "    <tr>\n",
       "      <th>2020-11-17</th>\n",
       "      <td>361.920013</td>\n",
       "      <td>358.339996</td>\n",
       "      <td>359.970001</td>\n",
       "      <td>360.619995</td>\n",
       "      <td>66111000.0</td>\n",
       "      <td>360.619995</td>\n",
       "    </tr>\n",
       "    <tr>\n",
       "      <th>2020-11-18</th>\n",
       "      <td>361.500000</td>\n",
       "      <td>356.239990</td>\n",
       "      <td>360.910004</td>\n",
       "      <td>356.279999</td>\n",
       "      <td>70591300.0</td>\n",
       "      <td>356.279999</td>\n",
       "    </tr>\n",
       "    <tr>\n",
       "      <th>2020-11-19</th>\n",
       "      <td>358.179993</td>\n",
       "      <td>354.149994</td>\n",
       "      <td>355.600006</td>\n",
       "      <td>357.779999</td>\n",
       "      <td>59940900.0</td>\n",
       "      <td>357.779999</td>\n",
       "    </tr>\n",
       "    <tr>\n",
       "      <th>2020-11-20</th>\n",
       "      <td>357.720001</td>\n",
       "      <td>355.250000</td>\n",
       "      <td>357.500000</td>\n",
       "      <td>355.329987</td>\n",
       "      <td>70417300.0</td>\n",
       "      <td>355.329987</td>\n",
       "    </tr>\n",
       "    <tr>\n",
       "      <th>2020-11-23</th>\n",
       "      <td>358.820007</td>\n",
       "      <td>354.869995</td>\n",
       "      <td>357.279999</td>\n",
       "      <td>357.459991</td>\n",
       "      <td>63230600.0</td>\n",
       "      <td>357.459991</td>\n",
       "    </tr>\n",
       "  </tbody>\n",
       "</table>\n",
       "<p>3477 rows × 6 columns</p>\n",
       "</div>"
      ],
      "text/plain": [
       "                  High         Low        Open       Close      Volume  \\\n",
       "Date                                                                     \n",
       "2007-02-05  144.940002  144.339996  144.699997  144.850006  45705300.0   \n",
       "2007-02-06  145.029999  144.330002  144.970001  144.889999  57081300.0   \n",
       "2007-02-07  145.360001  144.570007  145.119995  145.210007  55669700.0   \n",
       "2007-02-08  145.119995  144.270004  144.779999  145.020004  70641000.0   \n",
       "2007-02-09  145.330002  143.389999  145.059998  143.940002  79084400.0   \n",
       "...                ...         ...         ...         ...         ...   \n",
       "2020-11-17  361.920013  358.339996  359.970001  360.619995  66111000.0   \n",
       "2020-11-18  361.500000  356.239990  360.910004  356.279999  70591300.0   \n",
       "2020-11-19  358.179993  354.149994  355.600006  357.779999  59940900.0   \n",
       "2020-11-20  357.720001  355.250000  357.500000  355.329987  70417300.0   \n",
       "2020-11-23  358.820007  354.869995  357.279999  357.459991  63230600.0   \n",
       "\n",
       "             Adj Close  \n",
       "Date                    \n",
       "2007-02-05  109.564392  \n",
       "2007-02-06  109.594658  \n",
       "2007-02-07  109.836716  \n",
       "2007-02-08  109.692993  \n",
       "2007-02-09  108.876068  \n",
       "...                ...  \n",
       "2020-11-17  360.619995  \n",
       "2020-11-18  356.279999  \n",
       "2020-11-19  357.779999  \n",
       "2020-11-20  355.329987  \n",
       "2020-11-23  357.459991  \n",
       "\n",
       "[3477 rows x 6 columns]"
      ]
     },
     "execution_count": 29,
     "metadata": {},
     "output_type": "execute_result"
    }
   ],
   "source": [
    "df = data.DataReader('SPY', 'yahoo', start, end)\n",
    "df"
   ]
  },
  {
   "cell_type": "code",
   "execution_count": 30,
   "metadata": {},
   "outputs": [],
   "source": [
    "from sklearn.preprocessing import StandardScaler"
   ]
  },
  {
   "cell_type": "code",
   "execution_count": 31,
   "metadata": {},
   "outputs": [],
   "source": [
    "input_vars = ['Open', 'High', 'Low', 'Close', 'Volume']\n",
    "\n",
    "n_tsteps = 15\n",
    "scaler = StandardScaler()\n",
    "\n",
    "# used to classify future stock price movement\n",
    "class Direction:\n",
    "    UP = 0\n",
    "    DOWN = 1\n",
    "    STATIONARY = 2"
   ]
  },
  {
   "cell_type": "code",
   "execution_count": 32,
   "metadata": {},
   "outputs": [
    {
     "data": {
      "text/plain": [
       "array([[0., 1., 0.],\n",
       "       [0., 1., 0.],\n",
       "       [1., 0., 0.]], dtype=float32)"
      ]
     },
     "execution_count": 32,
     "metadata": {},
     "output_type": "execute_result"
    }
   ],
   "source": [
    "import math\n",
    "def prep_data(data, rolling_avg_window_size=5, stationary_threshold=.0001):\n",
    "    # rolling_avg_window_size = window size for the future mid prices to average, \n",
    "    #   this average is what the model wants to predict\n",
    "    # stationary_threshold = maximum change of movement to be considered stationary \n",
    "    #   for the average mid price stated above \n",
    "\n",
    "    df = data[input_vars]\n",
    "    shift = -(rolling_avg_window_size-1)\n",
    "\n",
    "    def label_data(row):\n",
    "        if row['close_avg_change_pct'] > stationary_threshold:\n",
    "            return Direction.UP\n",
    "        elif row['close_avg_change_pct'] < -stationary_threshold:\n",
    "            return Direction.DOWN\n",
    "        else:\n",
    "            return Direction.STATIONARY\n",
    "\n",
    "    df['close_avg'] = df['Close'].rolling(window=rolling_avg_window_size).mean().shift(shift) \n",
    "    df['close_avg_change_pct'] = (df['close_avg'] - df['Close']) / df['Close']\n",
    "\n",
    "    # label data based on direction\n",
    "    # axis=1 signifies a row-wise operation (axis=0 is col-wise)\n",
    "    df['movement_labels'] = df.apply(label_data, axis=1)\n",
    "\n",
    "    data = []\n",
    "    labels = []\n",
    "\n",
    "    for i in range(len(df)-n_tsteps+1+shift):\n",
    "        label = df['movement_labels'].iloc[i+n_tsteps-1]\n",
    "        if not math.isnan(label):\n",
    "            data.append(df[input_vars].iloc[i:i+n_tsteps].values)\n",
    "            labels.append(label)\n",
    "\n",
    "    data = np.array(data)\n",
    "    dim1, dim2, dim3 = data.shape\n",
    "    data = data.reshape(dim1*dim2, dim3)\n",
    "    data = scaler.fit_transform(data)\n",
    "    data = data.reshape(dim1, dim2, dim3)\n",
    "\n",
    "    return data, utils.to_categorical(labels, num_classes=3)\n",
    "labels = [1,1,0]\n",
    "utils.to_categorical(labels, num_classes=3)"
   ]
  },
  {
   "cell_type": "code",
   "execution_count": 33,
   "metadata": {},
   "outputs": [],
   "source": [
    "import tensorflow as tf\n",
    "from tensorflow.keras.layers import Input, Conv1D, Dense, Lambda, Flatten, Concatenate\n",
    "from tensorflow.keras import Model\n",
    "from tensorflow.keras import metrics\n",
    "from tensorflow.keras.losses import CategoricalCrossentropy\n",
    "from tensorflow.keras import utils\n",
    "\n",
    "def build_model():\n",
    "    inputs = Input(shape=(n_tsteps, len(input_vars)))\n",
    "    feature_extraction = Conv1D(30, 4, activation='relu')(inputs)\n",
    "    long_term = Lambda( lambda x: tf.split(x, num_or_size_splits=3, axis=1)[0])(feature_extraction)\n",
    "    mid_term = Lambda( lambda x: tf.split(x, num_or_size_splits=3, axis=1)[1])(feature_extraction)\n",
    "    short_term = Lambda( lambda x: tf.split(x, num_or_size_splits=3, axis=1)[2])(feature_extraction)    \n",
    "    long_term_conv = Conv1D(1, 1, activation='relu')(long_term)\n",
    "    mid_term_conv = Conv1D(1, 1, activation='relu')(mid_term)\n",
    "    short_term_conv = Conv1D(1, 1, activation='relu')(short_term)\n",
    "    combined = Concatenate(axis=1)([long_term_conv, mid_term_conv, short_term_conv])\n",
    "    flattened = Flatten()(combined)\n",
    "    # 1 output neuron for each class (Up, Stationary, Down)\n",
    "    outputs = Dense(3, activation='softmax')(flattened)\n",
    "\n",
    "    model = Model(inputs=inputs, outputs=outputs)\n",
    "    model.compile(optimizer='adam',\n",
    "                  loss=CategoricalCrossentropy(from_logits=True))\n",
    "    return model"
   ]
  },
  {
   "cell_type": "code",
   "execution_count": 34,
   "metadata": {},
   "outputs": [],
   "source": [
    "data1, labels1 = prep_data(df)"
   ]
  },
  {
   "cell_type": "code",
   "execution_count": 35,
   "metadata": {},
   "outputs": [
    {
     "name": "stdout",
     "output_type": "stream",
     "text": [
      "Epoch 1/20\n",
      "87/87 [==============================] - 0s 3ms/step - loss: 1.0757 - val_loss: 1.0836\n",
      "Epoch 2/20\n",
      "87/87 [==============================] - 0s 1ms/step - loss: 1.0301 - val_loss: 1.0721\n",
      "Epoch 3/20\n",
      "87/87 [==============================] - 0s 1ms/step - loss: 1.0042 - val_loss: 0.9479\n",
      "Epoch 4/20\n",
      "87/87 [==============================] - 0s 1ms/step - loss: 0.9870 - val_loss: 0.9475\n",
      "Epoch 5/20\n",
      "87/87 [==============================] - 0s 1ms/step - loss: 0.9655 - val_loss: 0.9468\n",
      "Epoch 6/20\n",
      "87/87 [==============================] - 0s 1ms/step - loss: 0.9552 - val_loss: 0.9398\n",
      "Epoch 7/20\n",
      "87/87 [==============================] - 0s 1ms/step - loss: 0.9512 - val_loss: 0.9433\n",
      "Epoch 8/20\n",
      "87/87 [==============================] - 0s 1ms/step - loss: 0.9497 - val_loss: 0.9429\n",
      "Epoch 9/20\n",
      "87/87 [==============================] - 0s 1ms/step - loss: 0.9490 - val_loss: 0.9419\n",
      "Epoch 10/20\n",
      "87/87 [==============================] - 0s 1ms/step - loss: 0.9487 - val_loss: 0.9431\n",
      "Epoch 11/20\n",
      "87/87 [==============================] - 0s 1ms/step - loss: 0.9500 - val_loss: 0.9438\n",
      "Epoch 12/20\n",
      "87/87 [==============================] - 0s 2ms/step - loss: 0.9485 - val_loss: 0.9442\n",
      "Epoch 13/20\n",
      "87/87 [==============================] - 0s 1ms/step - loss: 0.9469 - val_loss: 0.9446\n",
      "Epoch 14/20\n",
      "87/87 [==============================] - 0s 1ms/step - loss: 0.9474 - val_loss: 0.9437\n",
      "Epoch 15/20\n",
      "87/87 [==============================] - 0s 1ms/step - loss: 0.9481 - val_loss: 0.9439\n",
      "Epoch 16/20\n",
      "87/87 [==============================] - 0s 1ms/step - loss: 0.9476 - val_loss: 0.9436\n",
      "Epoch 17/20\n",
      "87/87 [==============================] - 0s 1ms/step - loss: 0.9474 - val_loss: 0.9444\n",
      "Epoch 18/20\n",
      "87/87 [==============================] - 0s 1ms/step - loss: 0.9474 - val_loss: 0.9442\n",
      "Epoch 19/20\n",
      "87/87 [==============================] - 0s 1ms/step - loss: 0.9464 - val_loss: 0.9441\n",
      "Epoch 20/20\n",
      "87/87 [==============================] - 0s 1ms/step - loss: 0.9473 - val_loss: 0.9444\n"
     ]
    },
    {
     "data": {
      "text/plain": [
       "<tensorflow.python.keras.callbacks.History at 0x25e29341af0>"
      ]
     },
     "execution_count": 35,
     "metadata": {},
     "output_type": "execute_result"
    }
   ],
   "source": [
    "model = build_model()\n",
    "model.fit(data1, labels1, validation_split=.2, epochs=20)"
   ]
  },
  {
   "cell_type": "code",
   "execution_count": 36,
   "metadata": {},
   "outputs": [],
   "source": [
    "output = model.predict(data1[0][np.newaxis, :])[0]"
   ]
  },
  {
   "cell_type": "code",
   "execution_count": 37,
   "metadata": {},
   "outputs": [],
   "source": [
    "direction = np.argmax(output)\n",
    "confidence = output[direction]"
   ]
  },
  {
   "cell_type": "code",
   "execution_count": 40,
   "metadata": {},
   "outputs": [
    {
     "data": {
      "text/plain": [
       "array([0.78106606, 0.2177776 , 0.00115637], dtype=float32)"
      ]
     },
     "execution_count": 40,
     "metadata": {},
     "output_type": "execute_result"
    }
   ],
   "source": [
    "output"
   ]
  },
  {
   "cell_type": "code",
   "execution_count": 38,
   "metadata": {},
   "outputs": [
    {
     "data": {
      "text/plain": [
       "0"
      ]
     },
     "execution_count": 38,
     "metadata": {},
     "output_type": "execute_result"
    }
   ],
   "source": [
    "direction"
   ]
  },
  {
   "cell_type": "code",
   "execution_count": 39,
   "metadata": {},
   "outputs": [
    {
     "data": {
      "text/plain": [
       "0.78106606"
      ]
     },
     "execution_count": 39,
     "metadata": {},
     "output_type": "execute_result"
    }
   ],
   "source": [
    "confidence"
   ]
  },
  {
   "cell_type": "code",
   "execution_count": null,
   "metadata": {},
   "outputs": [],
   "source": []
  }
 ],
 "metadata": {
  "kernelspec": {
   "display_name": "Python 3",
   "language": "python",
   "name": "python3"
  },
  "language_info": {
   "codemirror_mode": {
    "name": "ipython",
    "version": 3
   },
   "file_extension": ".py",
   "mimetype": "text/x-python",
   "name": "python",
   "nbconvert_exporter": "python",
   "pygments_lexer": "ipython3",
   "version": "3.8.3"
  }
 },
 "nbformat": 4,
 "nbformat_minor": 4
}
