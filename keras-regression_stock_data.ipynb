{
 "cells": [
  {
   "cell_type": "code",
   "execution_count": 335,
   "metadata": {},
   "outputs": [],
   "source": [
    "import pandas as pd\n",
    "import numpy as np\n",
    "import matplotlib.pyplot as plt\n",
    "import seaborn as sns"
   ]
  },
  {
   "cell_type": "code",
   "execution_count": 336,
   "metadata": {},
   "outputs": [],
   "source": [
    "from pandas_datareader import data, wb\n",
    "import datetime"
   ]
  },
  {
   "cell_type": "code",
   "execution_count": 337,
   "metadata": {},
   "outputs": [],
   "source": [
    "start = pd.to_datetime('2000-02-04')\n",
    "end = pd.to_datetime('2020-11-23')"
   ]
  },
  {
   "cell_type": "code",
   "execution_count": 338,
   "metadata": {},
   "outputs": [
    {
     "data": {
      "text/html": [
       "<div>\n",
       "<style scoped>\n",
       "    .dataframe tbody tr th:only-of-type {\n",
       "        vertical-align: middle;\n",
       "    }\n",
       "\n",
       "    .dataframe tbody tr th {\n",
       "        vertical-align: top;\n",
       "    }\n",
       "\n",
       "    .dataframe thead th {\n",
       "        text-align: right;\n",
       "    }\n",
       "</style>\n",
       "<table border=\"1\" class=\"dataframe\">\n",
       "  <thead>\n",
       "    <tr style=\"text-align: right;\">\n",
       "      <th></th>\n",
       "      <th>High</th>\n",
       "      <th>Low</th>\n",
       "      <th>Open</th>\n",
       "      <th>Close</th>\n",
       "      <th>Volume</th>\n",
       "      <th>Adj Close</th>\n",
       "    </tr>\n",
       "    <tr>\n",
       "      <th>Date</th>\n",
       "      <th></th>\n",
       "      <th></th>\n",
       "      <th></th>\n",
       "      <th></th>\n",
       "      <th></th>\n",
       "      <th></th>\n",
       "    </tr>\n",
       "  </thead>\n",
       "  <tbody>\n",
       "    <tr>\n",
       "      <th>2000-02-04</th>\n",
       "      <td>144.00000</td>\n",
       "      <td>142.125000</td>\n",
       "      <td>143.18750</td>\n",
       "      <td>142.59375</td>\n",
       "      <td>4925400.0</td>\n",
       "      <td>96.637230</td>\n",
       "    </tr>\n",
       "    <tr>\n",
       "      <th>2000-02-07</th>\n",
       "      <td>142.78125</td>\n",
       "      <td>141.437500</td>\n",
       "      <td>142.56250</td>\n",
       "      <td>142.37500</td>\n",
       "      <td>5845800.0</td>\n",
       "      <td>96.488983</td>\n",
       "    </tr>\n",
       "    <tr>\n",
       "      <th>2000-02-08</th>\n",
       "      <td>144.56250</td>\n",
       "      <td>143.625000</td>\n",
       "      <td>143.96875</td>\n",
       "      <td>144.31250</td>\n",
       "      <td>4936400.0</td>\n",
       "      <td>97.802017</td>\n",
       "    </tr>\n",
       "    <tr>\n",
       "      <th>2000-02-09</th>\n",
       "      <td>144.46875</td>\n",
       "      <td>141.265625</td>\n",
       "      <td>144.46875</td>\n",
       "      <td>141.28125</td>\n",
       "      <td>8511500.0</td>\n",
       "      <td>95.747704</td>\n",
       "    </tr>\n",
       "    <tr>\n",
       "      <th>2000-02-10</th>\n",
       "      <td>142.56250</td>\n",
       "      <td>140.875000</td>\n",
       "      <td>141.62500</td>\n",
       "      <td>141.56250</td>\n",
       "      <td>6690600.0</td>\n",
       "      <td>95.938324</td>\n",
       "    </tr>\n",
       "  </tbody>\n",
       "</table>\n",
       "</div>"
      ],
      "text/plain": [
       "                 High         Low       Open      Close     Volume  Adj Close\n",
       "Date                                                                         \n",
       "2000-02-04  144.00000  142.125000  143.18750  142.59375  4925400.0  96.637230\n",
       "2000-02-07  142.78125  141.437500  142.56250  142.37500  5845800.0  96.488983\n",
       "2000-02-08  144.56250  143.625000  143.96875  144.31250  4936400.0  97.802017\n",
       "2000-02-09  144.46875  141.265625  144.46875  141.28125  8511500.0  95.747704\n",
       "2000-02-10  142.56250  140.875000  141.62500  141.56250  6690600.0  95.938324"
      ]
     },
     "execution_count": 338,
     "metadata": {},
     "output_type": "execute_result"
    }
   ],
   "source": [
    "df = data.DataReader('SPY', 'yahoo', start, end)\n",
    "df.head()"
   ]
  },
  {
   "cell_type": "code",
   "execution_count": 339,
   "metadata": {},
   "outputs": [
    {
     "data": {
      "text/plain": [
       "Date\n",
       "2000-02-04    143.187500\n",
       "2000-02-07    142.562500\n",
       "2000-02-08    143.968750\n",
       "2000-02-09    144.468750\n",
       "2000-02-10    141.625000\n",
       "                 ...    \n",
       "2020-11-17    359.970001\n",
       "2020-11-18    360.910004\n",
       "2020-11-19    355.600006\n",
       "2020-11-20    357.500000\n",
       "2020-11-23    357.279999\n",
       "Name: Open, Length: 5235, dtype: float64"
      ]
     },
     "execution_count": 339,
     "metadata": {},
     "output_type": "execute_result"
    }
   ],
   "source": [
    "df['Open']"
   ]
  },
  {
   "cell_type": "code",
   "execution_count": 340,
   "metadata": {},
   "outputs": [],
   "source": [
    "df['Buy'] = df['Open'] < df['Close']"
   ]
  },
  {
   "cell_type": "code",
   "execution_count": 341,
   "metadata": {},
   "outputs": [
    {
     "data": {
      "text/html": [
       "<div>\n",
       "<style scoped>\n",
       "    .dataframe tbody tr th:only-of-type {\n",
       "        vertical-align: middle;\n",
       "    }\n",
       "\n",
       "    .dataframe tbody tr th {\n",
       "        vertical-align: top;\n",
       "    }\n",
       "\n",
       "    .dataframe thead th {\n",
       "        text-align: right;\n",
       "    }\n",
       "</style>\n",
       "<table border=\"1\" class=\"dataframe\">\n",
       "  <thead>\n",
       "    <tr style=\"text-align: right;\">\n",
       "      <th></th>\n",
       "      <th>High</th>\n",
       "      <th>Low</th>\n",
       "      <th>Open</th>\n",
       "      <th>Close</th>\n",
       "      <th>Volume</th>\n",
       "      <th>Adj Close</th>\n",
       "      <th>Buy</th>\n",
       "    </tr>\n",
       "    <tr>\n",
       "      <th>Date</th>\n",
       "      <th></th>\n",
       "      <th></th>\n",
       "      <th></th>\n",
       "      <th></th>\n",
       "      <th></th>\n",
       "      <th></th>\n",
       "      <th></th>\n",
       "    </tr>\n",
       "  </thead>\n",
       "  <tbody>\n",
       "    <tr>\n",
       "      <th>2000-02-04</th>\n",
       "      <td>144.000000</td>\n",
       "      <td>142.125000</td>\n",
       "      <td>143.187500</td>\n",
       "      <td>142.593750</td>\n",
       "      <td>4925400.0</td>\n",
       "      <td>96.637230</td>\n",
       "      <td>False</td>\n",
       "    </tr>\n",
       "    <tr>\n",
       "      <th>2000-02-07</th>\n",
       "      <td>142.781250</td>\n",
       "      <td>141.437500</td>\n",
       "      <td>142.562500</td>\n",
       "      <td>142.375000</td>\n",
       "      <td>5845800.0</td>\n",
       "      <td>96.488983</td>\n",
       "      <td>False</td>\n",
       "    </tr>\n",
       "    <tr>\n",
       "      <th>2000-02-08</th>\n",
       "      <td>144.562500</td>\n",
       "      <td>143.625000</td>\n",
       "      <td>143.968750</td>\n",
       "      <td>144.312500</td>\n",
       "      <td>4936400.0</td>\n",
       "      <td>97.802017</td>\n",
       "      <td>True</td>\n",
       "    </tr>\n",
       "    <tr>\n",
       "      <th>2000-02-09</th>\n",
       "      <td>144.468750</td>\n",
       "      <td>141.265625</td>\n",
       "      <td>144.468750</td>\n",
       "      <td>141.281250</td>\n",
       "      <td>8511500.0</td>\n",
       "      <td>95.747704</td>\n",
       "      <td>False</td>\n",
       "    </tr>\n",
       "    <tr>\n",
       "      <th>2000-02-10</th>\n",
       "      <td>142.562500</td>\n",
       "      <td>140.875000</td>\n",
       "      <td>141.625000</td>\n",
       "      <td>141.562500</td>\n",
       "      <td>6690600.0</td>\n",
       "      <td>95.938324</td>\n",
       "      <td>False</td>\n",
       "    </tr>\n",
       "    <tr>\n",
       "      <th>...</th>\n",
       "      <td>...</td>\n",
       "      <td>...</td>\n",
       "      <td>...</td>\n",
       "      <td>...</td>\n",
       "      <td>...</td>\n",
       "      <td>...</td>\n",
       "      <td>...</td>\n",
       "    </tr>\n",
       "    <tr>\n",
       "      <th>2020-11-17</th>\n",
       "      <td>361.920013</td>\n",
       "      <td>358.339996</td>\n",
       "      <td>359.970001</td>\n",
       "      <td>360.619995</td>\n",
       "      <td>66111000.0</td>\n",
       "      <td>360.619995</td>\n",
       "      <td>True</td>\n",
       "    </tr>\n",
       "    <tr>\n",
       "      <th>2020-11-18</th>\n",
       "      <td>361.500000</td>\n",
       "      <td>356.239990</td>\n",
       "      <td>360.910004</td>\n",
       "      <td>356.279999</td>\n",
       "      <td>70591300.0</td>\n",
       "      <td>356.279999</td>\n",
       "      <td>False</td>\n",
       "    </tr>\n",
       "    <tr>\n",
       "      <th>2020-11-19</th>\n",
       "      <td>358.179993</td>\n",
       "      <td>354.149994</td>\n",
       "      <td>355.600006</td>\n",
       "      <td>357.779999</td>\n",
       "      <td>59940900.0</td>\n",
       "      <td>357.779999</td>\n",
       "      <td>True</td>\n",
       "    </tr>\n",
       "    <tr>\n",
       "      <th>2020-11-20</th>\n",
       "      <td>357.720001</td>\n",
       "      <td>355.250000</td>\n",
       "      <td>357.500000</td>\n",
       "      <td>355.329987</td>\n",
       "      <td>70417300.0</td>\n",
       "      <td>355.329987</td>\n",
       "      <td>False</td>\n",
       "    </tr>\n",
       "    <tr>\n",
       "      <th>2020-11-23</th>\n",
       "      <td>358.820007</td>\n",
       "      <td>354.869995</td>\n",
       "      <td>357.279999</td>\n",
       "      <td>357.459991</td>\n",
       "      <td>63230600.0</td>\n",
       "      <td>357.459991</td>\n",
       "      <td>True</td>\n",
       "    </tr>\n",
       "  </tbody>\n",
       "</table>\n",
       "<p>5235 rows × 7 columns</p>\n",
       "</div>"
      ],
      "text/plain": [
       "                  High         Low        Open       Close      Volume  \\\n",
       "Date                                                                     \n",
       "2000-02-04  144.000000  142.125000  143.187500  142.593750   4925400.0   \n",
       "2000-02-07  142.781250  141.437500  142.562500  142.375000   5845800.0   \n",
       "2000-02-08  144.562500  143.625000  143.968750  144.312500   4936400.0   \n",
       "2000-02-09  144.468750  141.265625  144.468750  141.281250   8511500.0   \n",
       "2000-02-10  142.562500  140.875000  141.625000  141.562500   6690600.0   \n",
       "...                ...         ...         ...         ...         ...   \n",
       "2020-11-17  361.920013  358.339996  359.970001  360.619995  66111000.0   \n",
       "2020-11-18  361.500000  356.239990  360.910004  356.279999  70591300.0   \n",
       "2020-11-19  358.179993  354.149994  355.600006  357.779999  59940900.0   \n",
       "2020-11-20  357.720001  355.250000  357.500000  355.329987  70417300.0   \n",
       "2020-11-23  358.820007  354.869995  357.279999  357.459991  63230600.0   \n",
       "\n",
       "             Adj Close    Buy  \n",
       "Date                           \n",
       "2000-02-04   96.637230  False  \n",
       "2000-02-07   96.488983  False  \n",
       "2000-02-08   97.802017   True  \n",
       "2000-02-09   95.747704  False  \n",
       "2000-02-10   95.938324  False  \n",
       "...                ...    ...  \n",
       "2020-11-17  360.619995   True  \n",
       "2020-11-18  356.279999  False  \n",
       "2020-11-19  357.779999   True  \n",
       "2020-11-20  355.329987  False  \n",
       "2020-11-23  357.459991   True  \n",
       "\n",
       "[5235 rows x 7 columns]"
      ]
     },
     "execution_count": 341,
     "metadata": {},
     "output_type": "execute_result"
    }
   ],
   "source": [
    "df"
   ]
  },
  {
   "cell_type": "code",
   "execution_count": 342,
   "metadata": {},
   "outputs": [
    {
     "data": {
      "text/plain": [
       "High         0\n",
       "Low          0\n",
       "Open         0\n",
       "Close        0\n",
       "Volume       0\n",
       "Adj Close    0\n",
       "Buy          0\n",
       "dtype: int64"
      ]
     },
     "execution_count": 342,
     "metadata": {},
     "output_type": "execute_result"
    }
   ],
   "source": [
    "df.isnull().sum()"
   ]
  },
  {
   "cell_type": "code",
   "execution_count": 343,
   "metadata": {},
   "outputs": [
    {
     "data": {
      "text/html": [
       "<div>\n",
       "<style scoped>\n",
       "    .dataframe tbody tr th:only-of-type {\n",
       "        vertical-align: middle;\n",
       "    }\n",
       "\n",
       "    .dataframe tbody tr th {\n",
       "        vertical-align: top;\n",
       "    }\n",
       "\n",
       "    .dataframe thead th {\n",
       "        text-align: right;\n",
       "    }\n",
       "</style>\n",
       "<table border=\"1\" class=\"dataframe\">\n",
       "  <thead>\n",
       "    <tr style=\"text-align: right;\">\n",
       "      <th></th>\n",
       "      <th>count</th>\n",
       "      <th>mean</th>\n",
       "      <th>std</th>\n",
       "      <th>min</th>\n",
       "      <th>25%</th>\n",
       "      <th>50%</th>\n",
       "      <th>75%</th>\n",
       "      <th>max</th>\n",
       "    </tr>\n",
       "  </thead>\n",
       "  <tbody>\n",
       "    <tr>\n",
       "      <th>High</th>\n",
       "      <td>5235.0</td>\n",
       "      <td>1.655203e+02</td>\n",
       "      <td>6.619707e+01</td>\n",
       "      <td>7.000000e+01</td>\n",
       "      <td>1.173150e+02</td>\n",
       "      <td>1.393600e+02</td>\n",
       "      <td>2.077900e+02</td>\n",
       "      <td>3.643800e+02</td>\n",
       "    </tr>\n",
       "    <tr>\n",
       "      <th>Low</th>\n",
       "      <td>5235.0</td>\n",
       "      <td>1.634749e+02</td>\n",
       "      <td>6.571497e+01</td>\n",
       "      <td>6.710000e+01</td>\n",
       "      <td>1.155300e+02</td>\n",
       "      <td>1.373281e+02</td>\n",
       "      <td>2.055600e+02</td>\n",
       "      <td>3.595900e+02</td>\n",
       "    </tr>\n",
       "    <tr>\n",
       "      <th>Open</th>\n",
       "      <td>5235.0</td>\n",
       "      <td>1.645457e+02</td>\n",
       "      <td>6.597627e+01</td>\n",
       "      <td>6.795000e+01</td>\n",
       "      <td>1.163150e+02</td>\n",
       "      <td>1.383750e+02</td>\n",
       "      <td>2.067200e+02</td>\n",
       "      <td>3.639700e+02</td>\n",
       "    </tr>\n",
       "    <tr>\n",
       "      <th>Close</th>\n",
       "      <td>5235.0</td>\n",
       "      <td>1.645458e+02</td>\n",
       "      <td>6.597687e+01</td>\n",
       "      <td>6.811000e+01</td>\n",
       "      <td>1.164950e+02</td>\n",
       "      <td>1.382200e+02</td>\n",
       "      <td>2.067000e+02</td>\n",
       "      <td>3.625700e+02</td>\n",
       "    </tr>\n",
       "    <tr>\n",
       "      <th>Volume</th>\n",
       "      <td>5235.0</td>\n",
       "      <td>1.123535e+08</td>\n",
       "      <td>9.757470e+07</td>\n",
       "      <td>1.436600e+06</td>\n",
       "      <td>4.905280e+07</td>\n",
       "      <td>8.323440e+07</td>\n",
       "      <td>1.495438e+08</td>\n",
       "      <td>8.710263e+08</td>\n",
       "    </tr>\n",
       "    <tr>\n",
       "      <th>Adj Close</th>\n",
       "      <td>5235.0</td>\n",
       "      <td>1.406289e+02</td>\n",
       "      <td>7.352502e+01</td>\n",
       "      <td>5.373194e+01</td>\n",
       "      <td>8.715988e+01</td>\n",
       "      <td>1.071212e+02</td>\n",
       "      <td>1.870728e+02</td>\n",
       "      <td>3.625700e+02</td>\n",
       "    </tr>\n",
       "  </tbody>\n",
       "</table>\n",
       "</div>"
      ],
      "text/plain": [
       "            count          mean           std           min           25%  \\\n",
       "High       5235.0  1.655203e+02  6.619707e+01  7.000000e+01  1.173150e+02   \n",
       "Low        5235.0  1.634749e+02  6.571497e+01  6.710000e+01  1.155300e+02   \n",
       "Open       5235.0  1.645457e+02  6.597627e+01  6.795000e+01  1.163150e+02   \n",
       "Close      5235.0  1.645458e+02  6.597687e+01  6.811000e+01  1.164950e+02   \n",
       "Volume     5235.0  1.123535e+08  9.757470e+07  1.436600e+06  4.905280e+07   \n",
       "Adj Close  5235.0  1.406289e+02  7.352502e+01  5.373194e+01  8.715988e+01   \n",
       "\n",
       "                    50%           75%           max  \n",
       "High       1.393600e+02  2.077900e+02  3.643800e+02  \n",
       "Low        1.373281e+02  2.055600e+02  3.595900e+02  \n",
       "Open       1.383750e+02  2.067200e+02  3.639700e+02  \n",
       "Close      1.382200e+02  2.067000e+02  3.625700e+02  \n",
       "Volume     8.323440e+07  1.495438e+08  8.710263e+08  \n",
       "Adj Close  1.071212e+02  1.870728e+02  3.625700e+02  "
      ]
     },
     "execution_count": 343,
     "metadata": {},
     "output_type": "execute_result"
    }
   ],
   "source": [
    "df.describe().transpose()"
   ]
  },
  {
   "cell_type": "code",
   "execution_count": 344,
   "metadata": {},
   "outputs": [
    {
     "data": {
      "text/plain": [
       "<matplotlib.axes._subplots.AxesSubplot at 0x14c1aa77b80>"
      ]
     },
     "execution_count": 344,
     "metadata": {},
     "output_type": "execute_result"
    },
    {
     "data": {
      "image/png": "[encoded data removed]",
      "text/plain": [
       "<Figure size 720x432 with 1 Axes>"
      ]
     },
     "metadata": {
      "needs_background": "light"
     },
     "output_type": "display_data"
    }
   ],
   "source": [
    "plt.figure(figsize=(10,6))\n",
    "sns.distplot(df['Close'])"
   ]
  },
  {
   "cell_type": "code",
   "execution_count": 345,
   "metadata": {},
   "outputs": [
    {
     "data": {
      "text/plain": [
       "<matplotlib.axes._subplots.AxesSubplot at 0x14c28070790>"
      ]
     },
     "execution_count": 345,
     "metadata": {},
     "output_type": "execute_result"
    },
    {
     "data": {
      "image/png": "[encoded data removed]",
      "text/plain": [
       "<Figure size 432x288 with 1 Axes>"
      ]
     },
     "metadata": {
      "needs_background": "light"
     },
     "output_type": "display_data"
    }
   ],
   "source": [
    "sns.countplot(df['Volume'])"
   ]
  },
  {
   "cell_type": "code",
   "execution_count": 346,
   "metadata": {},
   "outputs": [
    {
     "data": {
      "text/plain": [
       "<matplotlib.axes._subplots.AxesSubplot at 0x14c2add93d0>"
      ]
     },
     "execution_count": 346,
     "metadata": {},
     "output_type": "execute_result"
    },
    {
     "data": {
      "image/png": "[encoded data removed]",
      "text/plain": [
       "<Figure size 432x288 with 1 Axes>"
      ]
     },
     "metadata": {
      "needs_background": "light"
     },
     "output_type": "display_data"
    }
   ],
   "source": [
    "sns.distplot(df['Volume'])"
   ]
  },
  {
   "cell_type": "code",
   "execution_count": 347,
   "metadata": {},
   "outputs": [
    {
     "data": {
      "text/plain": [
       "Volume      -0.161700\n",
       "Buy          0.023470\n",
       "Adj Close    0.995345\n",
       "Open         0.999731\n",
       "High         0.999811\n",
       "Low          0.999835\n",
       "Close        1.000000\n",
       "Name: Close, dtype: float64"
      ]
     },
     "execution_count": 347,
     "metadata": {},
     "output_type": "execute_result"
    }
   ],
   "source": [
    "df.corr()['Close'].sort_values()"
   ]
  },
  {
   "cell_type": "code",
   "execution_count": 348,
   "metadata": {},
   "outputs": [
    {
     "data": {
      "text/plain": [
       "<matplotlib.axes._subplots.AxesSubplot at 0x14c2b0f08e0>"
      ]
     },
     "execution_count": 348,
     "metadata": {},
     "output_type": "execute_result"
    },
    {
     "data": {
      "image/png": "[encoded data removed]",
      "text/plain": [
       "<Figure size 432x288 with 1 Axes>"
      ]
     },
     "metadata": {
      "needs_background": "light"
     },
     "output_type": "display_data"
    }
   ],
   "source": [
    "sns.scatterplot(x='Close', y='Volume', data=df)"
   ]
  },
  {
   "cell_type": "code",
   "execution_count": 349,
   "metadata": {},
   "outputs": [
    {
     "data": {
      "text/html": [
       "<div>\n",
       "<style scoped>\n",
       "    .dataframe tbody tr th:only-of-type {\n",
       "        vertical-align: middle;\n",
       "    }\n",
       "\n",
       "    .dataframe tbody tr th {\n",
       "        vertical-align: top;\n",
       "    }\n",
       "\n",
       "    .dataframe thead th {\n",
       "        text-align: right;\n",
       "    }\n",
       "</style>\n",
       "<table border=\"1\" class=\"dataframe\">\n",
       "  <thead>\n",
       "    <tr style=\"text-align: right;\">\n",
       "      <th></th>\n",
       "      <th>High</th>\n",
       "      <th>Low</th>\n",
       "      <th>Open</th>\n",
       "      <th>Close</th>\n",
       "      <th>Volume</th>\n",
       "      <th>Adj Close</th>\n",
       "      <th>Buy</th>\n",
       "    </tr>\n",
       "    <tr>\n",
       "      <th>Date</th>\n",
       "      <th></th>\n",
       "      <th></th>\n",
       "      <th></th>\n",
       "      <th></th>\n",
       "      <th></th>\n",
       "      <th></th>\n",
       "      <th></th>\n",
       "    </tr>\n",
       "  </thead>\n",
       "  <tbody>\n",
       "    <tr>\n",
       "      <th>2020-11-16</th>\n",
       "      <td>362.779999</td>\n",
       "      <td>359.589996</td>\n",
       "      <td>360.980011</td>\n",
       "      <td>362.570007</td>\n",
       "      <td>74541100.0</td>\n",
       "      <td>362.570007</td>\n",
       "      <td>True</td>\n",
       "    </tr>\n",
       "    <tr>\n",
       "      <th>2020-11-17</th>\n",
       "      <td>361.920013</td>\n",
       "      <td>358.339996</td>\n",
       "      <td>359.970001</td>\n",
       "      <td>360.619995</td>\n",
       "      <td>66111000.0</td>\n",
       "      <td>360.619995</td>\n",
       "      <td>True</td>\n",
       "    </tr>\n",
       "    <tr>\n",
       "      <th>2020-11-13</th>\n",
       "      <td>358.899994</td>\n",
       "      <td>354.709991</td>\n",
       "      <td>355.269989</td>\n",
       "      <td>358.100006</td>\n",
       "      <td>62892200.0</td>\n",
       "      <td>358.100006</td>\n",
       "      <td>True</td>\n",
       "    </tr>\n",
       "    <tr>\n",
       "      <th>2020-11-19</th>\n",
       "      <td>358.179993</td>\n",
       "      <td>354.149994</td>\n",
       "      <td>355.600006</td>\n",
       "      <td>357.779999</td>\n",
       "      <td>59940900.0</td>\n",
       "      <td>357.779999</td>\n",
       "      <td>True</td>\n",
       "    </tr>\n",
       "    <tr>\n",
       "      <th>2020-09-02</th>\n",
       "      <td>358.750000</td>\n",
       "      <td>353.429993</td>\n",
       "      <td>354.670013</td>\n",
       "      <td>357.700012</td>\n",
       "      <td>69540000.0</td>\n",
       "      <td>356.273865</td>\n",
       "      <td>True</td>\n",
       "    </tr>\n",
       "    <tr>\n",
       "      <th>...</th>\n",
       "      <td>...</td>\n",
       "      <td>...</td>\n",
       "      <td>...</td>\n",
       "      <td>...</td>\n",
       "      <td>...</td>\n",
       "      <td>...</td>\n",
       "      <td>...</td>\n",
       "    </tr>\n",
       "    <tr>\n",
       "      <th>2009-03-02</th>\n",
       "      <td>73.919998</td>\n",
       "      <td>70.370003</td>\n",
       "      <td>72.519997</td>\n",
       "      <td>70.599998</td>\n",
       "      <td>426452600.0</td>\n",
       "      <td>55.696281</td>\n",
       "      <td>False</td>\n",
       "    </tr>\n",
       "    <tr>\n",
       "      <th>2009-03-03</th>\n",
       "      <td>71.699997</td>\n",
       "      <td>69.639999</td>\n",
       "      <td>71.610001</td>\n",
       "      <td>70.070000</td>\n",
       "      <td>443761000.0</td>\n",
       "      <td>55.278164</td>\n",
       "      <td>False</td>\n",
       "    </tr>\n",
       "    <tr>\n",
       "      <th>2009-03-06</th>\n",
       "      <td>70.449997</td>\n",
       "      <td>67.099998</td>\n",
       "      <td>69.400002</td>\n",
       "      <td>68.919998</td>\n",
       "      <td>490470000.0</td>\n",
       "      <td>54.370941</td>\n",
       "      <td>False</td>\n",
       "    </tr>\n",
       "    <tr>\n",
       "      <th>2009-03-05</th>\n",
       "      <td>71.730003</td>\n",
       "      <td>68.169998</td>\n",
       "      <td>70.099998</td>\n",
       "      <td>68.800003</td>\n",
       "      <td>485549400.0</td>\n",
       "      <td>54.276279</td>\n",
       "      <td>False</td>\n",
       "    </tr>\n",
       "    <tr>\n",
       "      <th>2009-03-09</th>\n",
       "      <td>70.000000</td>\n",
       "      <td>67.730003</td>\n",
       "      <td>67.949997</td>\n",
       "      <td>68.110001</td>\n",
       "      <td>379905300.0</td>\n",
       "      <td>53.731937</td>\n",
       "      <td>True</td>\n",
       "    </tr>\n",
       "  </tbody>\n",
       "</table>\n",
       "<p>5235 rows × 7 columns</p>\n",
       "</div>"
      ],
      "text/plain": [
       "                  High         Low        Open       Close       Volume  \\\n",
       "Date                                                                      \n",
       "2020-11-16  362.779999  359.589996  360.980011  362.570007   74541100.0   \n",
       "2020-11-17  361.920013  358.339996  359.970001  360.619995   66111000.0   \n",
       "2020-11-13  358.899994  354.709991  355.269989  358.100006   62892200.0   \n",
       "2020-11-19  358.179993  354.149994  355.600006  357.779999   59940900.0   \n",
       "2020-09-02  358.750000  353.429993  354.670013  357.700012   69540000.0   \n",
       "...                ...         ...         ...         ...          ...   \n",
       "2009-03-02   73.919998   70.370003   72.519997   70.599998  426452600.0   \n",
       "2009-03-03   71.699997   69.639999   71.610001   70.070000  443761000.0   \n",
       "2009-03-06   70.449997   67.099998   69.400002   68.919998  490470000.0   \n",
       "2009-03-05   71.730003   68.169998   70.099998   68.800003  485549400.0   \n",
       "2009-03-09   70.000000   67.730003   67.949997   68.110001  379905300.0   \n",
       "\n",
       "             Adj Close    Buy  \n",
       "Date                           \n",
       "2020-11-16  362.570007   True  \n",
       "2020-11-17  360.619995   True  \n",
       "2020-11-13  358.100006   True  \n",
       "2020-11-19  357.779999   True  \n",
       "2020-09-02  356.273865   True  \n",
       "...                ...    ...  \n",
       "2009-03-02   55.696281  False  \n",
       "2009-03-03   55.278164  False  \n",
       "2009-03-06   54.370941  False  \n",
       "2009-03-05   54.276279  False  \n",
       "2009-03-09   53.731937   True  \n",
       "\n",
       "[5235 rows x 7 columns]"
      ]
     },
     "execution_count": 349,
     "metadata": {},
     "output_type": "execute_result"
    }
   ],
   "source": [
    "df.sort_values('Close', ascending=False)"
   ]
  },
  {
   "cell_type": "code",
   "execution_count": 350,
   "metadata": {},
   "outputs": [
    {
     "data": {
      "text/plain": [
       "0      2000-02-04\n",
       "1      2000-02-07\n",
       "2      2000-02-08\n",
       "3      2000-02-09\n",
       "4      2000-02-10\n",
       "          ...    \n",
       "5230   2020-11-17\n",
       "5231   2020-11-18\n",
       "5232   2020-11-19\n",
       "5233   2020-11-20\n",
       "5234   2020-11-23\n",
       "Name: Date, Length: 5235, dtype: datetime64[ns]"
      ]
     },
     "execution_count": 350,
     "metadata": {},
     "output_type": "execute_result"
    }
   ],
   "source": [
    "df = df.reset_index()\n",
    "df['Date'] = pd.to_datetime(df['Date'])\n",
    "df['Date']"
   ]
  },
  {
   "cell_type": "code",
   "execution_count": 351,
   "metadata": {},
   "outputs": [],
   "source": [
    "df['year'] = df['Date'].apply(lambda date: date.year)\n",
    "df['month'] = df['Date'].apply(lambda date: date.month)"
   ]
  },
  {
   "cell_type": "code",
   "execution_count": 352,
   "metadata": {},
   "outputs": [
    {
     "data": {
      "text/html": [
       "<div>\n",
       "<style scoped>\n",
       "    .dataframe tbody tr th:only-of-type {\n",
       "        vertical-align: middle;\n",
       "    }\n",
       "\n",
       "    .dataframe tbody tr th {\n",
       "        vertical-align: top;\n",
       "    }\n",
       "\n",
       "    .dataframe thead th {\n",
       "        text-align: right;\n",
       "    }\n",
       "</style>\n",
       "<table border=\"1\" class=\"dataframe\">\n",
       "  <thead>\n",
       "    <tr style=\"text-align: right;\">\n",
       "      <th></th>\n",
       "      <th>Date</th>\n",
       "      <th>High</th>\n",
       "      <th>Low</th>\n",
       "      <th>Open</th>\n",
       "      <th>Close</th>\n",
       "      <th>Volume</th>\n",
       "      <th>Adj Close</th>\n",
       "      <th>Buy</th>\n",
       "      <th>year</th>\n",
       "      <th>month</th>\n",
       "    </tr>\n",
       "  </thead>\n",
       "  <tbody>\n",
       "    <tr>\n",
       "      <th>0</th>\n",
       "      <td>2000-02-04</td>\n",
       "      <td>144.000000</td>\n",
       "      <td>142.125000</td>\n",
       "      <td>143.187500</td>\n",
       "      <td>142.593750</td>\n",
       "      <td>4925400.0</td>\n",
       "      <td>96.637230</td>\n",
       "      <td>False</td>\n",
       "      <td>2000</td>\n",
       "      <td>2</td>\n",
       "    </tr>\n",
       "    <tr>\n",
       "      <th>1</th>\n",
       "      <td>2000-02-07</td>\n",
       "      <td>142.781250</td>\n",
       "      <td>141.437500</td>\n",
       "      <td>142.562500</td>\n",
       "      <td>142.375000</td>\n",
       "      <td>5845800.0</td>\n",
       "      <td>96.488983</td>\n",
       "      <td>False</td>\n",
       "      <td>2000</td>\n",
       "      <td>2</td>\n",
       "    </tr>\n",
       "    <tr>\n",
       "      <th>2</th>\n",
       "      <td>2000-02-08</td>\n",
       "      <td>144.562500</td>\n",
       "      <td>143.625000</td>\n",
       "      <td>143.968750</td>\n",
       "      <td>144.312500</td>\n",
       "      <td>4936400.0</td>\n",
       "      <td>97.802017</td>\n",
       "      <td>True</td>\n",
       "      <td>2000</td>\n",
       "      <td>2</td>\n",
       "    </tr>\n",
       "    <tr>\n",
       "      <th>3</th>\n",
       "      <td>2000-02-09</td>\n",
       "      <td>144.468750</td>\n",
       "      <td>141.265625</td>\n",
       "      <td>144.468750</td>\n",
       "      <td>141.281250</td>\n",
       "      <td>8511500.0</td>\n",
       "      <td>95.747704</td>\n",
       "      <td>False</td>\n",
       "      <td>2000</td>\n",
       "      <td>2</td>\n",
       "    </tr>\n",
       "    <tr>\n",
       "      <th>4</th>\n",
       "      <td>2000-02-10</td>\n",
       "      <td>142.562500</td>\n",
       "      <td>140.875000</td>\n",
       "      <td>141.625000</td>\n",
       "      <td>141.562500</td>\n",
       "      <td>6690600.0</td>\n",
       "      <td>95.938324</td>\n",
       "      <td>False</td>\n",
       "      <td>2000</td>\n",
       "      <td>2</td>\n",
       "    </tr>\n",
       "    <tr>\n",
       "      <th>...</th>\n",
       "      <td>...</td>\n",
       "      <td>...</td>\n",
       "      <td>...</td>\n",
       "      <td>...</td>\n",
       "      <td>...</td>\n",
       "      <td>...</td>\n",
       "      <td>...</td>\n",
       "      <td>...</td>\n",
       "      <td>...</td>\n",
       "      <td>...</td>\n",
       "    </tr>\n",
       "    <tr>\n",
       "      <th>5230</th>\n",
       "      <td>2020-11-17</td>\n",
       "      <td>361.920013</td>\n",
       "      <td>358.339996</td>\n",
       "      <td>359.970001</td>\n",
       "      <td>360.619995</td>\n",
       "      <td>66111000.0</td>\n",
       "      <td>360.619995</td>\n",
       "      <td>True</td>\n",
       "      <td>2020</td>\n",
       "      <td>11</td>\n",
       "    </tr>\n",
       "    <tr>\n",
       "      <th>5231</th>\n",
       "      <td>2020-11-18</td>\n",
       "      <td>361.500000</td>\n",
       "      <td>356.239990</td>\n",
       "      <td>360.910004</td>\n",
       "      <td>356.279999</td>\n",
       "      <td>70591300.0</td>\n",
       "      <td>356.279999</td>\n",
       "      <td>False</td>\n",
       "      <td>2020</td>\n",
       "      <td>11</td>\n",
       "    </tr>\n",
       "    <tr>\n",
       "      <th>5232</th>\n",
       "      <td>2020-11-19</td>\n",
       "      <td>358.179993</td>\n",
       "      <td>354.149994</td>\n",
       "      <td>355.600006</td>\n",
       "      <td>357.779999</td>\n",
       "      <td>59940900.0</td>\n",
       "      <td>357.779999</td>\n",
       "      <td>True</td>\n",
       "      <td>2020</td>\n",
       "      <td>11</td>\n",
       "    </tr>\n",
       "    <tr>\n",
       "      <th>5233</th>\n",
       "      <td>2020-11-20</td>\n",
       "      <td>357.720001</td>\n",
       "      <td>355.250000</td>\n",
       "      <td>357.500000</td>\n",
       "      <td>355.329987</td>\n",
       "      <td>70417300.0</td>\n",
       "      <td>355.329987</td>\n",
       "      <td>False</td>\n",
       "      <td>2020</td>\n",
       "      <td>11</td>\n",
       "    </tr>\n",
       "    <tr>\n",
       "      <th>5234</th>\n",
       "      <td>2020-11-23</td>\n",
       "      <td>358.820007</td>\n",
       "      <td>354.869995</td>\n",
       "      <td>357.279999</td>\n",
       "      <td>357.459991</td>\n",
       "      <td>63230600.0</td>\n",
       "      <td>357.459991</td>\n",
       "      <td>True</td>\n",
       "      <td>2020</td>\n",
       "      <td>11</td>\n",
       "    </tr>\n",
       "  </tbody>\n",
       "</table>\n",
       "<p>5235 rows × 10 columns</p>\n",
       "</div>"
      ],
      "text/plain": [
       "           Date        High         Low        Open       Close      Volume  \\\n",
       "0    2000-02-04  144.000000  142.125000  143.187500  142.593750   4925400.0   \n",
       "1    2000-02-07  142.781250  141.437500  142.562500  142.375000   5845800.0   \n",
       "2    2000-02-08  144.562500  143.625000  143.968750  144.312500   4936400.0   \n",
       "3    2000-02-09  144.468750  141.265625  144.468750  141.281250   8511500.0   \n",
       "4    2000-02-10  142.562500  140.875000  141.625000  141.562500   6690600.0   \n",
       "...         ...         ...         ...         ...         ...         ...   \n",
       "5230 2020-11-17  361.920013  358.339996  359.970001  360.619995  66111000.0   \n",
       "5231 2020-11-18  361.500000  356.239990  360.910004  356.279999  70591300.0   \n",
       "5232 2020-11-19  358.179993  354.149994  355.600006  357.779999  59940900.0   \n",
       "5233 2020-11-20  357.720001  355.250000  357.500000  355.329987  70417300.0   \n",
       "5234 2020-11-23  358.820007  354.869995  357.279999  357.459991  63230600.0   \n",
       "\n",
       "       Adj Close    Buy  year  month  \n",
       "0      96.637230  False  2000      2  \n",
       "1      96.488983  False  2000      2  \n",
       "2      97.802017   True  2000      2  \n",
       "3      95.747704  False  2000      2  \n",
       "4      95.938324  False  2000      2  \n",
       "...          ...    ...   ...    ...  \n",
       "5230  360.619995   True  2020     11  \n",
       "5231  356.279999  False  2020     11  \n",
       "5232  357.779999   True  2020     11  \n",
       "5233  355.329987  False  2020     11  \n",
       "5234  357.459991   True  2020     11  \n",
       "\n",
       "[5235 rows x 10 columns]"
      ]
     },
     "execution_count": 352,
     "metadata": {},
     "output_type": "execute_result"
    }
   ],
   "source": [
    "df"
   ]
  },
  {
   "cell_type": "code",
   "execution_count": 353,
   "metadata": {},
   "outputs": [
    {
     "data": {
      "text/plain": [
       "<matplotlib.axes._subplots.AxesSubplot at 0x14c2b28b9d0>"
      ]
     },
     "execution_count": 353,
     "metadata": {},
     "output_type": "execute_result"
    },
    {
     "data": {
      "image/png": "[encoded data removed]",
      "text/plain": [
       "<Figure size 864x576 with 1 Axes>"
      ]
     },
     "metadata": {
      "needs_background": "light"
     },
     "output_type": "display_data"
    }
   ],
   "source": [
    "plt.figure(figsize=(12,8))\n",
    "sns.boxplot(x='month', y='Close', data=df)"
   ]
  },
  {
   "cell_type": "code",
   "execution_count": 354,
   "metadata": {},
   "outputs": [
    {
     "data": {
      "text/plain": [
       "<matplotlib.axes._subplots.AxesSubplot at 0x14c31762d30>"
      ]
     },
     "execution_count": 354,
     "metadata": {},
     "output_type": "execute_result"
    },
    {
     "data": {
      "image/png": "[encoded data removed]",
      "text/plain": [
       "<Figure size 864x576 with 1 Axes>"
      ]
     },
     "metadata": {
      "needs_background": "light"
     },
     "output_type": "display_data"
    }
   ],
   "source": [
    "plt.figure(figsize=(12,8))\n",
    "sns.boxplot(x='month', y='Volume', data=df)"
   ]
  },
  {
   "cell_type": "code",
   "execution_count": 355,
   "metadata": {},
   "outputs": [
    {
     "data": {
      "text/plain": [
       "<matplotlib.axes._subplots.AxesSubplot at 0x14c2b1d5430>"
      ]
     },
     "execution_count": 355,
     "metadata": {},
     "output_type": "execute_result"
    },
    {
     "data": {
      "image/png": "[encoded data removed]",
      "text/plain": [
       "<Figure size 432x288 with 1 Axes>"
      ]
     },
     "metadata": {
      "needs_background": "light"
     },
     "output_type": "display_data"
    }
   ],
   "source": [
    "df.groupby('month').mean()['Volume'].plot()"
   ]
  },
  {
   "cell_type": "code",
   "execution_count": 356,
   "metadata": {},
   "outputs": [
    {
     "data": {
      "text/plain": [
       "<matplotlib.axes._subplots.AxesSubplot at 0x14c314e1850>"
      ]
     },
     "execution_count": 356,
     "metadata": {},
     "output_type": "execute_result"
    },
    {
     "data": {
      "image/png": "[encoded data removed]",
      "text/plain": [
       "<Figure size 432x288 with 1 Axes>"
      ]
     },
     "metadata": {
      "needs_background": "light"
     },
     "output_type": "display_data"
    }
   ],
   "source": [
    "df.groupby('month').mean()['Close'].plot()"
   ]
  },
  {
   "cell_type": "code",
   "execution_count": 357,
   "metadata": {},
   "outputs": [
    {
     "data": {
      "text/plain": [
       "<matplotlib.axes._subplots.AxesSubplot at 0x14c26391d60>"
      ]
     },
     "execution_count": 357,
     "metadata": {},
     "output_type": "execute_result"
    },
    {
     "data": {
      "image/png": "[encoded data removed]",
      "text/plain": [
       "<Figure size 432x288 with 1 Axes>"
      ]
     },
     "metadata": {
      "needs_background": "light"
     },
     "output_type": "display_data"
    }
   ],
   "source": [
    "df.groupby('year').mean()['Volume'].plot()"
   ]
  },
  {
   "cell_type": "code",
   "execution_count": 358,
   "metadata": {},
   "outputs": [
    {
     "data": {
      "text/plain": [
       "<matplotlib.axes._subplots.AxesSubplot at 0x14c1aa657c0>"
      ]
     },
     "execution_count": 358,
     "metadata": {},
     "output_type": "execute_result"
    },
    {
     "data": {
      "image/png": "[encoded data removed]",
      "text/plain": [
       "<Figure size 432x288 with 1 Axes>"
      ]
     },
     "metadata": {
      "needs_background": "light"
     },
     "output_type": "display_data"
    }
   ],
   "source": [
    "df.groupby('year').mean()['Close'].plot()"
   ]
  },
  {
   "cell_type": "code",
   "execution_count": 359,
   "metadata": {},
   "outputs": [
    {
     "data": {
      "text/html": [
       "<div>\n",
       "<style scoped>\n",
       "    .dataframe tbody tr th:only-of-type {\n",
       "        vertical-align: middle;\n",
       "    }\n",
       "\n",
       "    .dataframe tbody tr th {\n",
       "        vertical-align: top;\n",
       "    }\n",
       "\n",
       "    .dataframe thead th {\n",
       "        text-align: right;\n",
       "    }\n",
       "</style>\n",
       "<table border=\"1\" class=\"dataframe\">\n",
       "  <thead>\n",
       "    <tr style=\"text-align: right;\">\n",
       "      <th></th>\n",
       "      <th>Date</th>\n",
       "      <th>High</th>\n",
       "      <th>Low</th>\n",
       "      <th>Open</th>\n",
       "      <th>Close</th>\n",
       "      <th>Volume</th>\n",
       "      <th>Adj Close</th>\n",
       "      <th>Buy</th>\n",
       "      <th>year</th>\n",
       "      <th>month</th>\n",
       "    </tr>\n",
       "  </thead>\n",
       "  <tbody>\n",
       "    <tr>\n",
       "      <th>0</th>\n",
       "      <td>2000-02-04</td>\n",
       "      <td>144.000000</td>\n",
       "      <td>142.125000</td>\n",
       "      <td>143.187500</td>\n",
       "      <td>142.593750</td>\n",
       "      <td>4925400.0</td>\n",
       "      <td>96.637230</td>\n",
       "      <td>False</td>\n",
       "      <td>2000</td>\n",
       "      <td>2</td>\n",
       "    </tr>\n",
       "    <tr>\n",
       "      <th>1</th>\n",
       "      <td>2000-02-07</td>\n",
       "      <td>142.781250</td>\n",
       "      <td>141.437500</td>\n",
       "      <td>142.562500</td>\n",
       "      <td>142.375000</td>\n",
       "      <td>5845800.0</td>\n",
       "      <td>96.488983</td>\n",
       "      <td>False</td>\n",
       "      <td>2000</td>\n",
       "      <td>2</td>\n",
       "    </tr>\n",
       "    <tr>\n",
       "      <th>2</th>\n",
       "      <td>2000-02-08</td>\n",
       "      <td>144.562500</td>\n",
       "      <td>143.625000</td>\n",
       "      <td>143.968750</td>\n",
       "      <td>144.312500</td>\n",
       "      <td>4936400.0</td>\n",
       "      <td>97.802017</td>\n",
       "      <td>True</td>\n",
       "      <td>2000</td>\n",
       "      <td>2</td>\n",
       "    </tr>\n",
       "    <tr>\n",
       "      <th>3</th>\n",
       "      <td>2000-02-09</td>\n",
       "      <td>144.468750</td>\n",
       "      <td>141.265625</td>\n",
       "      <td>144.468750</td>\n",
       "      <td>141.281250</td>\n",
       "      <td>8511500.0</td>\n",
       "      <td>95.747704</td>\n",
       "      <td>False</td>\n",
       "      <td>2000</td>\n",
       "      <td>2</td>\n",
       "    </tr>\n",
       "    <tr>\n",
       "      <th>4</th>\n",
       "      <td>2000-02-10</td>\n",
       "      <td>142.562500</td>\n",
       "      <td>140.875000</td>\n",
       "      <td>141.625000</td>\n",
       "      <td>141.562500</td>\n",
       "      <td>6690600.0</td>\n",
       "      <td>95.938324</td>\n",
       "      <td>False</td>\n",
       "      <td>2000</td>\n",
       "      <td>2</td>\n",
       "    </tr>\n",
       "    <tr>\n",
       "      <th>...</th>\n",
       "      <td>...</td>\n",
       "      <td>...</td>\n",
       "      <td>...</td>\n",
       "      <td>...</td>\n",
       "      <td>...</td>\n",
       "      <td>...</td>\n",
       "      <td>...</td>\n",
       "      <td>...</td>\n",
       "      <td>...</td>\n",
       "      <td>...</td>\n",
       "    </tr>\n",
       "    <tr>\n",
       "      <th>5230</th>\n",
       "      <td>2020-11-17</td>\n",
       "      <td>361.920013</td>\n",
       "      <td>358.339996</td>\n",
       "      <td>359.970001</td>\n",
       "      <td>360.619995</td>\n",
       "      <td>66111000.0</td>\n",
       "      <td>360.619995</td>\n",
       "      <td>True</td>\n",
       "      <td>2020</td>\n",
       "      <td>11</td>\n",
       "    </tr>\n",
       "    <tr>\n",
       "      <th>5231</th>\n",
       "      <td>2020-11-18</td>\n",
       "      <td>361.500000</td>\n",
       "      <td>356.239990</td>\n",
       "      <td>360.910004</td>\n",
       "      <td>356.279999</td>\n",
       "      <td>70591300.0</td>\n",
       "      <td>356.279999</td>\n",
       "      <td>False</td>\n",
       "      <td>2020</td>\n",
       "      <td>11</td>\n",
       "    </tr>\n",
       "    <tr>\n",
       "      <th>5232</th>\n",
       "      <td>2020-11-19</td>\n",
       "      <td>358.179993</td>\n",
       "      <td>354.149994</td>\n",
       "      <td>355.600006</td>\n",
       "      <td>357.779999</td>\n",
       "      <td>59940900.0</td>\n",
       "      <td>357.779999</td>\n",
       "      <td>True</td>\n",
       "      <td>2020</td>\n",
       "      <td>11</td>\n",
       "    </tr>\n",
       "    <tr>\n",
       "      <th>5233</th>\n",
       "      <td>2020-11-20</td>\n",
       "      <td>357.720001</td>\n",
       "      <td>355.250000</td>\n",
       "      <td>357.500000</td>\n",
       "      <td>355.329987</td>\n",
       "      <td>70417300.0</td>\n",
       "      <td>355.329987</td>\n",
       "      <td>False</td>\n",
       "      <td>2020</td>\n",
       "      <td>11</td>\n",
       "    </tr>\n",
       "    <tr>\n",
       "      <th>5234</th>\n",
       "      <td>2020-11-23</td>\n",
       "      <td>358.820007</td>\n",
       "      <td>354.869995</td>\n",
       "      <td>357.279999</td>\n",
       "      <td>357.459991</td>\n",
       "      <td>63230600.0</td>\n",
       "      <td>357.459991</td>\n",
       "      <td>True</td>\n",
       "      <td>2020</td>\n",
       "      <td>11</td>\n",
       "    </tr>\n",
       "  </tbody>\n",
       "</table>\n",
       "<p>5235 rows × 10 columns</p>\n",
       "</div>"
      ],
      "text/plain": [
       "           Date        High         Low        Open       Close      Volume  \\\n",
       "0    2000-02-04  144.000000  142.125000  143.187500  142.593750   4925400.0   \n",
       "1    2000-02-07  142.781250  141.437500  142.562500  142.375000   5845800.0   \n",
       "2    2000-02-08  144.562500  143.625000  143.968750  144.312500   4936400.0   \n",
       "3    2000-02-09  144.468750  141.265625  144.468750  141.281250   8511500.0   \n",
       "4    2000-02-10  142.562500  140.875000  141.625000  141.562500   6690600.0   \n",
       "...         ...         ...         ...         ...         ...         ...   \n",
       "5230 2020-11-17  361.920013  358.339996  359.970001  360.619995  66111000.0   \n",
       "5231 2020-11-18  361.500000  356.239990  360.910004  356.279999  70591300.0   \n",
       "5232 2020-11-19  358.179993  354.149994  355.600006  357.779999  59940900.0   \n",
       "5233 2020-11-20  357.720001  355.250000  357.500000  355.329987  70417300.0   \n",
       "5234 2020-11-23  358.820007  354.869995  357.279999  357.459991  63230600.0   \n",
       "\n",
       "       Adj Close    Buy  year  month  \n",
       "0      96.637230  False  2000      2  \n",
       "1      96.488983  False  2000      2  \n",
       "2      97.802017   True  2000      2  \n",
       "3      95.747704  False  2000      2  \n",
       "4      95.938324  False  2000      2  \n",
       "...          ...    ...   ...    ...  \n",
       "5230  360.619995   True  2020     11  \n",
       "5231  356.279999  False  2020     11  \n",
       "5232  357.779999   True  2020     11  \n",
       "5233  355.329987  False  2020     11  \n",
       "5234  357.459991   True  2020     11  \n",
       "\n",
       "[5235 rows x 10 columns]"
      ]
     },
     "execution_count": 359,
     "metadata": {},
     "output_type": "execute_result"
    }
   ],
   "source": [
    "df"
   ]
  },
  {
   "cell_type": "code",
   "execution_count": 360,
   "metadata": {},
   "outputs": [],
   "source": [
    "X = df[['High', 'Low', 'Open', 'Volume', 'Adj Close', 'Buy', 'year', 'month']].values\n",
    "y = df['Close'].values"
   ]
  },
  {
   "cell_type": "code",
   "execution_count": 361,
   "metadata": {},
   "outputs": [],
   "source": [
    "from sklearn.model_selection import train_test_split"
   ]
  },
  {
   "cell_type": "code",
   "execution_count": 362,
   "metadata": {},
   "outputs": [],
   "source": [
    "X_train, X_test, y_train, y_test = train_test_split(X, y, test_size=0.3, random_state=101)"
   ]
  },
  {
   "cell_type": "code",
   "execution_count": 363,
   "metadata": {},
   "outputs": [],
   "source": [
    "from sklearn.preprocessing import MinMaxScaler"
   ]
  },
  {
   "cell_type": "code",
   "execution_count": 364,
   "metadata": {},
   "outputs": [],
   "source": [
    "scaler = MinMaxScaler()"
   ]
  },
  {
   "cell_type": "code",
   "execution_count": 365,
   "metadata": {},
   "outputs": [],
   "source": [
    "X_train = scaler.fit_transform(X_train)"
   ]
  },
  {
   "cell_type": "code",
   "execution_count": 366,
   "metadata": {},
   "outputs": [],
   "source": [
    "X_test = scaler.transform(X_test)"
   ]
  },
  {
   "cell_type": "code",
   "execution_count": 367,
   "metadata": {},
   "outputs": [],
   "source": [
    "from tensorflow.keras.models import Sequential\n",
    "from tensorflow.keras.layers import Dense"
   ]
  },
  {
   "cell_type": "code",
   "execution_count": 368,
   "metadata": {},
   "outputs": [
    {
     "data": {
      "text/plain": [
       "(3664, 8)"
      ]
     },
     "execution_count": 368,
     "metadata": {},
     "output_type": "execute_result"
    }
   ],
   "source": [
    "X_train.shape"
   ]
  },
  {
   "cell_type": "code",
   "execution_count": 369,
   "metadata": {},
   "outputs": [],
   "source": [
    "model = Sequential()\n",
    "model.add(Dense(8, activation='relu'))\n",
    "model.add(Dense(8, activation='relu'))\n",
    "model.add(Dense(8, activation='relu'))\n",
    "model.add(Dense(8, activation='relu'))\n",
    "model.add(Dense(1))"
   ]
  },
  {
   "cell_type": "code",
   "execution_count": 370,
   "metadata": {},
   "outputs": [],
   "source": [
    "model.compile(optimizer='adam', loss='mse')"
   ]
  },
  {
   "cell_type": "code",
   "execution_count": 371,
   "metadata": {},
   "outputs": [
    {
     "name": "stdout",
     "output_type": "stream",
     "text": [
      "Epoch 1/400\n",
      "29/29 [==============================] - 0s 4ms/step - loss: 31261.2461 - val_loss: 31740.8164\n",
      "Epoch 2/400\n",
      "29/29 [==============================] - 0s 929us/step - loss: 31184.2559 - val_loss: 31625.7266\n",
      "Epoch 3/400\n",
      "29/29 [==============================] - 0s 1ms/step - loss: 31021.8887 - val_loss: 31383.6797\n",
      "Epoch 4/400\n",
      "29/29 [==============================] - 0s 997us/step - loss: 30649.1836 - val_loss: 30805.8770\n",
      "Epoch 5/400\n",
      "29/29 [==============================] - 0s 964us/step - loss: 29788.9062 - val_loss: 29527.6562\n",
      "Epoch 6/400\n",
      "29/29 [==============================] - 0s 1ms/step - loss: 28001.0586 - val_loss: 27010.6680\n",
      "Epoch 7/400\n",
      "29/29 [==============================] - 0s 963us/step - loss: 24732.4180 - val_loss: 22703.7578\n",
      "Epoch 8/400\n",
      "29/29 [==============================] - 0s 997us/step - loss: 19589.2773 - val_loss: 16494.2988\n",
      "Epoch 9/400\n",
      "29/29 [==============================] - 0s 997us/step - loss: 12906.8574 - val_loss: 9348.6484\n",
      "Epoch 10/400\n",
      "29/29 [==============================] - 0s 1ms/step - loss: 6329.0479 - val_loss: 3725.4976\n",
      "Epoch 11/400\n",
      "29/29 [==============================] - 0s 1ms/step - loss: 2331.5115 - val_loss: 1362.2516\n",
      "Epoch 12/400\n",
      "29/29 [==============================] - 0s 1ms/step - loss: 1169.4509 - val_loss: 1027.8864\n",
      "Epoch 13/400\n",
      "29/29 [==============================] - 0s 1ms/step - loss: 1020.1287 - val_loss: 956.4252\n",
      "Epoch 14/400\n",
      "29/29 [==============================] - 0s 998us/step - loss: 950.5536 - val_loss: 888.9869\n",
      "Epoch 15/400\n",
      "29/29 [==============================] - 0s 1ms/step - loss: 883.4565 - val_loss: 825.3695\n",
      "Epoch 16/400\n",
      "29/29 [==============================] - 0s 998us/step - loss: 819.7368 - val_loss: 764.6363\n",
      "Epoch 17/400\n",
      "29/29 [==============================] - 0s 1ms/step - loss: 759.6598 - val_loss: 706.7189\n",
      "Epoch 18/400\n",
      "29/29 [==============================] - 0s 1ms/step - loss: 702.3439 - val_loss: 652.0322\n",
      "Epoch 19/400\n",
      "29/29 [==============================] - 0s 1ms/step - loss: 647.7305 - val_loss: 600.8162\n",
      "Epoch 20/400\n",
      "29/29 [==============================] - 0s 1ms/step - loss: 596.6096 - val_loss: 552.5358\n",
      "Epoch 21/400\n",
      "29/29 [==============================] - 0s 1ms/step - loss: 548.7980 - val_loss: 507.5291\n",
      "Epoch 22/400\n",
      "29/29 [==============================] - 0s 1ms/step - loss: 504.3289 - val_loss: 464.8900\n",
      "Epoch 23/400\n",
      "29/29 [==============================] - 0s 1ms/step - loss: 462.4138 - val_loss: 426.4355\n",
      "Epoch 24/400\n",
      "29/29 [==============================] - 0s 997us/step - loss: 424.3873 - val_loss: 390.1950\n",
      "Epoch 25/400\n",
      "29/29 [==============================] - 0s 963us/step - loss: 388.4334 - val_loss: 357.0334\n",
      "Epoch 26/400\n",
      "29/29 [==============================] - 0s 1ms/step - loss: 355.8248 - val_loss: 326.7129\n",
      "Epoch 27/400\n",
      "29/29 [==============================] - 0s 929us/step - loss: 325.6501 - val_loss: 298.9115\n",
      "Epoch 28/400\n",
      "29/29 [==============================] - 0s 963us/step - loss: 298.0419 - val_loss: 273.9266\n",
      "Epoch 29/400\n",
      "29/29 [==============================] - 0s 1ms/step - loss: 273.3561 - val_loss: 250.6441\n",
      "Epoch 30/400\n",
      "29/29 [==============================] - 0s 1ms/step - loss: 250.6298 - val_loss: 229.9303\n",
      "Epoch 31/400\n",
      "29/29 [==============================] - 0s 997us/step - loss: 230.0460 - val_loss: 211.5488\n",
      "Epoch 32/400\n",
      "29/29 [==============================] - 0s 1ms/step - loss: 211.8413 - val_loss: 194.4846\n",
      "Epoch 33/400\n",
      "29/29 [==============================] - 0s 963us/step - loss: 195.0530 - val_loss: 179.6341\n",
      "Epoch 34/400\n",
      "29/29 [==============================] - 0s 1ms/step - loss: 180.2364 - val_loss: 166.0433\n",
      "Epoch 35/400\n",
      "29/29 [==============================] - 0s 1ms/step - loss: 166.8743 - val_loss: 153.9652\n",
      "Epoch 36/400\n",
      "29/29 [==============================] - 0s 964us/step - loss: 154.7992 - val_loss: 143.2486\n",
      "Epoch 37/400\n",
      "29/29 [==============================] - 0s 997us/step - loss: 144.0585 - val_loss: 133.7070\n",
      "Epoch 38/400\n",
      "29/29 [==============================] - 0s 1ms/step - loss: 134.5169 - val_loss: 124.9260\n",
      "Epoch 39/400\n",
      "29/29 [==============================] - 0s 1ms/step - loss: 125.7839 - val_loss: 117.2182\n",
      "Epoch 40/400\n",
      "29/29 [==============================] - 0s 1ms/step - loss: 117.9988 - val_loss: 110.3540\n",
      "Epoch 41/400\n",
      "29/29 [==============================] - 0s 1ms/step - loss: 111.0299 - val_loss: 104.0712\n",
      "Epoch 42/400\n",
      "29/29 [==============================] - 0s 1ms/step - loss: 104.6958 - val_loss: 98.3624\n",
      "Epoch 43/400\n",
      "29/29 [==============================] - 0s 1ms/step - loss: 98.8887 - val_loss: 93.0974\n",
      "Epoch 44/400\n",
      "29/29 [==============================] - 0s 1ms/step - loss: 93.6014 - val_loss: 88.3139\n",
      "Epoch 45/400\n",
      "29/29 [==============================] - 0s 997us/step - loss: 88.7522 - val_loss: 83.9419\n",
      "Epoch 46/400\n",
      "29/29 [==============================] - 0s 997us/step - loss: 84.2975 - val_loss: 79.8577\n",
      "Epoch 47/400\n",
      "29/29 [==============================] - 0s 1ms/step - loss: 80.1318 - val_loss: 76.1016\n",
      "Epoch 48/400\n",
      "29/29 [==============================] - 0s 1ms/step - loss: 76.2685 - val_loss: 72.6155\n",
      "Epoch 49/400\n",
      "29/29 [==============================] - 0s 1ms/step - loss: 72.6611 - val_loss: 69.2632\n",
      "Epoch 50/400\n",
      "29/29 [==============================] - 0s 1ms/step - loss: 69.2288 - val_loss: 66.1682\n",
      "Epoch 51/400\n",
      "29/29 [==============================] - 0s 1ms/step - loss: 66.0166 - val_loss: 63.1918\n",
      "Epoch 52/400\n",
      "29/29 [==============================] - 0s 1ms/step - loss: 62.9778 - val_loss: 60.3732\n",
      "Epoch 53/400\n",
      "29/29 [==============================] - 0s 1ms/step - loss: 60.0950 - val_loss: 57.6730\n",
      "Epoch 54/400\n",
      "29/29 [==============================] - 0s 998us/step - loss: 57.3214 - val_loss: 55.1533\n",
      "Epoch 55/400\n",
      "29/29 [==============================] - 0s 962us/step - loss: 54.7304 - val_loss: 52.6935\n",
      "Epoch 56/400\n",
      "29/29 [==============================] - 0s 998us/step - loss: 52.2464 - val_loss: 50.3580\n",
      "Epoch 57/400\n",
      "29/29 [==============================] - 0s 929us/step - loss: 49.8375 - val_loss: 48.0933\n",
      "Epoch 58/400\n",
      "29/29 [==============================] - 0s 997us/step - loss: 47.5175 - val_loss: 45.9330\n",
      "Epoch 59/400\n",
      "29/29 [==============================] - 0s 929us/step - loss: 45.3260 - val_loss: 43.8995\n",
      "Epoch 60/400\n",
      "29/29 [==============================] - 0s 963us/step - loss: 43.2226 - val_loss: 41.9144\n",
      "Epoch 61/400\n",
      "29/29 [==============================] - 0s 963us/step - loss: 41.2129 - val_loss: 40.0002\n",
      "Epoch 62/400\n",
      "29/29 [==============================] - 0s 998us/step - loss: 39.2551 - val_loss: 38.1599\n",
      "Epoch 63/400\n",
      "29/29 [==============================] - 0s 997us/step - loss: 37.3908 - val_loss: 36.4320\n",
      "Epoch 64/400\n",
      "29/29 [==============================] - 0s 963us/step - loss: 35.6242 - val_loss: 34.7783\n",
      "Epoch 65/400\n",
      "29/29 [==============================] - 0s 998us/step - loss: 33.9429 - val_loss: 33.1717\n",
      "Epoch 66/400\n",
      "29/29 [==============================] - 0s 1ms/step - loss: 32.3223 - val_loss: 31.6210\n",
      "Epoch 67/400\n",
      "29/29 [==============================] - 0s 1ms/step - loss: 30.7817 - val_loss: 30.1533\n",
      "Epoch 68/400\n",
      "29/29 [==============================] - 0s 1ms/step - loss: 29.3102 - val_loss: 28.7527\n",
      "Epoch 69/400\n",
      "29/29 [==============================] - 0s 1ms/step - loss: 27.8862 - val_loss: 27.4195\n",
      "Epoch 70/400\n",
      "29/29 [==============================] - 0s 1ms/step - loss: 26.5362 - val_loss: 26.1464\n",
      "Epoch 71/400\n",
      "29/29 [==============================] - 0s 929us/step - loss: 25.2680 - val_loss: 24.9173\n",
      "Epoch 72/400\n",
      "29/29 [==============================] - 0s 963us/step - loss: 24.0370 - val_loss: 23.7744\n",
      "Epoch 73/400\n",
      "29/29 [==============================] - 0s 1ms/step - loss: 22.8795 - val_loss: 22.6698\n",
      "Epoch 74/400\n",
      "29/29 [==============================] - 0s 998us/step - loss: 21.7829 - val_loss: 21.6149\n",
      "Epoch 75/400\n",
      "29/29 [==============================] - 0s 1ms/step - loss: 20.7329 - val_loss: 20.6144\n",
      "Epoch 76/400\n",
      "29/29 [==============================] - 0s 930us/step - loss: 19.7525 - val_loss: 19.6762\n",
      "Epoch 77/400\n",
      "29/29 [==============================] - 0s 963us/step - loss: 18.7947 - val_loss: 18.7656\n",
      "Epoch 78/400\n",
      "29/29 [==============================] - 0s 929us/step - loss: 17.9181 - val_loss: 17.9082\n",
      "Epoch 79/400\n"
     ]
    },
    {
     "name": "stdout",
     "output_type": "stream",
     "text": [
      "29/29 [==============================] - 0s 963us/step - loss: 17.0625 - val_loss: 17.1089\n",
      "Epoch 80/400\n",
      "29/29 [==============================] - 0s 963us/step - loss: 16.2671 - val_loss: 16.3370\n",
      "Epoch 81/400\n",
      "29/29 [==============================] - 0s 963us/step - loss: 15.5132 - val_loss: 15.6109\n",
      "Epoch 82/400\n",
      "29/29 [==============================] - 0s 964us/step - loss: 14.8019 - val_loss: 14.9360\n",
      "Epoch 83/400\n",
      "29/29 [==============================] - 0s 1ms/step - loss: 14.1345 - val_loss: 14.3098\n",
      "Epoch 84/400\n",
      "29/29 [==============================] - 0s 1ms/step - loss: 13.5139 - val_loss: 13.6791\n",
      "Epoch 85/400\n",
      "29/29 [==============================] - 0s 1ms/step - loss: 12.9037 - val_loss: 13.1021\n",
      "Epoch 86/400\n",
      "29/29 [==============================] - 0s 997us/step - loss: 12.3623 - val_loss: 12.5673\n",
      "Epoch 87/400\n",
      "29/29 [==============================] - 0s 1ms/step - loss: 11.8176 - val_loss: 12.0466\n",
      "Epoch 88/400\n",
      "29/29 [==============================] - 0s 1ms/step - loss: 11.3238 - val_loss: 11.5600\n",
      "Epoch 89/400\n",
      "29/29 [==============================] - 0s 963us/step - loss: 10.8534 - val_loss: 11.1184\n",
      "Epoch 90/400\n",
      "29/29 [==============================] - 0s 997us/step - loss: 10.4168 - val_loss: 10.6794\n",
      "Epoch 91/400\n",
      "29/29 [==============================] - 0s 963us/step - loss: 10.0014 - val_loss: 10.2713\n",
      "Epoch 92/400\n",
      "29/29 [==============================] - 0s 963us/step - loss: 9.6149 - val_loss: 9.8921\n",
      "Epoch 93/400\n",
      "29/29 [==============================] - 0s 929us/step - loss: 9.2437 - val_loss: 9.5344\n",
      "Epoch 94/400\n",
      "29/29 [==============================] - 0s 963us/step - loss: 8.9050 - val_loss: 9.1969\n",
      "Epoch 95/400\n",
      "29/29 [==============================] - 0s 929us/step - loss: 8.5838 - val_loss: 8.8738\n",
      "Epoch 96/400\n",
      "29/29 [==============================] - 0s 964us/step - loss: 8.2692 - val_loss: 8.5818\n",
      "Epoch 97/400\n",
      "29/29 [==============================] - 0s 997us/step - loss: 7.9836 - val_loss: 8.2836\n",
      "Epoch 98/400\n",
      "29/29 [==============================] - 0s 929us/step - loss: 7.7166 - val_loss: 8.0107\n",
      "Epoch 99/400\n",
      "29/29 [==============================] - 0s 1ms/step - loss: 7.4577 - val_loss: 7.7532\n",
      "Epoch 100/400\n",
      "29/29 [==============================] - 0s 998us/step - loss: 7.2177 - val_loss: 7.5129\n",
      "Epoch 101/400\n",
      "29/29 [==============================] - 0s 997us/step - loss: 6.9771 - val_loss: 7.2744\n",
      "Epoch 102/400\n",
      "29/29 [==============================] - 0s 1ms/step - loss: 6.7664 - val_loss: 7.0519\n",
      "Epoch 103/400\n",
      "29/29 [==============================] - 0s 963us/step - loss: 6.5579 - val_loss: 6.8456\n",
      "Epoch 104/400\n",
      "29/29 [==============================] - 0s 963us/step - loss: 6.3547 - val_loss: 6.6460\n",
      "Epoch 105/400\n",
      "29/29 [==============================] - 0s 1ms/step - loss: 6.1691 - val_loss: 6.4461\n",
      "Epoch 106/400\n",
      "29/29 [==============================] - 0s 1ms/step - loss: 5.9832 - val_loss: 6.2694\n",
      "Epoch 107/400\n",
      "29/29 [==============================] - 0s 1ms/step - loss: 5.8117 - val_loss: 6.0829\n",
      "Epoch 108/400\n",
      "29/29 [==============================] - 0s 963us/step - loss: 5.6479 - val_loss: 5.9122\n",
      "Epoch 109/400\n",
      "29/29 [==============================] - 0s 929us/step - loss: 5.4878 - val_loss: 5.7629\n",
      "Epoch 110/400\n",
      "29/29 [==============================] - 0s 997us/step - loss: 5.3338 - val_loss: 5.5909\n",
      "Epoch 111/400\n",
      "29/29 [==============================] - 0s 997us/step - loss: 5.1863 - val_loss: 5.4646\n",
      "Epoch 112/400\n",
      "29/29 [==============================] - 0s 1ms/step - loss: 5.0699 - val_loss: 5.3289\n",
      "Epoch 113/400\n",
      "29/29 [==============================] - 0s 997us/step - loss: 4.9196 - val_loss: 5.1515\n",
      "Epoch 114/400\n",
      "29/29 [==============================] - 0s 963us/step - loss: 4.7811 - val_loss: 5.0197\n",
      "Epoch 115/400\n",
      "29/29 [==============================] - 0s 997us/step - loss: 4.6511 - val_loss: 4.8958\n",
      "Epoch 116/400\n",
      "29/29 [==============================] - 0s 963us/step - loss: 4.5303 - val_loss: 4.7500\n",
      "Epoch 117/400\n",
      "29/29 [==============================] - 0s 1ms/step - loss: 4.4085 - val_loss: 4.6421\n",
      "Epoch 118/400\n",
      "29/29 [==============================] - 0s 964us/step - loss: 4.2946 - val_loss: 4.5155\n",
      "Epoch 119/400\n",
      "29/29 [==============================] - 0s 963us/step - loss: 4.1791 - val_loss: 4.4007\n",
      "Epoch 120/400\n",
      "29/29 [==============================] - 0s 963us/step - loss: 4.0713 - val_loss: 4.2763\n",
      "Epoch 121/400\n",
      "29/29 [==============================] - 0s 963us/step - loss: 3.9549 - val_loss: 4.1545\n",
      "Epoch 122/400\n",
      "29/29 [==============================] - 0s 929us/step - loss: 3.8552 - val_loss: 4.0461\n",
      "Epoch 123/400\n",
      "29/29 [==============================] - 0s 997us/step - loss: 3.7491 - val_loss: 3.9323\n",
      "Epoch 124/400\n",
      "29/29 [==============================] - 0s 964us/step - loss: 3.6513 - val_loss: 3.8297\n",
      "Epoch 125/400\n",
      "29/29 [==============================] - 0s 997us/step - loss: 3.5529 - val_loss: 3.7241\n",
      "Epoch 126/400\n",
      "29/29 [==============================] - 0s 964us/step - loss: 3.4594 - val_loss: 3.6228\n",
      "Epoch 127/400\n",
      "29/29 [==============================] - 0s 963us/step - loss: 3.3662 - val_loss: 3.5287\n",
      "Epoch 128/400\n",
      "29/29 [==============================] - 0s 929us/step - loss: 3.2760 - val_loss: 3.4361\n",
      "Epoch 129/400\n",
      "29/29 [==============================] - 0s 963us/step - loss: 3.1933 - val_loss: 3.3396\n",
      "Epoch 130/400\n",
      "29/29 [==============================] - 0s 929us/step - loss: 3.1026 - val_loss: 3.2609\n",
      "Epoch 131/400\n",
      "29/29 [==============================] - 0s 963us/step - loss: 3.0227 - val_loss: 3.1618\n",
      "Epoch 132/400\n",
      "29/29 [==============================] - 0s 998us/step - loss: 2.9396 - val_loss: 3.0738\n",
      "Epoch 133/400\n",
      "29/29 [==============================] - 0s 963us/step - loss: 2.8610 - val_loss: 2.9933\n",
      "Epoch 134/400\n",
      "29/29 [==============================] - 0s 997us/step - loss: 2.7827 - val_loss: 2.9220\n",
      "Epoch 135/400\n",
      "29/29 [==============================] - 0s 1ms/step - loss: 2.7147 - val_loss: 2.8288\n",
      "Epoch 136/400\n",
      "29/29 [==============================] - 0s 998us/step - loss: 2.6360 - val_loss: 2.7585\n",
      "Epoch 137/400\n",
      "29/29 [==============================] - 0s 1ms/step - loss: 2.5654 - val_loss: 2.6770\n",
      "Epoch 138/400\n",
      "29/29 [==============================] - 0s 1ms/step - loss: 2.5026 - val_loss: 2.6297\n",
      "Epoch 139/400\n",
      "29/29 [==============================] - 0s 1ms/step - loss: 2.4307 - val_loss: 2.5405\n",
      "Epoch 140/400\n",
      "29/29 [==============================] - 0s 1ms/step - loss: 2.3677 - val_loss: 2.4676\n",
      "Epoch 141/400\n",
      "29/29 [==============================] - 0s 1ms/step - loss: 2.3076 - val_loss: 2.4022\n",
      "Epoch 142/400\n",
      "29/29 [==============================] - 0s 963us/step - loss: 2.2458 - val_loss: 2.3338\n",
      "Epoch 143/400\n",
      "29/29 [==============================] - 0s 963us/step - loss: 2.1880 - val_loss: 2.2685\n",
      "Epoch 144/400\n",
      "29/29 [==============================] - 0s 963us/step - loss: 2.1288 - val_loss: 2.2209\n",
      "Epoch 145/400\n",
      "29/29 [==============================] - 0s 997us/step - loss: 2.0722 - val_loss: 2.1541\n",
      "Epoch 146/400\n",
      "29/29 [==============================] - 0s 1ms/step - loss: 2.0197 - val_loss: 2.0996\n",
      "Epoch 147/400\n",
      "29/29 [==============================] - 0s 997us/step - loss: 1.9688 - val_loss: 2.0387\n",
      "Epoch 148/400\n",
      "29/29 [==============================] - 0s 1ms/step - loss: 1.9197 - val_loss: 1.9875\n",
      "Epoch 149/400\n",
      "29/29 [==============================] - 0s 997us/step - loss: 1.8808 - val_loss: 1.9351\n",
      "Epoch 150/400\n",
      "29/29 [==============================] - 0s 1ms/step - loss: 1.8293 - val_loss: 1.8894\n",
      "Epoch 151/400\n",
      "29/29 [==============================] - 0s 1ms/step - loss: 1.7846 - val_loss: 1.8416\n",
      "Epoch 152/400\n",
      "29/29 [==============================] - 0s 1ms/step - loss: 1.7417 - val_loss: 1.8004\n",
      "Epoch 153/400\n",
      "29/29 [==============================] - 0s 1ms/step - loss: 1.7018 - val_loss: 1.7554\n",
      "Epoch 154/400\n",
      "29/29 [==============================] - 0s 997us/step - loss: 1.6660 - val_loss: 1.7112\n",
      "Epoch 155/400\n",
      "29/29 [==============================] - 0s 963us/step - loss: 1.6267 - val_loss: 1.6766\n",
      "Epoch 156/400\n",
      "29/29 [==============================] - 0s 998us/step - loss: 1.5913 - val_loss: 1.6357\n",
      "Epoch 157/400\n",
      "29/29 [==============================] - 0s 929us/step - loss: 1.5566 - val_loss: 1.6000\n",
      "Epoch 158/400\n",
      "29/29 [==============================] - 0s 1ms/step - loss: 1.5268 - val_loss: 1.5641\n",
      "Epoch 159/400\n"
     ]
    },
    {
     "name": "stdout",
     "output_type": "stream",
     "text": [
      "29/29 [==============================] - 0s 963us/step - loss: 1.4931 - val_loss: 1.5303\n",
      "Epoch 160/400\n",
      "29/29 [==============================] - 0s 963us/step - loss: 1.4690 - val_loss: 1.4977\n",
      "Epoch 161/400\n",
      "29/29 [==============================] - 0s 997us/step - loss: 1.4465 - val_loss: 1.4834\n",
      "Epoch 162/400\n",
      "29/29 [==============================] - 0s 963us/step - loss: 1.4166 - val_loss: 1.4385\n",
      "Epoch 163/400\n",
      "29/29 [==============================] - 0s 929us/step - loss: 1.3887 - val_loss: 1.4360\n",
      "Epoch 164/400\n",
      "29/29 [==============================] - 0s 963us/step - loss: 1.3620 - val_loss: 1.3864\n",
      "Epoch 165/400\n",
      "29/29 [==============================] - 0s 1ms/step - loss: 1.3383 - val_loss: 1.3636\n",
      "Epoch 166/400\n",
      "29/29 [==============================] - 0s 997us/step - loss: 1.3207 - val_loss: 1.3369\n",
      "Epoch 167/400\n",
      "29/29 [==============================] - 0s 997us/step - loss: 1.2993 - val_loss: 1.3142\n",
      "Epoch 168/400\n",
      "29/29 [==============================] - 0s 997us/step - loss: 1.2859 - val_loss: 1.2989\n",
      "Epoch 169/400\n",
      "29/29 [==============================] - 0s 963us/step - loss: 1.2647 - val_loss: 1.2739\n",
      "Epoch 170/400\n",
      "29/29 [==============================] - 0s 1ms/step - loss: 1.2442 - val_loss: 1.2554\n",
      "Epoch 171/400\n",
      "29/29 [==============================] - 0s 1ms/step - loss: 1.2343 - val_loss: 1.2391\n",
      "Epoch 172/400\n",
      "29/29 [==============================] - 0s 1ms/step - loss: 1.2161 - val_loss: 1.2296\n",
      "Epoch 173/400\n",
      "29/29 [==============================] - 0s 997us/step - loss: 1.2048 - val_loss: 1.2047\n",
      "Epoch 174/400\n",
      "29/29 [==============================] - 0s 963us/step - loss: 1.1873 - val_loss: 1.2025\n",
      "Epoch 175/400\n",
      "29/29 [==============================] - 0s 929us/step - loss: 1.1726 - val_loss: 1.1781\n",
      "Epoch 176/400\n",
      "29/29 [==============================] - 0s 997us/step - loss: 1.1637 - val_loss: 1.1652\n",
      "Epoch 177/400\n",
      "29/29 [==============================] - 0s 963us/step - loss: 1.1511 - val_loss: 1.1515\n",
      "Epoch 178/400\n",
      "29/29 [==============================] - 0s 997us/step - loss: 1.1412 - val_loss: 1.1617\n",
      "Epoch 179/400\n",
      "29/29 [==============================] - 0s 997us/step - loss: 1.1313 - val_loss: 1.1326\n",
      "Epoch 180/400\n",
      "29/29 [==============================] - 0s 1ms/step - loss: 1.1222 - val_loss: 1.1245\n",
      "Epoch 181/400\n",
      "29/29 [==============================] - 0s 1ms/step - loss: 1.1096 - val_loss: 1.1093\n",
      "Epoch 182/400\n",
      "29/29 [==============================] - 0s 963us/step - loss: 1.1042 - val_loss: 1.0995\n",
      "Epoch 183/400\n",
      "29/29 [==============================] - 0s 929us/step - loss: 1.0988 - val_loss: 1.1312\n",
      "Epoch 184/400\n",
      "29/29 [==============================] - 0s 1ms/step - loss: 1.0930 - val_loss: 1.0933\n",
      "Epoch 185/400\n",
      "29/29 [==============================] - 0s 997us/step - loss: 1.0846 - val_loss: 1.0780\n",
      "Epoch 186/400\n",
      "29/29 [==============================] - 0s 963us/step - loss: 1.0799 - val_loss: 1.0715\n",
      "Epoch 187/400\n",
      "29/29 [==============================] - 0s 929us/step - loss: 1.0760 - val_loss: 1.0674\n",
      "Epoch 188/400\n",
      "29/29 [==============================] - 0s 997us/step - loss: 1.0678 - val_loss: 1.0572\n",
      "Epoch 189/400\n",
      "29/29 [==============================] - 0s 997us/step - loss: 1.0646 - val_loss: 1.0519\n",
      "Epoch 190/400\n",
      "29/29 [==============================] - 0s 929us/step - loss: 1.0623 - val_loss: 1.0486\n",
      "Epoch 191/400\n",
      "29/29 [==============================] - 0s 997us/step - loss: 1.0567 - val_loss: 1.0532\n",
      "Epoch 192/400\n",
      "29/29 [==============================] - 0s 997us/step - loss: 1.0550 - val_loss: 1.0495\n",
      "Epoch 193/400\n",
      "29/29 [==============================] - 0s 997us/step - loss: 1.0615 - val_loss: 1.0380\n",
      "Epoch 194/400\n",
      "29/29 [==============================] - 0s 1ms/step - loss: 1.0441 - val_loss: 1.0550\n",
      "Epoch 195/400\n",
      "29/29 [==============================] - 0s 1ms/step - loss: 1.0456 - val_loss: 1.0283\n",
      "Epoch 196/400\n",
      "29/29 [==============================] - 0s 1ms/step - loss: 1.0429 - val_loss: 1.0232\n",
      "Epoch 197/400\n",
      "29/29 [==============================] - 0s 1ms/step - loss: 1.0382 - val_loss: 1.0239\n",
      "Epoch 198/400\n",
      "29/29 [==============================] - 0s 1ms/step - loss: 1.0404 - val_loss: 1.0185\n",
      "Epoch 199/400\n",
      "29/29 [==============================] - 0s 1ms/step - loss: 1.0332 - val_loss: 1.0232\n",
      "Epoch 200/400\n",
      "29/29 [==============================] - 0s 997us/step - loss: 1.0321 - val_loss: 1.0124\n",
      "Epoch 201/400\n",
      "29/29 [==============================] - 0s 1ms/step - loss: 1.0289 - val_loss: 1.0166\n",
      "Epoch 202/400\n",
      "29/29 [==============================] - 0s 1ms/step - loss: 1.0280 - val_loss: 1.0059\n",
      "Epoch 203/400\n",
      "29/29 [==============================] - 0s 1ms/step - loss: 1.0250 - val_loss: 1.0102\n",
      "Epoch 204/400\n",
      "29/29 [==============================] - 0s 1ms/step - loss: 1.0278 - val_loss: 1.0034\n",
      "Epoch 205/400\n",
      "29/29 [==============================] - 0s 963us/step - loss: 1.0246 - val_loss: 1.0000\n",
      "Epoch 206/400\n",
      "29/29 [==============================] - 0s 929us/step - loss: 1.0192 - val_loss: 0.9989\n",
      "Epoch 207/400\n",
      "29/29 [==============================] - 0s 963us/step - loss: 1.0188 - val_loss: 0.9964\n",
      "Epoch 208/400\n",
      "29/29 [==============================] - 0s 963us/step - loss: 1.0180 - val_loss: 1.0046\n",
      "Epoch 209/400\n",
      "29/29 [==============================] - 0s 963us/step - loss: 1.0170 - val_loss: 1.0076\n",
      "Epoch 210/400\n",
      "29/29 [==============================] - 0s 963us/step - loss: 1.0196 - val_loss: 1.0008\n",
      "Epoch 211/400\n",
      "29/29 [==============================] - 0s 997us/step - loss: 1.0130 - val_loss: 0.9945\n",
      "Epoch 212/400\n",
      "29/29 [==============================] - 0s 1ms/step - loss: 1.0135 - val_loss: 0.9904\n",
      "Epoch 213/400\n",
      "29/29 [==============================] - 0s 1ms/step - loss: 1.0132 - val_loss: 0.9885\n",
      "Epoch 214/400\n",
      "29/29 [==============================] - 0s 963us/step - loss: 1.0123 - val_loss: 0.9870\n",
      "Epoch 215/400\n",
      "29/29 [==============================] - 0s 963us/step - loss: 1.0330 - val_loss: 0.9847\n",
      "Epoch 216/400\n",
      "29/29 [==============================] - 0s 1ms/step - loss: 1.0116 - val_loss: 0.9856\n",
      "Epoch 217/400\n",
      "29/29 [==============================] - 0s 1ms/step - loss: 1.0107 - val_loss: 0.9825\n",
      "Epoch 218/400\n",
      "29/29 [==============================] - 0s 963us/step - loss: 1.0150 - val_loss: 0.9804\n",
      "Epoch 219/400\n",
      "29/29 [==============================] - 0s 963us/step - loss: 1.0140 - val_loss: 0.9871\n",
      "Epoch 220/400\n",
      "29/29 [==============================] - 0s 998us/step - loss: 1.0094 - val_loss: 0.9777\n",
      "Epoch 221/400\n",
      "29/29 [==============================] - 0s 1ms/step - loss: 1.0024 - val_loss: 0.9854\n",
      "Epoch 222/400\n",
      "29/29 [==============================] - 0s 997us/step - loss: 1.0036 - val_loss: 0.9745\n",
      "Epoch 223/400\n",
      "29/29 [==============================] - 0s 996us/step - loss: 1.0187 - val_loss: 0.9788\n",
      "Epoch 224/400\n",
      "29/29 [==============================] - 0s 998us/step - loss: 1.0081 - val_loss: 0.9764\n",
      "Epoch 225/400\n",
      "29/29 [==============================] - 0s 963us/step - loss: 1.0089 - val_loss: 0.9791\n",
      "Epoch 226/400\n",
      "29/29 [==============================] - 0s 997us/step - loss: 0.9990 - val_loss: 0.9869\n",
      "Epoch 227/400\n",
      "29/29 [==============================] - 0s 963us/step - loss: 1.0012 - val_loss: 0.9720\n",
      "Epoch 228/400\n",
      "29/29 [==============================] - 0s 997us/step - loss: 1.0059 - val_loss: 0.9685\n",
      "Epoch 229/400\n",
      "29/29 [==============================] - 0s 997us/step - loss: 1.0086 - val_loss: 0.9850\n",
      "Epoch 230/400\n",
      "29/29 [==============================] - 0s 1ms/step - loss: 1.0026 - val_loss: 0.9655\n",
      "Epoch 231/400\n",
      "29/29 [==============================] - 0s 1ms/step - loss: 0.9945 - val_loss: 0.9635\n",
      "Epoch 232/400\n",
      "29/29 [==============================] - 0s 1ms/step - loss: 0.9974 - val_loss: 0.9710\n",
      "Epoch 233/400\n",
      "29/29 [==============================] - 0s 1ms/step - loss: 0.9946 - val_loss: 0.9792\n",
      "Epoch 234/400\n",
      "29/29 [==============================] - 0s 1ms/step - loss: 0.9942 - val_loss: 0.9599\n",
      "Epoch 235/400\n",
      "29/29 [==============================] - 0s 1ms/step - loss: 0.9860 - val_loss: 0.9983\n",
      "Epoch 236/400\n",
      "29/29 [==============================] - 0s 1ms/step - loss: 0.9946 - val_loss: 0.9655\n",
      "Epoch 237/400\n",
      "29/29 [==============================] - 0s 860us/step - loss: 0.9854 - val_loss: 0.9602\n",
      "Epoch 238/400\n",
      "29/29 [==============================] - 0s 963us/step - loss: 0.9889 - val_loss: 0.9548\n",
      "Epoch 239/400\n"
     ]
    },
    {
     "name": "stdout",
     "output_type": "stream",
     "text": [
      "29/29 [==============================] - 0s 963us/step - loss: 0.9900 - val_loss: 0.9619\n",
      "Epoch 240/400\n",
      "29/29 [==============================] - 0s 964us/step - loss: 0.9862 - val_loss: 0.9565\n",
      "Epoch 241/400\n",
      "29/29 [==============================] - 0s 929us/step - loss: 0.9872 - val_loss: 0.9551\n",
      "Epoch 242/400\n",
      "29/29 [==============================] - 0s 997us/step - loss: 0.9907 - val_loss: 1.0466\n",
      "Epoch 243/400\n",
      "29/29 [==============================] - 0s 997us/step - loss: 0.9941 - val_loss: 0.9530\n",
      "Epoch 244/400\n",
      "29/29 [==============================] - 0s 1ms/step - loss: 0.9778 - val_loss: 0.9525\n",
      "Epoch 245/400\n",
      "29/29 [==============================] - 0s 963us/step - loss: 0.9743 - val_loss: 0.9513\n",
      "Epoch 246/400\n",
      "29/29 [==============================] - 0s 1ms/step - loss: 0.9834 - val_loss: 0.9470\n",
      "Epoch 247/400\n",
      "29/29 [==============================] - 0s 997us/step - loss: 0.9734 - val_loss: 0.9585\n",
      "Epoch 248/400\n",
      "29/29 [==============================] - 0s 997us/step - loss: 0.9941 - val_loss: 0.9441\n",
      "Epoch 249/400\n",
      "29/29 [==============================] - 0s 1ms/step - loss: 0.9781 - val_loss: 0.9726\n",
      "Epoch 250/400\n",
      "29/29 [==============================] - 0s 1ms/step - loss: 0.9725 - val_loss: 0.9436\n",
      "Epoch 251/400\n",
      "29/29 [==============================] - 0s 1ms/step - loss: 0.9699 - val_loss: 0.9464\n",
      "Epoch 252/400\n",
      "29/29 [==============================] - 0s 963us/step - loss: 0.9681 - val_loss: 0.9389\n",
      "Epoch 253/400\n",
      "29/29 [==============================] - 0s 997us/step - loss: 0.9715 - val_loss: 0.9461\n",
      "Epoch 254/400\n",
      "29/29 [==============================] - 0s 1ms/step - loss: 0.9787 - val_loss: 0.9376\n",
      "Epoch 255/400\n",
      "29/29 [==============================] - 0s 2ms/step - loss: 0.9679 - val_loss: 0.9357\n",
      "Epoch 256/400\n",
      "29/29 [==============================] - 0s 1ms/step - loss: 0.9814 - val_loss: 0.9437\n",
      "Epoch 257/400\n",
      "29/29 [==============================] - 0s 1ms/step - loss: 0.9618 - val_loss: 0.9370\n",
      "Epoch 258/400\n",
      "29/29 [==============================] - 0s 997us/step - loss: 0.9648 - val_loss: 0.9466\n",
      "Epoch 259/400\n",
      "29/29 [==============================] - 0s 1ms/step - loss: 0.9686 - val_loss: 0.9319\n",
      "Epoch 260/400\n",
      "29/29 [==============================] - 0s 1ms/step - loss: 0.9547 - val_loss: 0.9334\n",
      "Epoch 261/400\n",
      "29/29 [==============================] - 0s 963us/step - loss: 0.9501 - val_loss: 0.9260\n",
      "Epoch 262/400\n",
      "29/29 [==============================] - 0s 997us/step - loss: 0.9636 - val_loss: 0.9452\n",
      "Epoch 263/400\n",
      "29/29 [==============================] - 0s 997us/step - loss: 0.9709 - val_loss: 0.9223\n",
      "Epoch 264/400\n",
      "29/29 [==============================] - 0s 1ms/step - loss: 0.9853 - val_loss: 0.9724\n",
      "Epoch 265/400\n",
      "29/29 [==============================] - 0s 1ms/step - loss: 0.9710 - val_loss: 0.9319\n",
      "Epoch 266/400\n",
      "29/29 [==============================] - 0s 1ms/step - loss: 0.9656 - val_loss: 0.9208\n",
      "Epoch 267/400\n",
      "29/29 [==============================] - 0s 1ms/step - loss: 0.9472 - val_loss: 0.9316\n",
      "Epoch 268/400\n",
      "29/29 [==============================] - 0s 1ms/step - loss: 0.9480 - val_loss: 0.9465\n",
      "Epoch 269/400\n",
      "29/29 [==============================] - 0s 997us/step - loss: 0.9589 - val_loss: 0.9271\n",
      "Epoch 270/400\n",
      "29/29 [==============================] - 0s 964us/step - loss: 0.9985 - val_loss: 0.9241\n",
      "Epoch 271/400\n",
      "29/29 [==============================] - 0s 963us/step - loss: 0.9493 - val_loss: 0.9230\n",
      "Epoch 272/400\n",
      "29/29 [==============================] - 0s 997us/step - loss: 0.9340 - val_loss: 0.9138\n",
      "Epoch 273/400\n",
      "29/29 [==============================] - 0s 997us/step - loss: 0.9419 - val_loss: 0.9855\n",
      "Epoch 274/400\n",
      "29/29 [==============================] - 0s 1ms/step - loss: 0.9472 - val_loss: 0.9656\n",
      "Epoch 275/400\n",
      "29/29 [==============================] - 0s 1ms/step - loss: 0.9562 - val_loss: 0.9575\n",
      "Epoch 276/400\n",
      "29/29 [==============================] - 0s 1ms/step - loss: 0.9567 - val_loss: 0.9157\n",
      "Epoch 277/400\n",
      "29/29 [==============================] - 0s 997us/step - loss: 0.9582 - val_loss: 1.0585\n",
      "Epoch 278/400\n",
      "29/29 [==============================] - 0s 1ms/step - loss: 0.9793 - val_loss: 0.9595\n",
      "Epoch 279/400\n",
      "29/29 [==============================] - 0s 997us/step - loss: 0.9378 - val_loss: 0.9068\n",
      "Epoch 280/400\n",
      "29/29 [==============================] - 0s 997us/step - loss: 0.9464 - val_loss: 0.8991\n",
      "Epoch 281/400\n",
      "29/29 [==============================] - 0s 963us/step - loss: 0.9422 - val_loss: 0.8949\n",
      "Epoch 282/400\n",
      "29/29 [==============================] - 0s 1ms/step - loss: 0.9300 - val_loss: 0.8949\n",
      "Epoch 283/400\n",
      "29/29 [==============================] - 0s 1ms/step - loss: 0.9264 - val_loss: 0.8922\n",
      "Epoch 284/400\n",
      "29/29 [==============================] - 0s 1ms/step - loss: 0.9278 - val_loss: 0.8907\n",
      "Epoch 285/400\n",
      "29/29 [==============================] - 0s 1ms/step - loss: 0.9310 - val_loss: 0.9190\n",
      "Epoch 286/400\n",
      "29/29 [==============================] - 0s 963us/step - loss: 0.9218 - val_loss: 0.9034\n",
      "Epoch 287/400\n",
      "29/29 [==============================] - 0s 997us/step - loss: 0.9265 - val_loss: 0.9071\n",
      "Epoch 288/400\n",
      "29/29 [==============================] - 0s 997us/step - loss: 0.9306 - val_loss: 0.9020\n",
      "Epoch 289/400\n",
      "29/29 [==============================] - 0s 1ms/step - loss: 0.9085 - val_loss: 0.8836\n",
      "Epoch 290/400\n",
      "29/29 [==============================] - 0s 963us/step - loss: 0.9079 - val_loss: 0.8812\n",
      "Epoch 291/400\n",
      "29/29 [==============================] - 0s 997us/step - loss: 0.9162 - val_loss: 0.8853\n",
      "Epoch 292/400\n",
      "29/29 [==============================] - 0s 963us/step - loss: 0.9117 - val_loss: 0.8867\n",
      "Epoch 293/400\n",
      "29/29 [==============================] - 0s 997us/step - loss: 0.9061 - val_loss: 0.8922\n",
      "Epoch 294/400\n",
      "29/29 [==============================] - 0s 997us/step - loss: 0.9157 - val_loss: 1.0983\n",
      "Epoch 295/400\n",
      "29/29 [==============================] - 0s 1ms/step - loss: 0.9546 - val_loss: 0.9059\n",
      "Epoch 296/400\n",
      "29/29 [==============================] - 0s 1ms/step - loss: 0.8965 - val_loss: 0.9160\n",
      "Epoch 297/400\n",
      "29/29 [==============================] - 0s 1ms/step - loss: 0.9143 - val_loss: 0.8950\n",
      "Epoch 298/400\n",
      "29/29 [==============================] - 0s 1ms/step - loss: 0.9018 - val_loss: 0.8691\n",
      "Epoch 299/400\n",
      "29/29 [==============================] - 0s 929us/step - loss: 0.9128 - val_loss: 0.8894\n",
      "Epoch 300/400\n",
      "29/29 [==============================] - 0s 963us/step - loss: 0.9228 - val_loss: 0.8820\n",
      "Epoch 301/400\n",
      "29/29 [==============================] - 0s 963us/step - loss: 0.9140 - val_loss: 0.8842\n",
      "Epoch 302/400\n",
      "29/29 [==============================] - 0s 997us/step - loss: 0.9354 - val_loss: 0.9009\n",
      "Epoch 303/400\n",
      "29/29 [==============================] - 0s 929us/step - loss: 0.9036 - val_loss: 0.8735\n",
      "Epoch 304/400\n",
      "29/29 [==============================] - 0s 929us/step - loss: 0.8880 - val_loss: 0.9283\n",
      "Epoch 305/400\n",
      "29/29 [==============================] - 0s 997us/step - loss: 0.8976 - val_loss: 0.8700\n",
      "Epoch 306/400\n",
      "29/29 [==============================] - 0s 929us/step - loss: 0.8803 - val_loss: 0.8584\n",
      "Epoch 307/400\n",
      "29/29 [==============================] - 0s 997us/step - loss: 0.8796 - val_loss: 0.8675\n",
      "Epoch 308/400\n",
      "29/29 [==============================] - 0s 1ms/step - loss: 0.8959 - val_loss: 0.9026\n",
      "Epoch 309/400\n",
      "29/29 [==============================] - 0s 1ms/step - loss: 0.9260 - val_loss: 0.8980\n",
      "Epoch 310/400\n",
      "29/29 [==============================] - 0s 1ms/step - loss: 0.9364 - val_loss: 0.8747\n",
      "Epoch 311/400\n",
      "29/29 [==============================] - 0s 1ms/step - loss: 0.8854 - val_loss: 0.8841\n",
      "Epoch 312/400\n",
      "29/29 [==============================] - 0s 996us/step - loss: 0.8918 - val_loss: 0.8459\n",
      "Epoch 313/400\n",
      "29/29 [==============================] - 0s 929us/step - loss: 0.8655 - val_loss: 0.8443\n",
      "Epoch 314/400\n",
      "29/29 [==============================] - 0s 997us/step - loss: 0.8828 - val_loss: 0.8568\n",
      "Epoch 315/400\n",
      "29/29 [==============================] - 0s 963us/step - loss: 0.9014 - val_loss: 0.9079\n",
      "Epoch 316/400\n",
      "29/29 [==============================] - 0s 997us/step - loss: 0.9153 - val_loss: 0.8623\n",
      "Epoch 317/400\n",
      "29/29 [==============================] - 0s 997us/step - loss: 0.8744 - val_loss: 0.8508\n",
      "Epoch 318/400\n",
      "29/29 [==============================] - 0s 1ms/step - loss: 0.8880 - val_loss: 0.9664\n",
      "Epoch 319/400\n"
     ]
    },
    {
     "name": "stdout",
     "output_type": "stream",
     "text": [
      "29/29 [==============================] - 0s 963us/step - loss: 0.8712 - val_loss: 0.8358\n",
      "Epoch 320/400\n",
      "29/29 [==============================] - 0s 997us/step - loss: 0.8775 - val_loss: 0.8749\n",
      "Epoch 321/400\n",
      "29/29 [==============================] - 0s 963us/step - loss: 0.9139 - val_loss: 1.0002\n",
      "Epoch 322/400\n",
      "29/29 [==============================] - 0s 963us/step - loss: 0.8925 - val_loss: 0.8353\n",
      "Epoch 323/400\n",
      "29/29 [==============================] - 0s 997us/step - loss: 0.8567 - val_loss: 0.8560\n",
      "Epoch 324/400\n",
      "29/29 [==============================] - 0s 997us/step - loss: 0.8502 - val_loss: 0.8320\n",
      "Epoch 325/400\n",
      "29/29 [==============================] - 0s 963us/step - loss: 0.9157 - val_loss: 0.8272\n",
      "Epoch 326/400\n",
      "29/29 [==============================] - 0s 964us/step - loss: 0.8493 - val_loss: 0.8243\n",
      "Epoch 327/400\n",
      "29/29 [==============================] - 0s 997us/step - loss: 0.8471 - val_loss: 0.8481\n",
      "Epoch 328/400\n",
      "29/29 [==============================] - 0s 1ms/step - loss: 0.8983 - val_loss: 0.9355\n",
      "Epoch 329/400\n",
      "29/29 [==============================] - 0s 1ms/step - loss: 0.9419 - val_loss: 0.8207\n",
      "Epoch 330/400\n",
      "29/29 [==============================] - 0s 998us/step - loss: 0.8985 - val_loss: 0.8436\n",
      "Epoch 331/400\n",
      "29/29 [==============================] - 0s 929us/step - loss: 0.8602 - val_loss: 0.8238\n",
      "Epoch 332/400\n",
      "29/29 [==============================] - 0s 929us/step - loss: 0.8517 - val_loss: 0.8489\n",
      "Epoch 333/400\n",
      "29/29 [==============================] - 0s 963us/step - loss: 0.8630 - val_loss: 0.8455\n",
      "Epoch 334/400\n",
      "29/29 [==============================] - 0s 997us/step - loss: 0.8466 - val_loss: 0.8157\n",
      "Epoch 335/400\n",
      "29/29 [==============================] - 0s 997us/step - loss: 0.8564 - val_loss: 0.8959\n",
      "Epoch 336/400\n",
      "29/29 [==============================] - 0s 963us/step - loss: 0.8585 - val_loss: 0.8127\n",
      "Epoch 337/400\n",
      "29/29 [==============================] - 0s 997us/step - loss: 0.8342 - val_loss: 0.8071\n",
      "Epoch 338/400\n",
      "29/29 [==============================] - 0s 998us/step - loss: 0.8351 - val_loss: 0.8128\n",
      "Epoch 339/400\n",
      "29/29 [==============================] - 0s 1ms/step - loss: 0.8458 - val_loss: 0.8055\n",
      "Epoch 340/400\n",
      "29/29 [==============================] - 0s 1ms/step - loss: 0.8276 - val_loss: 0.8078\n",
      "Epoch 341/400\n",
      "29/29 [==============================] - 0s 963us/step - loss: 0.8293 - val_loss: 0.8049\n",
      "Epoch 342/400\n",
      "29/29 [==============================] - 0s 1ms/step - loss: 0.8406 - val_loss: 0.8149\n",
      "Epoch 343/400\n",
      "29/29 [==============================] - 0s 997us/step - loss: 0.8330 - val_loss: 0.8408\n",
      "Epoch 344/400\n",
      "29/29 [==============================] - 0s 1ms/step - loss: 0.8726 - val_loss: 0.8033\n",
      "Epoch 345/400\n",
      "29/29 [==============================] - 0s 963us/step - loss: 0.8299 - val_loss: 0.7999\n",
      "Epoch 346/400\n",
      "29/29 [==============================] - 0s 963us/step - loss: 0.8414 - val_loss: 0.8233\n",
      "Epoch 347/400\n",
      "29/29 [==============================] - 0s 963us/step - loss: 0.8434 - val_loss: 0.8233\n",
      "Epoch 348/400\n",
      "29/29 [==============================] - 0s 997us/step - loss: 0.8198 - val_loss: 0.8012\n",
      "Epoch 349/400\n",
      "29/29 [==============================] - 0s 1ms/step - loss: 0.8109 - val_loss: 0.8595\n",
      "Epoch 350/400\n",
      "29/29 [==============================] - 0s 929us/step - loss: 0.8298 - val_loss: 0.9145\n",
      "Epoch 351/400\n",
      "29/29 [==============================] - 0s 963us/step - loss: 0.8756 - val_loss: 0.7911\n",
      "Epoch 352/400\n",
      "29/29 [==============================] - 0s 1ms/step - loss: 0.8150 - val_loss: 0.7897\n",
      "Epoch 353/400\n",
      "29/29 [==============================] - 0s 962us/step - loss: 0.8188 - val_loss: 0.8204\n",
      "Epoch 354/400\n",
      "29/29 [==============================] - 0s 1ms/step - loss: 0.8140 - val_loss: 0.7857\n",
      "Epoch 355/400\n",
      "29/29 [==============================] - 0s 998us/step - loss: 0.8125 - val_loss: 0.8089\n",
      "Epoch 356/400\n",
      "29/29 [==============================] - 0s 997us/step - loss: 0.8103 - val_loss: 0.8830\n",
      "Epoch 357/400\n",
      "29/29 [==============================] - 0s 1ms/step - loss: 0.8439 - val_loss: 0.8663\n",
      "Epoch 358/400\n",
      "29/29 [==============================] - 0s 1ms/step - loss: 0.8841 - val_loss: 0.8792\n",
      "Epoch 359/400\n",
      "29/29 [==============================] - 0s 1ms/step - loss: 0.8174 - val_loss: 0.7796\n",
      "Epoch 360/400\n",
      "29/29 [==============================] - 0s 1ms/step - loss: 0.8203 - val_loss: 0.8181\n",
      "Epoch 361/400\n",
      "29/29 [==============================] - 0s 1ms/step - loss: 0.8027 - val_loss: 0.7785\n",
      "Epoch 362/400\n",
      "29/29 [==============================] - 0s 1ms/step - loss: 0.8030 - val_loss: 0.7866\n",
      "Epoch 363/400\n",
      "29/29 [==============================] - 0s 1ms/step - loss: 0.7921 - val_loss: 0.8577\n",
      "Epoch 364/400\n",
      "29/29 [==============================] - 0s 997us/step - loss: 0.7980 - val_loss: 0.8243\n",
      "Epoch 365/400\n",
      "29/29 [==============================] - 0s 997us/step - loss: 0.7990 - val_loss: 0.7735\n",
      "Epoch 366/400\n",
      "29/29 [==============================] - 0s 1ms/step - loss: 0.8008 - val_loss: 0.8176\n",
      "Epoch 367/400\n",
      "29/29 [==============================] - 0s 997us/step - loss: 0.8184 - val_loss: 0.7715\n",
      "Epoch 368/400\n",
      "29/29 [==============================] - 0s 964us/step - loss: 0.8544 - val_loss: 0.9974\n",
      "Epoch 369/400\n",
      "29/29 [==============================] - 0s 997us/step - loss: 0.8215 - val_loss: 0.7886\n",
      "Epoch 370/400\n",
      "29/29 [==============================] - 0s 963us/step - loss: 0.8019 - val_loss: 0.7674\n",
      "Epoch 371/400\n",
      "29/29 [==============================] - 0s 963us/step - loss: 0.7914 - val_loss: 0.7822\n",
      "Epoch 372/400\n",
      "29/29 [==============================] - 0s 1ms/step - loss: 0.7928 - val_loss: 0.7800\n",
      "Epoch 373/400\n",
      "29/29 [==============================] - 0s 929us/step - loss: 0.8307 - val_loss: 0.8440\n",
      "Epoch 374/400\n",
      "29/29 [==============================] - 0s 997us/step - loss: 0.8204 - val_loss: 0.8427\n",
      "Epoch 375/400\n",
      "29/29 [==============================] - 0s 963us/step - loss: 0.7929 - val_loss: 0.8282\n",
      "Epoch 376/400\n",
      "29/29 [==============================] - 0s 1ms/step - loss: 0.7990 - val_loss: 0.7617\n",
      "Epoch 377/400\n",
      "29/29 [==============================] - 0s 1ms/step - loss: 0.8025 - val_loss: 0.7653\n",
      "Epoch 378/400\n",
      "29/29 [==============================] - 0s 997us/step - loss: 0.7757 - val_loss: 0.7596\n",
      "Epoch 379/400\n",
      "29/29 [==============================] - 0s 1ms/step - loss: 0.7716 - val_loss: 0.7783\n",
      "Epoch 380/400\n",
      "29/29 [==============================] - 0s 1ms/step - loss: 0.7970 - val_loss: 0.7657\n",
      "Epoch 381/400\n",
      "29/29 [==============================] - 0s 929us/step - loss: 0.7929 - val_loss: 0.7602\n",
      "Epoch 382/400\n",
      "29/29 [==============================] - 0s 1ms/step - loss: 0.8095 - val_loss: 0.8807\n",
      "Epoch 383/400\n",
      "29/29 [==============================] - 0s 928us/step - loss: 0.8509 - val_loss: 0.7531\n",
      "Epoch 384/400\n",
      "29/29 [==============================] - 0s 997us/step - loss: 0.7905 - val_loss: 0.7838\n",
      "Epoch 385/400\n",
      "29/29 [==============================] - 0s 1ms/step - loss: 0.8008 - val_loss: 0.7771\n",
      "Epoch 386/400\n",
      "29/29 [==============================] - 0s 997us/step - loss: 0.7777 - val_loss: 0.7568\n",
      "Epoch 387/400\n",
      "29/29 [==============================] - 0s 997us/step - loss: 0.7780 - val_loss: 0.7519\n",
      "Epoch 388/400\n",
      "29/29 [==============================] - 0s 997us/step - loss: 0.7718 - val_loss: 0.8137\n",
      "Epoch 389/400\n",
      "29/29 [==============================] - 0s 1ms/step - loss: 0.7637 - val_loss: 0.7874\n",
      "Epoch 390/400\n",
      "29/29 [==============================] - 0s 997us/step - loss: 0.7869 - val_loss: 0.7839\n",
      "Epoch 391/400\n",
      "29/29 [==============================] - 0s 997us/step - loss: 0.7904 - val_loss: 0.7530\n",
      "Epoch 392/400\n",
      "29/29 [==============================] - 0s 1ms/step - loss: 0.8051 - val_loss: 0.7445\n",
      "Epoch 393/400\n",
      "29/29 [==============================] - 0s 1ms/step - loss: 0.7880 - val_loss: 0.7855\n",
      "Epoch 394/400\n",
      "29/29 [==============================] - 0s 1ms/step - loss: 0.7918 - val_loss: 0.7628\n",
      "Epoch 395/400\n",
      "29/29 [==============================] - 0s 1ms/step - loss: 0.7653 - val_loss: 0.7457\n",
      "Epoch 396/400\n",
      "29/29 [==============================] - 0s 1ms/step - loss: 0.7594 - val_loss: 0.7994\n",
      "Epoch 397/400\n",
      "29/29 [==============================] - 0s 1ms/step - loss: 0.7598 - val_loss: 0.9146\n",
      "Epoch 398/400\n",
      "29/29 [==============================] - 0s 1ms/step - loss: 0.7933 - val_loss: 0.7504\n",
      "Epoch 399/400\n"
     ]
    },
    {
     "name": "stdout",
     "output_type": "stream",
     "text": [
      "29/29 [==============================] - 0s 1ms/step - loss: 0.7698 - val_loss: 0.7449\n",
      "Epoch 400/400\n",
      "29/29 [==============================] - 0s 997us/step - loss: 0.7630 - val_loss: 0.7389\n"
     ]
    },
    {
     "data": {
      "text/plain": [
       "<tensorflow.python.keras.callbacks.History at 0x14c26018520>"
      ]
     },
     "execution_count": 371,
     "metadata": {},
     "output_type": "execute_result"
    }
   ],
   "source": [
    "model.fit(x=X_train, y=y_train, validation_data=(X_test, y_test), batch_size=128, epochs=400)"
   ]
  },
  {
   "cell_type": "code",
   "execution_count": 372,
   "metadata": {},
   "outputs": [
    {
     "data": {
      "text/plain": [
       "<matplotlib.axes._subplots.AxesSubplot at 0x14c31debf40>"
      ]
     },
     "execution_count": 372,
     "metadata": {},
     "output_type": "execute_result"
    },
    {
     "data": {
      "image/png": "[encoded data removed]",
      "text/plain": [
       "<Figure size 432x288 with 1 Axes>"
      ]
     },
     "metadata": {
      "needs_background": "light"
     },
     "output_type": "display_data"
    }
   ],
   "source": [
    "losses = pd.DataFrame(model.history.history)\n",
    "losses.plot()"
   ]
  },
  {
   "cell_type": "code",
   "execution_count": 373,
   "metadata": {},
   "outputs": [],
   "source": [
    "from sklearn.metrics import mean_squared_error, mean_absolute_error, explained_variance_score"
   ]
  },
  {
   "cell_type": "code",
   "execution_count": 374,
   "metadata": {},
   "outputs": [],
   "source": [
    "predictions = model.predict(X_test)"
   ]
  },
  {
   "cell_type": "code",
   "execution_count": 375,
   "metadata": {},
   "outputs": [
    {
     "data": {
      "text/plain": [
       "0.8595982983963649"
      ]
     },
     "execution_count": 375,
     "metadata": {},
     "output_type": "execute_result"
    }
   ],
   "source": [
    "np.sqrt(mean_squared_error(y_test, predictions))"
   ]
  },
  {
   "cell_type": "code",
   "execution_count": 376,
   "metadata": {},
   "outputs": [
    {
     "data": {
      "text/plain": [
       "0.5846210142216964"
      ]
     },
     "execution_count": 376,
     "metadata": {},
     "output_type": "execute_result"
    }
   ],
   "source": [
    "mean_absolute_error(y_test, predictions)"
   ]
  },
  {
   "cell_type": "code",
   "execution_count": 377,
   "metadata": {},
   "outputs": [
    {
     "data": {
      "text/plain": [
       "count    5235.000000\n",
       "mean      164.545774\n",
       "std        65.976871\n",
       "min        68.110001\n",
       "25%       116.494999\n",
       "50%       138.220001\n",
       "75%       206.699997\n",
       "max       362.570007\n",
       "Name: Close, dtype: float64"
      ]
     },
     "execution_count": 377,
     "metadata": {},
     "output_type": "execute_result"
    }
   ],
   "source": [
    "df['Close'].describe()"
   ]
  },
  {
   "cell_type": "code",
   "execution_count": 378,
   "metadata": {},
   "outputs": [
    {
     "data": {
      "text/plain": [
       "0.9998334437126383"
      ]
     },
     "execution_count": 378,
     "metadata": {},
     "output_type": "execute_result"
    }
   ],
   "source": [
    "explained_variance_score(y_test, predictions)"
   ]
  },
  {
   "cell_type": "code",
   "execution_count": 379,
   "metadata": {},
   "outputs": [
    {
     "data": {
      "text/plain": [
       "[<matplotlib.lines.Line2D at 0x14c32ed74c0>]"
      ]
     },
     "execution_count": 379,
     "metadata": {},
     "output_type": "execute_result"
    },
    {
     "data": {
      "image/png": "[encoded data removed]",
      "text/plain": [
       "<Figure size 720x432 with 1 Axes>"
      ]
     },
     "metadata": {
      "needs_background": "light"
     },
     "output_type": "display_data"
    }
   ],
   "source": [
    "plt.figure(figsize=(10, 6))\n",
    "plt.scatter(y_test, predictions)\n",
    "plt.plot(y_test, y_test, 'r')"
   ]
  },
  {
   "cell_type": "code",
   "execution_count": 380,
   "metadata": {},
   "outputs": [],
   "source": [
    "# TODO:: get day before data to predict current day\n",
    "start = pd.to_datetime('2020-11-24')\n",
    "end = pd.to_datetime('2020-11-24')\n",
    "single_day = data.DataReader('SPY', 'yahoo', start, end)"
   ]
  },
  {
   "cell_type": "code",
   "execution_count": 381,
   "metadata": {},
   "outputs": [],
   "source": [
    "single_day['Buy'] = single_day['Open'] < single_day['Close']"
   ]
  },
  {
   "cell_type": "code",
   "execution_count": 384,
   "metadata": {},
   "outputs": [
    {
     "data": {
      "text/plain": [
       "0   2020-11-24\n",
       "Name: Date, dtype: datetime64[ns]"
      ]
     },
     "execution_count": 384,
     "metadata": {},
     "output_type": "execute_result"
    }
   ],
   "source": [
    "single_day = single_day.reset_index()\n",
    "single_day['Date'] = pd.to_datetime(single_day['Date'])\n",
    "single_day['Date']"
   ]
  },
  {
   "cell_type": "code",
   "execution_count": 385,
   "metadata": {},
   "outputs": [],
   "source": [
    "single_day['year'] = single_day['Date'].apply(lambda date: date.year)\n",
    "single_day['month'] = single_day['Date'].apply(lambda date: date.month)"
   ]
  },
  {
   "cell_type": "code",
   "execution_count": 392,
   "metadata": {},
   "outputs": [
    {
     "data": {
      "text/html": [
       "<div>\n",
       "<style scoped>\n",
       "    .dataframe tbody tr th:only-of-type {\n",
       "        vertical-align: middle;\n",
       "    }\n",
       "\n",
       "    .dataframe tbody tr th {\n",
       "        vertical-align: top;\n",
       "    }\n",
       "\n",
       "    .dataframe thead th {\n",
       "        text-align: right;\n",
       "    }\n",
       "</style>\n",
       "<table border=\"1\" class=\"dataframe\">\n",
       "  <thead>\n",
       "    <tr style=\"text-align: right;\">\n",
       "      <th></th>\n",
       "      <th>level_0</th>\n",
       "      <th>index</th>\n",
       "      <th>Date</th>\n",
       "      <th>High</th>\n",
       "      <th>Low</th>\n",
       "      <th>Open</th>\n",
       "      <th>Close</th>\n",
       "      <th>Volume</th>\n",
       "      <th>Adj Close</th>\n",
       "      <th>Buy</th>\n",
       "      <th>year</th>\n",
       "      <th>month</th>\n",
       "    </tr>\n",
       "  </thead>\n",
       "  <tbody>\n",
       "    <tr>\n",
       "      <th>0</th>\n",
       "      <td>0</td>\n",
       "      <td>0</td>\n",
       "      <td>2020-11-24</td>\n",
       "      <td>363.809998</td>\n",
       "      <td>359.290009</td>\n",
       "      <td>360.209991</td>\n",
       "      <td>363.220001</td>\n",
       "      <td>62415900</td>\n",
       "      <td>363.220001</td>\n",
       "      <td>True</td>\n",
       "      <td>2020</td>\n",
       "      <td>11</td>\n",
       "    </tr>\n",
       "  </tbody>\n",
       "</table>\n",
       "</div>"
      ],
      "text/plain": [
       "   level_0  index       Date        High         Low        Open       Close  \\\n",
       "0        0      0 2020-11-24  363.809998  359.290009  360.209991  363.220001   \n",
       "\n",
       "     Volume   Adj Close   Buy  year  month  \n",
       "0  62415900  363.220001  True  2020     11  "
      ]
     },
     "execution_count": 392,
     "metadata": {},
     "output_type": "execute_result"
    }
   ],
   "source": []
  },
  {
   "cell_type": "code",
   "execution_count": 393,
   "metadata": {},
   "outputs": [],
   "source": [
    "single_day_close = single_day['Close']\n",
    "single_day = single_day[['High', 'Low', 'Open', 'Volume', 'Adj Close', 'Buy', 'year', 'month']]\n",
    "single_day = scaler.transform(single_day.values.reshape(-1, 8))"
   ]
  },
  {
   "cell_type": "code",
   "execution_count": 394,
   "metadata": {},
   "outputs": [
    {
     "data": {
      "text/plain": [
       "array([[363.05783]], dtype=float32)"
      ]
     },
     "execution_count": 394,
     "metadata": {},
     "output_type": "execute_result"
    }
   ],
   "source": [
    "model.predict(single_day)"
   ]
  },
  {
   "cell_type": "code",
   "execution_count": 395,
   "metadata": {},
   "outputs": [
    {
     "data": {
      "text/plain": [
       "0    363.220001\n",
       "Name: Close, dtype: float64"
      ]
     },
     "execution_count": 395,
     "metadata": {},
     "output_type": "execute_result"
    }
   ],
   "source": [
    "single_day_close"
   ]
  },
  {
   "cell_type": "code",
   "execution_count": null,
   "metadata": {},
   "outputs": [],
   "source": []
  }
 ],
 "metadata": {
  "kernelspec": {
   "display_name": "Python 3",
   "language": "python",
   "name": "python3"
  },
  "language_info": {
   "codemirror_mode": {
    "name": "ipython",
    "version": 3
   },
   "file_extension": ".py",
   "mimetype": "text/x-python",
   "name": "python",
   "nbconvert_exporter": "python",
   "pygments_lexer": "ipython3",
   "version": "3.8.3"
  }
 },
 "nbformat": 4,
 "nbformat_minor": 4
}
